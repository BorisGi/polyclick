{
 "cells": [
  {
   "cell_type": "markdown",
   "id": "a3c53ecf",
   "metadata": {},
   "source": [
    "Первичная чистка данных, убираю лишний текст, очищаю ссылки на соц.сети"
   ]
  },
  {
   "cell_type": "code",
   "execution_count": 1,
   "id": "b22f2738",
   "metadata": {},
   "outputs": [],
   "source": [
    "#Загружаю нужные библиотеки\n",
    "\n",
    "import pandas as pd\n",
    "\n",
    "# регулярки\n",
    "import re"
   ]
  },
  {
   "cell_type": "code",
   "execution_count": 2,
   "id": "bf9e31ea",
   "metadata": {},
   "outputs": [],
   "source": [
    "import os"
   ]
  },
  {
   "cell_type": "code",
   "execution_count": 3,
   "id": "d3990d90",
   "metadata": {},
   "outputs": [],
   "source": [
    "file_path = 'C:/00_Data/неразобр/03_stom/00_raw_data/med_aggrs_2021_12_dec/topdent/'"
   ]
  },
  {
   "cell_type": "code",
   "execution_count": 4,
   "id": "eddc2976",
   "metadata": {},
   "outputs": [],
   "source": [
    "# вытаскиваю названия файлов в список file_list\n",
    "\n",
    "file_list = []\n",
    "\n",
    "for root, dirs, files in os.walk(file_path):\n",
    "    \n",
    "    for filename in files:\n",
    "        file_list += [filename]"
   ]
  },
  {
   "cell_type": "code",
   "execution_count": 5,
   "id": "005dc5ac",
   "metadata": {},
   "outputs": [
    {
     "data": {
      "text/plain": [
       "['01_top_dent_msk.xlsx',\n",
       " '02_top_dent_spb.xlsx',\n",
       " '03_top_dent_nsk.xlsx',\n",
       " '04_top_dent_ekb.xlsx',\n",
       " '05_top_dent_kazan.xlsx',\n",
       " '06_top_dent_nn.xlsx',\n",
       " '07_top_dent_chelyabinsk.xlsx',\n",
       " '08_top_dent_samara.xlsx',\n",
       " '09_top_dent_omsk.xlsx',\n",
       " '10_top_dent_rostov_na_donu.xlsx',\n",
       " '11_top_dent_ufa.xlsx',\n",
       " '12_top_dent_krasnoyarsk.xlsx',\n",
       " '13_top_dent_voronezh.xlsx',\n",
       " '14_top_dent_perm.xlsx',\n",
       " '15_top_dent_volgograd.xlsx',\n",
       " '16_top_dent_krasnodar.xlsx',\n",
       " '17_top_dent_saratov.xlsx',\n",
       " '18_top_dent_togliatti.xlsx',\n",
       " '19_top_dent_barnaul.xlsx',\n",
       " '20_top_dent_izhevsk.xlsx',\n",
       " '21_top_dent_ulyanovsk.xlsx',\n",
       " '22_top_dent_vladivostok.xlsx',\n",
       " '23_top_dent_yaroslavl.xlsx',\n",
       " '24_top_dent_irkutsk.xlsx',\n",
       " '25_top_dent_tyumen.xlsx',\n",
       " '26_top_dent_makhachkala.xlsx',\n",
       " '27_top_dent_khabarovsk.xlsx',\n",
       " '28_top_dent_orenburg.xlsx']"
      ]
     },
     "execution_count": 5,
     "metadata": {},
     "output_type": "execute_result"
    }
   ],
   "source": [
    "file_list"
   ]
  },
  {
   "cell_type": "code",
   "execution_count": null,
   "id": "ff4340d1",
   "metadata": {},
   "outputs": [],
   "source": []
  },
  {
   "cell_type": "code",
   "execution_count": null,
   "id": "63552fbc",
   "metadata": {},
   "outputs": [],
   "source": []
  },
  {
   "cell_type": "code",
   "execution_count": null,
   "id": "8e0b157e",
   "metadata": {},
   "outputs": [],
   "source": [
    "# отбираю нужные файлы\n",
    "\n",
    "file_data_list = []\n",
    "\n",
    "for item in file_list:\n",
    "    if 'top_dent' in item:\n",
    "        file_data_list += [item]"
   ]
  },
  {
   "cell_type": "code",
   "execution_count": null,
   "id": "a18f4359",
   "metadata": {},
   "outputs": [],
   "source": [
    "file_data_list"
   ]
  },
  {
   "cell_type": "code",
   "execution_count": 7,
   "id": "ed470b36",
   "metadata": {},
   "outputs": [],
   "source": [
    "# объединяю файлы\n",
    "\n",
    "top_dent = pd.DataFrame() # новый датафрейм\n",
    "\n",
    "for file in file_list:\n",
    "\n",
    "    top_dent = top_dent.append( # добавляю файлы циклом\n",
    "        pd.read_excel(file_path + file)\n",
    "    )     \n",
    "    "
   ]
  },
  {
   "cell_type": "code",
   "execution_count": 8,
   "id": "74d6bcab",
   "metadata": {},
   "outputs": [
    {
     "data": {
      "text/plain": [
       "(10489, 13)"
      ]
     },
     "execution_count": 8,
     "metadata": {},
     "output_type": "execute_result"
    }
   ],
   "source": [
    "top_dent.shape"
   ]
  },
  {
   "cell_type": "code",
   "execution_count": 9,
   "id": "4eb7f694",
   "metadata": {},
   "outputs": [],
   "source": [
    "top_dent.drop_duplicates(inplace=True)"
   ]
  },
  {
   "cell_type": "code",
   "execution_count": 10,
   "id": "4565ae13",
   "metadata": {},
   "outputs": [
    {
     "data": {
      "text/plain": [
       "(10413, 13)"
      ]
     },
     "execution_count": 10,
     "metadata": {},
     "output_type": "execute_result"
    }
   ],
   "source": [
    "top_dent.shape"
   ]
  },
  {
   "cell_type": "code",
   "execution_count": 11,
   "id": "e4d414d3",
   "metadata": {},
   "outputs": [
    {
     "data": {
      "text/html": [
       "<div>\n",
       "<style scoped>\n",
       "    .dataframe tbody tr th:only-of-type {\n",
       "        vertical-align: middle;\n",
       "    }\n",
       "\n",
       "    .dataframe tbody tr th {\n",
       "        vertical-align: top;\n",
       "    }\n",
       "\n",
       "    .dataframe thead th {\n",
       "        text-align: right;\n",
       "    }\n",
       "</style>\n",
       "<table border=\"1\" class=\"dataframe\">\n",
       "  <thead>\n",
       "    <tr style=\"text-align: right;\">\n",
       "      <th></th>\n",
       "      <th>clinic</th>\n",
       "      <th>address</th>\n",
       "      <th>metro_stations</th>\n",
       "      <th>verified</th>\n",
       "      <th>td_rec</th>\n",
       "      <th>web_site</th>\n",
       "      <th>phone</th>\n",
       "      <th>work_hours</th>\n",
       "      <th>description</th>\n",
       "      <th>price_segment</th>\n",
       "      <th>clinic_score</th>\n",
       "      <th>score_number</th>\n",
       "      <th>clinic_page</th>\n",
       "    </tr>\n",
       "  </thead>\n",
       "  <tbody>\n",
       "    <tr>\n",
       "      <th>2966</th>\n",
       "      <td>Clinic in</td>\n",
       "      <td>Москва, переулок Сеченовский, д. 2</td>\n",
       "      <td>['Кропоткинская', 'Парк культуры']</td>\n",
       "      <td>none</td>\n",
       "      <td>NaN</td>\n",
       "      <td>https://clinicin.ru</td>\n",
       "      <td>(495) 222-24-20</td>\n",
       "      <td>['Пн', 'с 9:00 до 21:00', 'Вт', 'с 9:00 до 21:...</td>\n",
       "      <td>Стоматологический центр CLINIC IN (Клиник Ин) ...</td>\n",
       "      <td>ОПТИМУМ</td>\n",
       "      <td>none</td>\n",
       "      <td>none</td>\n",
       "      <td>https://topdent.ru/clinics/clinic-in/</td>\n",
       "    </tr>\n",
       "    <tr>\n",
       "      <th>907</th>\n",
       "      <td>Профмедпомощь</td>\n",
       "      <td>Москва, улица Минусинская, д. 3</td>\n",
       "      <td>['Бабушкинская']</td>\n",
       "      <td>none</td>\n",
       "      <td>NaN</td>\n",
       "      <td>https://profmedhelp.ru</td>\n",
       "      <td>(499) 653-63-42</td>\n",
       "      <td>['Пн', 'с 7:00 до 20:00', 'Вт', 'с 7:00 до 20:...</td>\n",
       "      <td>Стоматологическое отделение в лечебно-диагност...</td>\n",
       "      <td>ЭКОНОМ</td>\n",
       "      <td>4.6</td>\n",
       "      <td>72 отзыва</td>\n",
       "      <td>https://topdent.ru/clinics/profmedpomoshch/</td>\n",
       "    </tr>\n",
       "    <tr>\n",
       "      <th>190</th>\n",
       "      <td>Ю.С.А.-стоматология</td>\n",
       "      <td>Новосибирск, Сибиряков-Гвардейцев, 22, 1 этаж</td>\n",
       "      <td>['площадь Карла Маркса']</td>\n",
       "      <td>none</td>\n",
       "      <td>NaN</td>\n",
       "      <td>https://usa-stom.ru</td>\n",
       "      <td>(913) 758-34-58</td>\n",
       "      <td>['Пн', 'с 9:00 до 20:00', 'Вт', 'с 9:00 до 20:...</td>\n",
       "      <td>none</td>\n",
       "      <td>ЭКОНОМ</td>\n",
       "      <td>none</td>\n",
       "      <td>none</td>\n",
       "      <td>https://topdent.ru/nsk/clinics/yu-s-a-stomatol...</td>\n",
       "    </tr>\n",
       "    <tr>\n",
       "      <th>2942</th>\n",
       "      <td>Стоматологическая поликлиника № 53</td>\n",
       "      <td>Москва, Архангельский переулок, д. 17</td>\n",
       "      <td>['Сретенский бульвар', 'Тургеневская', 'Чистые...</td>\n",
       "      <td>none</td>\n",
       "      <td>NaN</td>\n",
       "      <td>https://sp53.mos.ru</td>\n",
       "      <td>+749 511 15-35-33</td>\n",
       "      <td>['Пн', 'с 8:00 до 20:00', 'Вт', 'с 8:00 до 20:...</td>\n",
       "      <td>none</td>\n",
       "      <td>ЭКОНОМ</td>\n",
       "      <td>none</td>\n",
       "      <td>none</td>\n",
       "      <td>https://topdent.ru/clinics/stomatologicheskaya...</td>\n",
       "    </tr>\n",
       "    <tr>\n",
       "      <th>262</th>\n",
       "      <td>Женский центр</td>\n",
       "      <td>Нижний Новгород, ул. Большая Печёрская, д. 28</td>\n",
       "      <td>['Горьковская']</td>\n",
       "      <td>none</td>\n",
       "      <td>NaN</td>\n",
       "      <td>https://wcentre.r52.ru</td>\n",
       "      <td>(831) 260-10-03</td>\n",
       "      <td>['Пн', 'с 8:00 до 20:00', 'Вт', 'с 8:00 до 20:...</td>\n",
       "      <td>none</td>\n",
       "      <td>ЭКОНОМ</td>\n",
       "      <td>3.5</td>\n",
       "      <td>6 отзывов</td>\n",
       "      <td>https://topdent.ru/nn/clinics/zhenskiy-tsentr3/</td>\n",
       "    </tr>\n",
       "    <tr>\n",
       "      <th>275</th>\n",
       "      <td>Канадский Центр Инновационной Стоматологии</td>\n",
       "      <td>Москва, улица Спиридоновка, д. 27/24</td>\n",
       "      <td>['Баррикадная', 'Краснопресненская', 'Маяковск...</td>\n",
       "      <td>none</td>\n",
       "      <td>NaN</td>\n",
       "      <td>https://dentalcanada.ru</td>\n",
       "      <td>(495) 641-30-03</td>\n",
       "      <td>['Пн', 'с 10:00 до 21:00', 'Вт', 'с 10:00 до 2...</td>\n",
       "      <td>Неподалеку от станции метро «Баррикадная» расп...</td>\n",
       "      <td>ОПТИМУМ</td>\n",
       "      <td>4.8</td>\n",
       "      <td>8 отзывов</td>\n",
       "      <td>https://topdent.ru/clinics/kanadskiy-tsentr-in...</td>\n",
       "    </tr>\n",
       "    <tr>\n",
       "      <th>78</th>\n",
       "      <td>Доктор Зубоff</td>\n",
       "      <td>Хабаровск, Оборонная, 8, 1 этаж</td>\n",
       "      <td>none</td>\n",
       "      <td>none</td>\n",
       "      <td>NaN</td>\n",
       "      <td>https://zuboff27.ru</td>\n",
       "      <td>none</td>\n",
       "      <td>['Пн', 'с 9:00 до 17:00', 'Вт', 'с 9:00 до 17:...</td>\n",
       "      <td>none</td>\n",
       "      <td>ЭКОНОМ</td>\n",
       "      <td>none</td>\n",
       "      <td>none</td>\n",
       "      <td>https://topdent.ru/khabarovsk/clinics/doktor-z...</td>\n",
       "    </tr>\n",
       "    <tr>\n",
       "      <th>1046</th>\n",
       "      <td>Зуб Мудрости</td>\n",
       "      <td>Москва, проезд Сумской, д. 5, корп. 4</td>\n",
       "      <td>['Чертановская']</td>\n",
       "      <td>none</td>\n",
       "      <td>NaN</td>\n",
       "      <td>https://www.zub8.ru</td>\n",
       "      <td>(495) 379-99-13</td>\n",
       "      <td>['Пн', 'с 10:00 до 20:00', 'Вт', 'с 10:00 до 2...</td>\n",
       "      <td>Стоматология Зуб Мудрости в Северном Чертаново...</td>\n",
       "      <td>ЭКОНОМ</td>\n",
       "      <td>4.6</td>\n",
       "      <td>9 отзывов</td>\n",
       "      <td>https://topdent.ru/clinics/zub-mudrosti2/</td>\n",
       "    </tr>\n",
       "    <tr>\n",
       "      <th>928</th>\n",
       "      <td>Univer Stom</td>\n",
       "      <td>Санкт-Петербург, Римского-Корсакова проспект, ...</td>\n",
       "      <td>['Технологический институт', 'Балтийская', 'Сп...</td>\n",
       "      <td>none</td>\n",
       "      <td>NaN</td>\n",
       "      <td>https://univer-stom.obiz.ru</td>\n",
       "      <td>(812) 909-03-75</td>\n",
       "      <td>['Пн', 'выходной', 'Вт', 'выходной', 'Ср', 'вы...</td>\n",
       "      <td>none</td>\n",
       "      <td>ЭКОНОМ</td>\n",
       "      <td>4.2</td>\n",
       "      <td>4 отзыва</td>\n",
       "      <td>https://topdent.ru/spb/clinics/univer-stom/</td>\n",
       "    </tr>\n",
       "    <tr>\n",
       "      <th>40</th>\n",
       "      <td>МегаДент</td>\n",
       "      <td>Красноярск, Советский район, микрорайон Северн...</td>\n",
       "      <td>none</td>\n",
       "      <td>none</td>\n",
       "      <td>NaN</td>\n",
       "      <td>https://megadent24.ru</td>\n",
       "      <td>(391) 202-66-26</td>\n",
       "      <td>['Пн', 'с 9:00 до 20:00', 'Вт', 'с 9:00 до 20:...</td>\n",
       "      <td>none</td>\n",
       "      <td>ЭКОНОМ</td>\n",
       "      <td>4.6</td>\n",
       "      <td>2 отзыва</td>\n",
       "      <td>https://topdent.ru/krasnoyarsk/clinics/megadent2/</td>\n",
       "    </tr>\n",
       "  </tbody>\n",
       "</table>\n",
       "</div>"
      ],
      "text/plain": [
       "                                          clinic  \\\n",
       "2966                                   Clinic in   \n",
       "907                                Профмедпомощь   \n",
       "190                          Ю.С.А.-стоматология   \n",
       "2942          Стоматологическая поликлиника № 53   \n",
       "262                                Женский центр   \n",
       "275   Канадский Центр Инновационной Стоматологии   \n",
       "78                                 Доктор Зубоff   \n",
       "1046                                Зуб Мудрости   \n",
       "928                                  Univer Stom   \n",
       "40                                      МегаДент   \n",
       "\n",
       "                                                address  \\\n",
       "2966                 Москва, переулок Сеченовский, д. 2   \n",
       "907                     Москва, улица Минусинская, д. 3   \n",
       "190       Новосибирск, Сибиряков-Гвардейцев, 22, 1 этаж   \n",
       "2942              Москва, Архангельский переулок, д. 17   \n",
       "262       Нижний Новгород, ул. Большая Печёрская, д. 28   \n",
       "275                Москва, улица Спиридоновка, д. 27/24   \n",
       "78                      Хабаровск, Оборонная, 8, 1 этаж   \n",
       "1046              Москва, проезд Сумской, д. 5, корп. 4   \n",
       "928   Санкт-Петербург, Римского-Корсакова проспект, ...   \n",
       "40    Красноярск, Советский район, микрорайон Северн...   \n",
       "\n",
       "                                         metro_stations verified td_rec  \\\n",
       "2966                 ['Кропоткинская', 'Парк культуры']     none    NaN   \n",
       "907                                    ['Бабушкинская']     none    NaN   \n",
       "190                            ['площадь Карла Маркса']     none    NaN   \n",
       "2942  ['Сретенский бульвар', 'Тургеневская', 'Чистые...     none    NaN   \n",
       "262                                     ['Горьковская']     none    NaN   \n",
       "275   ['Баррикадная', 'Краснопресненская', 'Маяковск...     none    NaN   \n",
       "78                                                 none     none    NaN   \n",
       "1046                                   ['Чертановская']     none    NaN   \n",
       "928   ['Технологический институт', 'Балтийская', 'Сп...     none    NaN   \n",
       "40                                                 none     none    NaN   \n",
       "\n",
       "                         web_site              phone  \\\n",
       "2966          https://clinicin.ru    (495) 222-24-20   \n",
       "907        https://profmedhelp.ru    (499) 653-63-42   \n",
       "190           https://usa-stom.ru    (913) 758-34-58   \n",
       "2942          https://sp53.mos.ru  +749 511 15-35-33   \n",
       "262        https://wcentre.r52.ru    (831) 260-10-03   \n",
       "275       https://dentalcanada.ru    (495) 641-30-03   \n",
       "78            https://zuboff27.ru               none   \n",
       "1046          https://www.zub8.ru    (495) 379-99-13   \n",
       "928   https://univer-stom.obiz.ru    (812) 909-03-75   \n",
       "40          https://megadent24.ru    (391) 202-66-26   \n",
       "\n",
       "                                             work_hours  \\\n",
       "2966  ['Пн', 'с 9:00 до 21:00', 'Вт', 'с 9:00 до 21:...   \n",
       "907   ['Пн', 'с 7:00 до 20:00', 'Вт', 'с 7:00 до 20:...   \n",
       "190   ['Пн', 'с 9:00 до 20:00', 'Вт', 'с 9:00 до 20:...   \n",
       "2942  ['Пн', 'с 8:00 до 20:00', 'Вт', 'с 8:00 до 20:...   \n",
       "262   ['Пн', 'с 8:00 до 20:00', 'Вт', 'с 8:00 до 20:...   \n",
       "275   ['Пн', 'с 10:00 до 21:00', 'Вт', 'с 10:00 до 2...   \n",
       "78    ['Пн', 'с 9:00 до 17:00', 'Вт', 'с 9:00 до 17:...   \n",
       "1046  ['Пн', 'с 10:00 до 20:00', 'Вт', 'с 10:00 до 2...   \n",
       "928   ['Пн', 'выходной', 'Вт', 'выходной', 'Ср', 'вы...   \n",
       "40    ['Пн', 'с 9:00 до 20:00', 'Вт', 'с 9:00 до 20:...   \n",
       "\n",
       "                                            description price_segment  \\\n",
       "2966  Стоматологический центр CLINIC IN (Клиник Ин) ...       ОПТИМУМ   \n",
       "907   Стоматологическое отделение в лечебно-диагност...        ЭКОНОМ   \n",
       "190                                                none        ЭКОНОМ   \n",
       "2942                                               none        ЭКОНОМ   \n",
       "262                                                none        ЭКОНОМ   \n",
       "275   Неподалеку от станции метро «Баррикадная» расп...       ОПТИМУМ   \n",
       "78                                                 none        ЭКОНОМ   \n",
       "1046  Стоматология Зуб Мудрости в Северном Чертаново...        ЭКОНОМ   \n",
       "928                                                none        ЭКОНОМ   \n",
       "40                                                 none        ЭКОНОМ   \n",
       "\n",
       "     clinic_score score_number  \\\n",
       "2966         none         none   \n",
       "907           4.6    72 отзыва   \n",
       "190          none         none   \n",
       "2942         none         none   \n",
       "262           3.5    6 отзывов   \n",
       "275           4.8    8 отзывов   \n",
       "78           none         none   \n",
       "1046          4.6    9 отзывов   \n",
       "928           4.2     4 отзыва   \n",
       "40            4.6     2 отзыва   \n",
       "\n",
       "                                            clinic_page  \n",
       "2966              https://topdent.ru/clinics/clinic-in/  \n",
       "907         https://topdent.ru/clinics/profmedpomoshch/  \n",
       "190   https://topdent.ru/nsk/clinics/yu-s-a-stomatol...  \n",
       "2942  https://topdent.ru/clinics/stomatologicheskaya...  \n",
       "262     https://topdent.ru/nn/clinics/zhenskiy-tsentr3/  \n",
       "275   https://topdent.ru/clinics/kanadskiy-tsentr-in...  \n",
       "78    https://topdent.ru/khabarovsk/clinics/doktor-z...  \n",
       "1046          https://topdent.ru/clinics/zub-mudrosti2/  \n",
       "928         https://topdent.ru/spb/clinics/univer-stom/  \n",
       "40    https://topdent.ru/krasnoyarsk/clinics/megadent2/  "
      ]
     },
     "execution_count": 11,
     "metadata": {},
     "output_type": "execute_result"
    }
   ],
   "source": [
    "top_dent.sample(10)"
   ]
  },
  {
   "cell_type": "code",
   "execution_count": null,
   "id": "1bfea247",
   "metadata": {},
   "outputs": [],
   "source": [
    "top_dent"
   ]
  },
  {
   "cell_type": "code",
   "execution_count": null,
   "id": "646aacaa",
   "metadata": {},
   "outputs": [],
   "source": []
  },
  {
   "cell_type": "code",
   "execution_count": null,
   "id": "026907be",
   "metadata": {},
   "outputs": [],
   "source": [
    "file_list"
   ]
  },
  {
   "cell_type": "code",
   "execution_count": null,
   "id": "ff6910d5",
   "metadata": {},
   "outputs": [],
   "source": [
    "top_dent_urls = pd.read_excel(file_path + 'topdent_urls.xlsx')"
   ]
  },
  {
   "cell_type": "code",
   "execution_count": null,
   "id": "32d726b2",
   "metadata": {},
   "outputs": [],
   "source": [
    "top_dent_urls.shape"
   ]
  },
  {
   "cell_type": "code",
   "execution_count": null,
   "id": "ed64d1b4",
   "metadata": {},
   "outputs": [],
   "source": [
    "top_dent.head(1)"
   ]
  },
  {
   "cell_type": "code",
   "execution_count": null,
   "id": "ada9350f",
   "metadata": {},
   "outputs": [],
   "source": [
    "top_dent_urls.head(1)"
   ]
  },
  {
   "cell_type": "code",
   "execution_count": null,
   "id": "62b193ee",
   "metadata": {},
   "outputs": [],
   "source": [
    "top_dent = top_dent.merge(top_dent_urls, how='left', on='clinic_page')"
   ]
  },
  {
   "cell_type": "code",
   "execution_count": null,
   "id": "f36d5cee",
   "metadata": {},
   "outputs": [],
   "source": [
    "top_dent.columns"
   ]
  },
  {
   "cell_type": "code",
   "execution_count": null,
   "id": "03712697",
   "metadata": {},
   "outputs": [],
   "source": [
    "top_dent = top_dent[['clinic',\n",
    "    'address', 'metro_stations',\n",
    "    'phone', 'web_site',\n",
    "    'work_hours', 'description',\n",
    "    'verified', 'td_rec',\n",
    "    'price_segment',\n",
    "    'clinic_score', 'score_number',\n",
    "    'clinic_page']]"
   ]
  },
  {
   "cell_type": "code",
   "execution_count": null,
   "id": "354d11b6",
   "metadata": {},
   "outputs": [],
   "source": [
    "top_dent.sample(3)"
   ]
  },
  {
   "cell_type": "code",
   "execution_count": 12,
   "id": "1dd6dc42",
   "metadata": {},
   "outputs": [],
   "source": [
    "top_dent.to_excel(file_path + 'top_dent.xlsx', index=False)"
   ]
  },
  {
   "cell_type": "code",
   "execution_count": null,
   "id": "bcfc4877",
   "metadata": {},
   "outputs": [],
   "source": []
  }
 ],
 "metadata": {
  "kernelspec": {
   "display_name": "Python 3",
   "language": "python",
   "name": "python3"
  },
  "language_info": {
   "codemirror_mode": {
    "name": "ipython",
    "version": 3
   },
   "file_extension": ".py",
   "mimetype": "text/x-python",
   "name": "python",
   "nbconvert_exporter": "python",
   "pygments_lexer": "ipython3",
   "version": "3.8.8"
  }
 },
 "nbformat": 4,
 "nbformat_minor": 5
}
