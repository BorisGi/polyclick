{
 "cells": [
  {
   "cell_type": "markdown",
   "id": "a3c53ecf",
   "metadata": {},
   "source": [
    "Первичная чистка данных, убираю лишний текст, очищаю ссылки на соц.сети"
   ]
  },
  {
   "cell_type": "code",
   "execution_count": 23,
   "id": "b22f2738",
   "metadata": {},
   "outputs": [],
   "source": [
    "#Загружаю нужные библиотеки\n",
    "\n",
    "import pandas as pd\n",
    "\n",
    "# регулярки\n",
    "import re\n",
    "\n",
    "# для юзер-агента\n",
    "from fake_useragent import UserAgent\n",
    "\n",
    "# прогресс-бар\n",
    "from tqdm.notebook import trange, tqdm\n",
    "\n",
    "# для пауз при парсинге\n",
    "from time import sleep\n",
    "\n",
    "# для запросов\n",
    "import urllib3\n",
    "\n",
    "# селениум\n",
    "from selenium import webdriver\n",
    "\n",
    "from selenium.common.exceptions import NoSuchElementException\n",
    "from selenium.webdriver.common.by import By\n",
    "from selenium.webdriver.support.ui import WebDriverWait\n",
    "from selenium.webdriver.support import expected_conditions as EC"
   ]
  },
  {
   "cell_type": "code",
   "execution_count": 24,
   "id": "4025e768",
   "metadata": {},
   "outputs": [],
   "source": [
    "# настройки юзер-агента\n",
    "\n",
    "ua = UserAgent()\n",
    "\n",
    "# юзер-агент для Хрома\n",
    "user_agent = ua.chrome"
   ]
  },
  {
   "cell_type": "code",
   "execution_count": 25,
   "id": "3ad71360",
   "metadata": {},
   "outputs": [],
   "source": [
    "# тестовая страница для Селениума\n",
    "\n",
    "test_url = 'https://intoli.com/blog/not-possible-to-block-chrome-headless/chrome-headless-test.html'"
   ]
  },
  {
   "cell_type": "code",
   "execution_count": 26,
   "id": "0797b294",
   "metadata": {},
   "outputs": [],
   "source": [
    "# настройки веб-драйвера, чтобы скрыть автоматическое управление\n",
    "\n",
    "opt = webdriver.ChromeOptions()\n",
    "opt.add_argument(f'user-agent={user_agent}')\n",
    "opt.add_argument('--disable-blink-features')\n",
    "opt.add_argument('--disable-blink-features=AutomationControlled')\n",
    "#opt.add_argument('--proxy-server=193.32.191.161:45785') # \"девственный\" прокси(:\n",
    "opt.add_experimental_option(\"excludeSwitches\", [\"enable-automation\"]) # отключает строку про удаленное управление\n",
    "opt.add_experimental_option('useAutomationExtension', False)"
   ]
  },
  {
   "cell_type": "code",
   "execution_count": 27,
   "id": "332b3963",
   "metadata": {},
   "outputs": [],
   "source": [
    "# настройки urllib\n",
    "\n",
    "http = urllib3.PoolManager()\n",
    "headers = urllib3.make_headers(keep_alive=True, user_agent=user_agent)"
   ]
  },
  {
   "cell_type": "code",
   "execution_count": 28,
   "id": "dacd0992",
   "metadata": {},
   "outputs": [],
   "source": [
    "# запускаю драйвер, проверяю настройки\n",
    "\n",
    "#driver = webdriver.Chrome(options=opt)\n",
    "#driver.get(test_url)"
   ]
  },
  {
   "cell_type": "code",
   "execution_count": 29,
   "id": "6099de3a",
   "metadata": {},
   "outputs": [],
   "source": [
    "work = pd.read_excel('C:/Data/data_stom.xlsx', sheet_name='data')"
   ]
  },
  {
   "cell_type": "code",
   "execution_count": 30,
   "id": "b5eb59d5",
   "metadata": {},
   "outputs": [
    {
     "data": {
      "text/html": [
       "<div>\n",
       "<style scoped>\n",
       "    .dataframe tbody tr th:only-of-type {\n",
       "        vertical-align: middle;\n",
       "    }\n",
       "\n",
       "    .dataframe tbody tr th {\n",
       "        vertical-align: top;\n",
       "    }\n",
       "\n",
       "    .dataframe thead th {\n",
       "        text-align: right;\n",
       "    }\n",
       "</style>\n",
       "<table border=\"1\" class=\"dataframe\">\n",
       "  <thead>\n",
       "    <tr style=\"text-align: right;\">\n",
       "      <th></th>\n",
       "      <th>page_url</th>\n",
       "      <th>object_name</th>\n",
       "      <th>address</th>\n",
       "      <th>phone</th>\n",
       "      <th>hours</th>\n",
       "      <th>website</th>\n",
       "      <th>social_network</th>\n",
       "      <th>fb_link</th>\n",
       "      <th>inst_link</th>\n",
       "      <th>vk_link</th>\n",
       "      <th>...</th>\n",
       "      <th>clinic_rating</th>\n",
       "      <th>review_number</th>\n",
       "      <th>description</th>\n",
       "      <th>clinic_info</th>\n",
       "      <th>doc_pics</th>\n",
       "      <th>specialists_dict</th>\n",
       "      <th>price</th>\n",
       "      <th>services</th>\n",
       "      <th>contacts</th>\n",
       "      <th>soc_links</th>\n",
       "    </tr>\n",
       "  </thead>\n",
       "  <tbody>\n",
       "    <tr>\n",
       "      <th>0</th>\n",
       "      <td>https://zoon.ru/msk/medical/stomatologicheskay...</td>\n",
       "      <td>Ника Орто</td>\n",
       "      <td>Москва, к1126, Зеленоград</td>\n",
       "      <td>89660326559</td>\n",
       "      <td>Пн-Чт, Сб-Вс: 10:00—20:00 и до последнего клие...</td>\n",
       "      <td>none</td>\n",
       "      <td>none</td>\n",
       "      <td>none</td>\n",
       "      <td>none</td>\n",
       "      <td>none</td>\n",
       "      <td>...</td>\n",
       "      <td>4.4</td>\n",
       "      <td>21 отзыв</td>\n",
       "      <td>Гордиться улыбкой, без стеснения дарить ее окр...</td>\n",
       "      <td>['Юридическое название: ООО \"Ника Денталь\"']</td>\n",
       "      <td>3</td>\n",
       "      <td>{'Мадина Болатовна Сатыбалова ': ['Стаж 14 лет...</td>\n",
       "      <td>{'Лечение кариеса': '500—7000', 'Удаление зубо...</td>\n",
       "      <td>{'Тип мед. учреждения': 'стоматологическая кли...</td>\n",
       "      <td>{'Время работы': ['Пн-Чт, Сб-Вс: 10:00—20:00 и...</td>\n",
       "      <td>none</td>\n",
       "    </tr>\n",
       "    <tr>\n",
       "      <th>1</th>\n",
       "      <td>https://zoon.ru/msk/medical/stomatologicheskay...</td>\n",
       "      <td>Никор</td>\n",
       "      <td>Москва, к1204, Зеленоград</td>\n",
       "      <td>89680404512</td>\n",
       "      <td>Пн-Пт: 08:00—20:00\\nпн-пт с 08:00 до 20:00, об...</td>\n",
       "      <td>none</td>\n",
       "      <td>none</td>\n",
       "      <td>none</td>\n",
       "      <td>none</td>\n",
       "      <td>none</td>\n",
       "      <td>...</td>\n",
       "      <td>4.3</td>\n",
       "      <td>24 отзыва</td>\n",
       "      <td>Ищете стоматологию в Зеленограде, чтобы решить...</td>\n",
       "      <td>none</td>\n",
       "      <td>8</td>\n",
       "      <td>{'Ильшат Ильгизарович Магфурзянов ': ['Стаж 17...</td>\n",
       "      <td>{'Лечение кариеса': '≈ 4000', 'Удаление зубов'...</td>\n",
       "      <td>{'Тип мед. учреждения': 'стоматологическая кли...</td>\n",
       "      <td>{'Адреса сети': ['Вся сеть Никор, группа компа...</td>\n",
       "      <td>none</td>\n",
       "    </tr>\n",
       "    <tr>\n",
       "      <th>2</th>\n",
       "      <td>https://zoon.ru/msk/medical/klinika_aksis_v_ze...</td>\n",
       "      <td>Клиника Аксис</td>\n",
       "      <td>Москва, к1130, Зеленоград</td>\n",
       "      <td>89261847920</td>\n",
       "      <td>Пн-Пт: 08:00—20:00; Сб-Вс: 09:00—18:00\\nАксис ...</td>\n",
       "      <td>none</td>\n",
       "      <td>none</td>\n",
       "      <td>none</td>\n",
       "      <td>none</td>\n",
       "      <td>none</td>\n",
       "      <td>...</td>\n",
       "      <td>4.0</td>\n",
       "      <td>182 отзыва</td>\n",
       "      <td>Клиника «Аксис» является многопрофильным медиц...</td>\n",
       "      <td>['Юридическое название: ООО \"АКСИС\"']</td>\n",
       "      <td>7</td>\n",
       "      <td>{'Сергей Анатольевич Гурин ': ['Стаж 14 лет', ...</td>\n",
       "      <td>{'Консультация акушера-гинеколога': '1900—2300...</td>\n",
       "      <td>{'Тип мед. учреждения': 'детская поликлиника, ...</td>\n",
       "      <td>{'Адреса сети': ['Вся сеть Аксис, сеть многопр...</td>\n",
       "      <td>none</td>\n",
       "    </tr>\n",
       "  </tbody>\n",
       "</table>\n",
       "<p>3 rows × 23 columns</p>\n",
       "</div>"
      ],
      "text/plain": [
       "                                            page_url    object_name  \\\n",
       "0  https://zoon.ru/msk/medical/stomatologicheskay...      Ника Орто   \n",
       "1  https://zoon.ru/msk/medical/stomatologicheskay...          Никор   \n",
       "2  https://zoon.ru/msk/medical/klinika_aksis_v_ze...  Клиника Аксис   \n",
       "\n",
       "                     address        phone  \\\n",
       "0  Москва, к1126, Зеленоград  89660326559   \n",
       "1  Москва, к1204, Зеленоград  89680404512   \n",
       "2  Москва, к1130, Зеленоград  89261847920   \n",
       "\n",
       "                                               hours website social_network  \\\n",
       "0  Пн-Чт, Сб-Вс: 10:00—20:00 и до последнего клие...    none           none   \n",
       "1  Пн-Пт: 08:00—20:00\\nпн-пт с 08:00 до 20:00, об...    none           none   \n",
       "2  Пн-Пт: 08:00—20:00; Сб-Вс: 09:00—18:00\\nАксис ...    none           none   \n",
       "\n",
       "  fb_link inst_link vk_link  ... clinic_rating review_number  \\\n",
       "0    none      none    none  ...           4.4      21 отзыв   \n",
       "1    none      none    none  ...           4.3     24 отзыва   \n",
       "2    none      none    none  ...           4.0    182 отзыва   \n",
       "\n",
       "                                         description  \\\n",
       "0  Гордиться улыбкой, без стеснения дарить ее окр...   \n",
       "1  Ищете стоматологию в Зеленограде, чтобы решить...   \n",
       "2  Клиника «Аксис» является многопрофильным медиц...   \n",
       "\n",
       "                                    clinic_info doc_pics  \\\n",
       "0  ['Юридическое название: ООО \"Ника Денталь\"']        3   \n",
       "1                                          none        8   \n",
       "2         ['Юридическое название: ООО \"АКСИС\"']        7   \n",
       "\n",
       "                                    specialists_dict  \\\n",
       "0  {'Мадина Болатовна Сатыбалова ': ['Стаж 14 лет...   \n",
       "1  {'Ильшат Ильгизарович Магфурзянов ': ['Стаж 17...   \n",
       "2  {'Сергей Анатольевич Гурин ': ['Стаж 14 лет', ...   \n",
       "\n",
       "                                               price  \\\n",
       "0  {'Лечение кариеса': '500—7000', 'Удаление зубо...   \n",
       "1  {'Лечение кариеса': '≈ 4000', 'Удаление зубов'...   \n",
       "2  {'Консультация акушера-гинеколога': '1900—2300...   \n",
       "\n",
       "                                            services  \\\n",
       "0  {'Тип мед. учреждения': 'стоматологическая кли...   \n",
       "1  {'Тип мед. учреждения': 'стоматологическая кли...   \n",
       "2  {'Тип мед. учреждения': 'детская поликлиника, ...   \n",
       "\n",
       "                                            contacts soc_links  \n",
       "0  {'Время работы': ['Пн-Чт, Сб-Вс: 10:00—20:00 и...      none  \n",
       "1  {'Адреса сети': ['Вся сеть Никор, группа компа...      none  \n",
       "2  {'Адреса сети': ['Вся сеть Аксис, сеть многопр...      none  \n",
       "\n",
       "[3 rows x 23 columns]"
      ]
     },
     "execution_count": 30,
     "metadata": {},
     "output_type": "execute_result"
    }
   ],
   "source": [
    "work.head(3)"
   ]
  },
  {
   "cell_type": "code",
   "execution_count": 31,
   "id": "25762930",
   "metadata": {},
   "outputs": [
    {
     "data": {
      "text/plain": [
       "page_url             object\n",
       "object_name          object\n",
       "address              object\n",
       "phone                object\n",
       "hours                object\n",
       "website              object\n",
       "social_network       object\n",
       "fb_link              object\n",
       "inst_link            object\n",
       "vk_link              object\n",
       "tw_link              object\n",
       "clinic_type          object\n",
       "stom_services        object\n",
       "clinic_rating       float64\n",
       "review_number        object\n",
       "description          object\n",
       "clinic_info          object\n",
       "doc_pics              int64\n",
       "specialists_dict     object\n",
       "price                object\n",
       "services             object\n",
       "contacts             object\n",
       "soc_links            object\n",
       "dtype: object"
      ]
     },
     "execution_count": 31,
     "metadata": {},
     "output_type": "execute_result"
    }
   ],
   "source": [
    "work.dtypes"
   ]
  },
  {
   "cell_type": "code",
   "execution_count": 32,
   "id": "7310dd49",
   "metadata": {},
   "outputs": [],
   "source": [
    "# редактирую столбец с телефонами\n",
    "\n",
    "work['phone'] = work['phone'].str.replace('tel:+7', '8', regex=False)"
   ]
  },
  {
   "cell_type": "code",
   "execution_count": 33,
   "id": "35d5cd46",
   "metadata": {},
   "outputs": [],
   "source": [
    "# редактирую столбец с ссылками на сайт\n",
    "\n",
    "work['website'] = work['website'].str.replace(\"['\", \"\", regex=False)\n",
    "work['website'] = work['website'].str.replace(\"']\", \"\", regex=False)"
   ]
  },
  {
   "cell_type": "markdown",
   "id": "36bf12e2",
   "metadata": {},
   "source": [
    "Большая часть ссылок на Зуне через редирект, поэтому собрал их тексты.\n",
    "\n",
    "Это ошибка: проверять протокол скриптом долго и сложно.\n",
    "\n",
    "Проще было все же собрать то, что есть и отредактировать регулярками."
   ]
  },
  {
   "cell_type": "code",
   "execution_count": 34,
   "id": "5e1279ab",
   "metadata": {},
   "outputs": [],
   "source": [
    "# Функция для проверки протокола домена\n",
    "\n",
    "def check_url(link):\n",
    "        \n",
    "    if link['website'] != 'none':\n",
    "        \n",
    "        try:\n",
    "            http.request('GET', 'https://' + link['website'], headers=headers) # сначала пробую https\n",
    "            return 'https://' + link['website']\n",
    "            \n",
    "        except:\n",
    "            try:\n",
    "                http.request('GET', 'http://' + link['website'], headers=headers) # если не работает http\n",
    "                return 'http://' + link['website']\n",
    "            \n",
    "            except:\n",
    "                return link['website']\n",
    "                    \n",
    "    else:\n",
    "        return 'none'"
   ]
  },
  {
   "cell_type": "code",
   "execution_count": null,
   "id": "d9d637ae",
   "metadata": {},
   "outputs": [],
   "source": [
    "%%time\n",
    "\n",
    "work['new'] = work.apply(check_url, axis=1)\n",
    "\n",
    "# Ушло 1 час 20 минут примерно"
   ]
  },
  {
   "cell_type": "code",
   "execution_count": 35,
   "id": "d6477e9a",
   "metadata": {},
   "outputs": [],
   "source": [
    "# убираю лишнее из столбца \"соцсети\"\n",
    "\n",
    "work['social_network'] = work['social_network'].str.replace(\"['\", \"\", regex=False)\n",
    "work['social_network'] = work['social_network'].str.replace(\"']\", \"\", regex=False)"
   ]
  },
  {
   "cell_type": "markdown",
   "id": "0c2f708c",
   "metadata": {},
   "source": [
    "Редиректы на Зуне по одной схеме, поэтому вытащить из них ссылку на аккаунт очень просто"
   ]
  },
  {
   "cell_type": "code",
   "execution_count": 36,
   "id": "67037f7b",
   "metadata": {},
   "outputs": [],
   "source": [
    "# редактирую ссылки на ФБ\n",
    "\n",
    "work['fb_link'] = work['fb_link'].str.replace('.*www.facebook.com%2F', 'https://www.facebook.com/', regex=True) # убираю код\n",
    "work['fb_link'] = work['fb_link'].str.replace('&hash=.*', '', regex=True) # отрезаю хвост"
   ]
  },
  {
   "cell_type": "code",
   "execution_count": 37,
   "id": "5c9674e6",
   "metadata": {},
   "outputs": [],
   "source": [
    "# редактирую ссылки на инстаграм \n",
    "\n",
    "work['inst_link'] = work['inst_link'].str.replace('.*www.instagram.com%2F', 'https://www.instagram.com/', regex=True) # убираю код\n",
    "work['inst_link'] = work['inst_link'].str.replace('%2F&hash=.*', '', regex=True) # отрезаю хвост"
   ]
  },
  {
   "cell_type": "code",
   "execution_count": 38,
   "id": "626fac76",
   "metadata": {},
   "outputs": [],
   "source": [
    "# редактирую ссылки на ВК\n",
    "\n",
    "work['vk_link'] = work['vk_link'].str.replace('.*https%3A%2F%2Fvk.com%2F', 'https://vk.com/', regex=True) # убираю код\n",
    "work['vk_link'] = work['vk_link'].str.replace('&hash=.*', '', regex=True) # отрезаю хвост"
   ]
  },
  {
   "cell_type": "code",
   "execution_count": 39,
   "id": "232ac666",
   "metadata": {},
   "outputs": [],
   "source": [
    "# редактирую ссылки на твиттер (в стомотологии твиттера нет)\n",
    "\n",
    "#work['tw_link'] = work['tw_link'].str.replace('.*https%3A%2F%2Fvk.com%2F', 'https://vk.com/', regex=True) # убираю код\n",
    "#work['tw_link'] = work['tw_link'].str.replace('&hash=.*', '', regex=True) # отрезаю хвост"
   ]
  },
  {
   "cell_type": "code",
   "execution_count": 40,
   "id": "8152f107",
   "metadata": {},
   "outputs": [],
   "source": [
    "# убираю лишнее из столбца \"количество отзывов\"\n",
    "\n",
    "work['review_number'] = work['review_number'].str.replace(' отзывю*', '', regex=True)"
   ]
  },
  {
   "cell_type": "code",
   "execution_count": 41,
   "id": "8ed56084",
   "metadata": {},
   "outputs": [],
   "source": [
    "work.to_excel('C:/Data/data_stom_new.xlsx', index=False)"
   ]
  },
  {
   "cell_type": "code",
   "execution_count": null,
   "id": "bcfc4877",
   "metadata": {},
   "outputs": [],
   "source": []
  }
 ],
 "metadata": {
  "kernelspec": {
   "display_name": "Python 3",
   "language": "python",
   "name": "python3"
  },
  "language_info": {
   "codemirror_mode": {
    "name": "ipython",
    "version": 3
   },
   "file_extension": ".py",
   "mimetype": "text/x-python",
   "name": "python",
   "nbconvert_exporter": "python",
   "pygments_lexer": "ipython3",
   "version": "3.8.8"
  }
 },
 "nbformat": 4,
 "nbformat_minor": 5
}
