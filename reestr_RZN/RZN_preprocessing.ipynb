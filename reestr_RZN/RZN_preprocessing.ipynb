{
 "cells": [
  {
   "cell_type": "code",
   "execution_count": 1,
   "id": "092be5ef",
   "metadata": {
    "scrolled": true
   },
   "outputs": [],
   "source": [
    "import pandas as pd\n",
    "\n",
    "import re"
   ]
  },
  {
   "cell_type": "code",
   "execution_count": null,
   "id": "735c3248",
   "metadata": {},
   "outputs": [],
   "source": [
    "from natasha import AddressExtractor"
   ]
  },
  {
   "cell_type": "code",
   "execution_count": null,
   "id": "840ebeb9",
   "metadata": {},
   "outputs": [],
   "source": [
    "from natasha.markup import (\n",
    "    show_markup_notebook as show_markup,\n",
    "    format_json, show_json\n",
    ")"
   ]
  },
  {
   "cell_type": "code",
   "execution_count": null,
   "id": "8fcd1d6b",
   "metadata": {},
   "outputs": [],
   "source": []
  },
  {
   "cell_type": "code",
   "execution_count": 5,
   "id": "05118887",
   "metadata": {
    "scrolled": true
   },
   "outputs": [],
   "source": [
    "stom_work = pd.read_excel('C:/00_Data/stomatologics/Реестр РосЗдравНадзора/stom_lic_rf_2021_08_22.xlsx',\n",
    "                          sheet_name='data')"
   ]
  },
  {
   "cell_type": "code",
   "execution_count": 6,
   "id": "bff3f5e7",
   "metadata": {
    "scrolled": true
   },
   "outputs": [
    {
     "name": "stdout",
     "output_type": "stream",
     "text": [
      "['name', 'activity_type', 'full_name_licensee', 'abbreviated_name_licensee', 'brand_name_licensee', 'form', 'address_region', 'address', 'ogrn', 'inn', 'address_number', 'address_nn', 'sub_address', 'sub_index', 'sub_region', 'sub_city', 'sub_street', 'sub_code_fias', 'work_types', 'number', 'date', 'number_orders', 'date_order', 'date_register', 'number_duplicate', 'date_duplicate', 'termination', 'date_termination', 'information', 'information_regulations', 'information_suspension_resumption', 'information_cancellation', 'information_reissuing', 'date_reissuing']\n"
     ]
    }
   ],
   "source": [
    "print(stom_work.columns.to_list())"
   ]
  },
  {
   "cell_type": "code",
   "execution_count": 7,
   "id": "6495fbb8",
   "metadata": {},
   "outputs": [
    {
     "data": {
      "text/plain": [
       "Series([], Name: termination, dtype: int64)"
      ]
     },
     "execution_count": 7,
     "metadata": {},
     "output_type": "execute_result"
    }
   ],
   "source": [
    "stom_work.termination.value_counts()"
   ]
  },
  {
   "cell_type": "code",
   "execution_count": 8,
   "id": "366226b5",
   "metadata": {},
   "outputs": [
    {
     "data": {
      "text/plain": [
       "name                                    12\n",
       "activity_type                            0\n",
       "full_name_licensee                       0\n",
       "abbreviated_name_licensee             6746\n",
       "brand_name_licensee                  45002\n",
       "form                                   181\n",
       "address_region                        5999\n",
       "address                               6287\n",
       "ogrn                                     0\n",
       "inn                                      0\n",
       "address_number                           0\n",
       "address_nn                               0\n",
       "sub_address                              0\n",
       "sub_index                                2\n",
       "sub_region                               2\n",
       "sub_city                              3346\n",
       "sub_street                             660\n",
       "sub_code_fias                         1080\n",
       "work_types                               0\n",
       "number                                   0\n",
       "date                                     0\n",
       "number_orders                        11085\n",
       "date_order                           11066\n",
       "date_register                            0\n",
       "number_duplicate                     57790\n",
       "date_duplicate                       57790\n",
       "termination                          57790\n",
       "date_termination                     57790\n",
       "information                          57790\n",
       "information_regulations              57790\n",
       "information_suspension_resumption    57786\n",
       "information_cancellation             57773\n",
       "information_reissuing                57790\n",
       "date_reissuing                       48203\n",
       "dtype: int64"
      ]
     },
     "execution_count": 8,
     "metadata": {},
     "output_type": "execute_result"
    }
   ],
   "source": [
    "# пустые значения\n",
    "\n",
    "stom_work.isnull().sum()"
   ]
  },
  {
   "cell_type": "code",
   "execution_count": 9,
   "id": "c701b9f5",
   "metadata": {},
   "outputs": [
    {
     "data": {
      "text/plain": [
       "57790"
      ]
     },
     "execution_count": 9,
     "metadata": {},
     "output_type": "execute_result"
    }
   ],
   "source": [
    "# всего клиник\n",
    "\n",
    "stom_work.shape[0]"
   ]
  },
  {
   "cell_type": "code",
   "execution_count": 10,
   "id": "d51a81d4",
   "metadata": {},
   "outputs": [
    {
     "data": {
      "text/html": [
       "<div>\n",
       "<style scoped>\n",
       "    .dataframe tbody tr th:only-of-type {\n",
       "        vertical-align: middle;\n",
       "    }\n",
       "\n",
       "    .dataframe tbody tr th {\n",
       "        vertical-align: top;\n",
       "    }\n",
       "\n",
       "    .dataframe thead th {\n",
       "        text-align: right;\n",
       "    }\n",
       "</style>\n",
       "<table border=\"1\" class=\"dataframe\">\n",
       "  <thead>\n",
       "    <tr style=\"text-align: right;\">\n",
       "      <th></th>\n",
       "      <th>name</th>\n",
       "      <th>activity_type</th>\n",
       "      <th>full_name_licensee</th>\n",
       "      <th>abbreviated_name_licensee</th>\n",
       "      <th>brand_name_licensee</th>\n",
       "      <th>form</th>\n",
       "      <th>address_region</th>\n",
       "      <th>address</th>\n",
       "      <th>ogrn</th>\n",
       "      <th>inn</th>\n",
       "      <th>...</th>\n",
       "      <th>number_duplicate</th>\n",
       "      <th>date_duplicate</th>\n",
       "      <th>termination</th>\n",
       "      <th>date_termination</th>\n",
       "      <th>information</th>\n",
       "      <th>information_regulations</th>\n",
       "      <th>information_suspension_resumption</th>\n",
       "      <th>information_cancellation</th>\n",
       "      <th>information_reissuing</th>\n",
       "      <th>date_reissuing</th>\n",
       "    </tr>\n",
       "  </thead>\n",
       "  <tbody>\n",
       "    <tr>\n",
       "      <th>2413</th>\n",
       "      <td>Министерство здравоохранения Краснодарского края</td>\n",
       "      <td>Медицинская деятельность</td>\n",
       "      <td>Общество с ограниченной ответственностью «Сана...</td>\n",
       "      <td>ООО «Санат ФитоДент»</td>\n",
       "      <td>Общество с ограниченной ответственностью «Сана...</td>\n",
       "      <td>Общество с ограниченной ответственностью</td>\n",
       "      <td>Краснодарский край</td>\n",
       "      <td>353910, Россия, Краснодарский край, городской ...</td>\n",
       "      <td>1092315006849</td>\n",
       "      <td>2315157288</td>\n",
       "      <td>...</td>\n",
       "      <td>NaN</td>\n",
       "      <td>NaN</td>\n",
       "      <td>NaN</td>\n",
       "      <td>NaN</td>\n",
       "      <td>NaN</td>\n",
       "      <td>NaN</td>\n",
       "      <td>NaN</td>\n",
       "      <td>NaN</td>\n",
       "      <td>NaN</td>\n",
       "      <td>26.07.2021</td>\n",
       "    </tr>\n",
       "    <tr>\n",
       "      <th>29772</th>\n",
       "      <td>Министерство здравоохранения Краснодарского края</td>\n",
       "      <td>Медицинская деятельность</td>\n",
       "      <td>Общество с ограниченной ответственностью \"Стом...</td>\n",
       "      <td>ООО «СЦ СТОМАКС»</td>\n",
       "      <td>Общество с ограниченной ответственностью \"Стом...</td>\n",
       "      <td>Общество с ограниченной ответственностью</td>\n",
       "      <td>Оренбургская область</td>\n",
       "      <td>462429, Россия, Оренбургская область, г. Орск,...</td>\n",
       "      <td>1055614068180</td>\n",
       "      <td>5614022037</td>\n",
       "      <td>...</td>\n",
       "      <td>NaN</td>\n",
       "      <td>NaN</td>\n",
       "      <td>NaN</td>\n",
       "      <td>NaN</td>\n",
       "      <td>NaN</td>\n",
       "      <td>NaN</td>\n",
       "      <td>NaN</td>\n",
       "      <td>NaN</td>\n",
       "      <td>NaN</td>\n",
       "      <td>NaN</td>\n",
       "    </tr>\n",
       "    <tr>\n",
       "      <th>42299</th>\n",
       "      <td>Министерство здравоохранения Краснодарского края</td>\n",
       "      <td>Медицинская деятельность</td>\n",
       "      <td>Общество с ограниченной ответственностью «Дент...</td>\n",
       "      <td>ООО «Денталика»</td>\n",
       "      <td>Общество с ограниченной ответственностью «Дент...</td>\n",
       "      <td>Общество с ограниченной ответственностью</td>\n",
       "      <td>Краснодарский край</td>\n",
       "      <td>350015, Краснодарский край, г. Краснодар, Цент...</td>\n",
       "      <td>1082310017239</td>\n",
       "      <td>2310133646</td>\n",
       "      <td>...</td>\n",
       "      <td>NaN</td>\n",
       "      <td>NaN</td>\n",
       "      <td>NaN</td>\n",
       "      <td>NaN</td>\n",
       "      <td>NaN</td>\n",
       "      <td>NaN</td>\n",
       "      <td>NaN</td>\n",
       "      <td>NaN</td>\n",
       "      <td>NaN</td>\n",
       "      <td>NaN</td>\n",
       "    </tr>\n",
       "  </tbody>\n",
       "</table>\n",
       "<p>3 rows × 34 columns</p>\n",
       "</div>"
      ],
      "text/plain": [
       "                                                   name  \\\n",
       "2413   Министерство здравоохранения Краснодарского края   \n",
       "29772  Министерство здравоохранения Краснодарского края   \n",
       "42299  Министерство здравоохранения Краснодарского края   \n",
       "\n",
       "                  activity_type  \\\n",
       "2413   Медицинская деятельность   \n",
       "29772  Медицинская деятельность   \n",
       "42299  Медицинская деятельность   \n",
       "\n",
       "                                      full_name_licensee  \\\n",
       "2413   Общество с ограниченной ответственностью «Сана...   \n",
       "29772  Общество с ограниченной ответственностью \"Стом...   \n",
       "42299  Общество с ограниченной ответственностью «Дент...   \n",
       "\n",
       "      abbreviated_name_licensee  \\\n",
       "2413       ООО «Санат ФитоДент»   \n",
       "29772          ООО «СЦ СТОМАКС»   \n",
       "42299           ООО «Денталика»   \n",
       "\n",
       "                                     brand_name_licensee  \\\n",
       "2413   Общество с ограниченной ответственностью «Сана...   \n",
       "29772  Общество с ограниченной ответственностью \"Стом...   \n",
       "42299  Общество с ограниченной ответственностью «Дент...   \n",
       "\n",
       "                                           form        address_region  \\\n",
       "2413   Общество с ограниченной ответственностью    Краснодарский край   \n",
       "29772  Общество с ограниченной ответственностью  Оренбургская область   \n",
       "42299  Общество с ограниченной ответственностью    Краснодарский край   \n",
       "\n",
       "                                                 address           ogrn  \\\n",
       "2413   353910, Россия, Краснодарский край, городской ...  1092315006849   \n",
       "29772  462429, Россия, Оренбургская область, г. Орск,...  1055614068180   \n",
       "42299  350015, Краснодарский край, г. Краснодар, Цент...  1082310017239   \n",
       "\n",
       "              inn  ...  number_duplicate  date_duplicate termination  \\\n",
       "2413   2315157288  ...               NaN             NaN         NaN   \n",
       "29772  5614022037  ...               NaN             NaN         NaN   \n",
       "42299  2310133646  ...               NaN             NaN         NaN   \n",
       "\n",
       "       date_termination information information_regulations  \\\n",
       "2413                NaN         NaN                     NaN   \n",
       "29772               NaN         NaN                     NaN   \n",
       "42299               NaN         NaN                     NaN   \n",
       "\n",
       "      information_suspension_resumption information_cancellation  \\\n",
       "2413                                NaN                      NaN   \n",
       "29772                               NaN                      NaN   \n",
       "42299                               NaN                      NaN   \n",
       "\n",
       "      information_reissuing date_reissuing  \n",
       "2413                    NaN     26.07.2021  \n",
       "29772                   NaN            NaN  \n",
       "42299                   NaN            NaN  \n",
       "\n",
       "[3 rows x 34 columns]"
      ]
     },
     "execution_count": 10,
     "metadata": {},
     "output_type": "execute_result"
    }
   ],
   "source": [
    "stom_work.sample(3)"
   ]
  },
  {
   "cell_type": "code",
   "execution_count": 11,
   "id": "dfff794c",
   "metadata": {},
   "outputs": [
    {
     "data": {
      "text/plain": [
       "(36616, 34)"
      ]
     },
     "execution_count": 11,
     "metadata": {},
     "output_type": "execute_result"
    }
   ],
   "source": [
    "# всего юридических лиц\n",
    "\n",
    "stom_work[stom_work['address_nn'] == 1].shape"
   ]
  },
  {
   "cell_type": "code",
   "execution_count": 12,
   "id": "1ebd417e",
   "metadata": {},
   "outputs": [
    {
     "data": {
      "text/plain": [
       "37875"
      ]
     },
     "execution_count": 12,
     "metadata": {},
     "output_type": "execute_result"
    }
   ],
   "source": [
    "# уникальных ИНН\n",
    "\n",
    "stom_work['inn'].nunique()"
   ]
  },
  {
   "cell_type": "code",
   "execution_count": 13,
   "id": "ab6c29e3",
   "metadata": {},
   "outputs": [
    {
     "data": {
      "text/plain": [
       "37869"
      ]
     },
     "execution_count": 13,
     "metadata": {},
     "output_type": "execute_result"
    }
   ],
   "source": [
    "# уникальных ОГРН\n",
    "\n",
    "stom_work['ogrn'].nunique()"
   ]
  },
  {
   "cell_type": "code",
   "execution_count": 14,
   "id": "2027b54c",
   "metadata": {},
   "outputs": [
    {
     "data": {
      "text/plain": [
       "55935"
      ]
     },
     "execution_count": 14,
     "metadata": {},
     "output_type": "execute_result"
    }
   ],
   "source": [
    "# уникальных адресов\n",
    "\n",
    "stom_work['sub_address'].nunique()"
   ]
  },
  {
   "cell_type": "code",
   "execution_count": 15,
   "id": "20125689",
   "metadata": {},
   "outputs": [],
   "source": [
    "# считаю количество по типу организации\n",
    "\n",
    "form_work = (\n",
    "    stom_work['form']\n",
    "    .value_counts()\n",
    "    .reset_index()\n",
    "    .rename(columns={'form': 'number', 'index': 'form'})\n",
    ")"
   ]
  },
  {
   "cell_type": "code",
   "execution_count": 16,
   "id": "26882fbb",
   "metadata": {},
   "outputs": [],
   "source": [
    "# считаю количество уникальных типов организаций\n",
    "\n",
    "form_work_unique = (\n",
    "    stom_work[stom_work.address_nn == 1]\n",
    "    .form\n",
    "    .value_counts()\n",
    "    .reset_index()\n",
    "    .rename(columns={'form': 'number_unique', 'index': 'form'})\n",
    ")"
   ]
  },
  {
   "cell_type": "code",
   "execution_count": 22,
   "id": "aab40667",
   "metadata": {},
   "outputs": [],
   "source": [
    "# объединяю датафреймы\n",
    "\n",
    "form_work = form_work.merge(form_work_unique, how='left', on='form')"
   ]
  },
  {
   "cell_type": "code",
   "execution_count": 23,
   "id": "c08b6ccf",
   "metadata": {},
   "outputs": [],
   "source": [
    "# заполняю пустые значения во втором столбце\n",
    "\n",
    "form_work['number_unique'].fillna(0, inplace=True)"
   ]
  },
  {
   "cell_type": "code",
   "execution_count": 24,
   "id": "c6f7d7d6",
   "metadata": {},
   "outputs": [],
   "source": [
    "# меняю типы данных, float dj втором столбце появился из-за Nan\n",
    "\n",
    "form_work = form_work.astype({'number': 'int32', 'number_unique': 'int32'})"
   ]
  },
  {
   "cell_type": "code",
   "execution_count": null,
   "id": "a3965423",
   "metadata": {},
   "outputs": [],
   "source": []
  },
  {
   "cell_type": "code",
   "execution_count": 19,
   "id": "962cf27f",
   "metadata": {},
   "outputs": [],
   "source": [
    "# считаю количество уникальных типов организаций\n",
    "\n",
    "(\n",
    "    stom_work.groupby('sub_city', as_index=False)\n",
    "    .agg({'sub_address': 'count'})\n",
    ").to_excel('C:/00_Data/03_stom/temp.xlsx', index=False)"
   ]
  },
  {
   "cell_type": "code",
   "execution_count": null,
   "id": "d5a96957",
   "metadata": {},
   "outputs": [],
   "source": []
  },
  {
   "cell_type": "code",
   "execution_count": null,
   "id": "65c74d0d",
   "metadata": {},
   "outputs": [],
   "source": []
  },
  {
   "cell_type": "code",
   "execution_count": null,
   "id": "30b87c2f",
   "metadata": {},
   "outputs": [],
   "source": []
  },
  {
   "cell_type": "markdown",
   "id": "53b0479e",
   "metadata": {},
   "source": [
    "### Считаю виды стоматологических услуг ###"
   ]
  },
  {
   "cell_type": "code",
   "execution_count": null,
   "id": "f83046b2",
   "metadata": {
    "scrolled": true
   },
   "outputs": [],
   "source": [
    "# список с услугами\n",
    "\n",
    "work_types = list(set(stom_work['work_types']))"
   ]
  },
  {
   "cell_type": "code",
   "execution_count": null,
   "id": "e28f79a3",
   "metadata": {
    "scrolled": true
   },
   "outputs": [],
   "source": [
    "len(work_types)"
   ]
  },
  {
   "cell_type": "code",
   "execution_count": null,
   "id": "d4dbbe6c",
   "metadata": {
    "scrolled": true
   },
   "outputs": [],
   "source": [
    "# уникальных\n",
    "\n",
    "work_types_unique = []\n",
    "\n",
    "for i in work_types:\n",
    "    work_types_unique += i.split(',')"
   ]
  },
  {
   "cell_type": "code",
   "execution_count": null,
   "id": "957b02ea",
   "metadata": {
    "scrolled": true
   },
   "outputs": [],
   "source": [
    "work_types_unique = list(set(work_types_unique))"
   ]
  },
  {
   "cell_type": "code",
   "execution_count": null,
   "id": "48db7e00",
   "metadata": {
    "scrolled": true
   },
   "outputs": [],
   "source": [
    "len(work_types_unique)"
   ]
  },
  {
   "cell_type": "code",
   "execution_count": null,
   "id": "5f4efc66",
   "metadata": {},
   "outputs": [],
   "source": [
    "# выделяю стом.услуги, пока в \"грязном\" виде, чтобы корректно посчитать вхождения\n",
    "\n",
    "stom_types = []\n",
    "\n",
    "for stom in work_types_unique:\n",
    "    if 'стоматолог' in stom or 'ортодонт' in stom:\n",
    "        new = stom.replace(']', '')\n",
    "        stom_types += [new.strip()]        "
   ]
  },
  {
   "cell_type": "code",
   "execution_count": null,
   "id": "425828b8",
   "metadata": {},
   "outputs": [],
   "source": [
    "stom_types = list(set(stom_types))"
   ]
  },
  {
   "cell_type": "code",
   "execution_count": null,
   "id": "c4be255a",
   "metadata": {},
   "outputs": [],
   "source": [
    "len(stom_types)"
   ]
  },
  {
   "cell_type": "code",
   "execution_count": null,
   "id": "a30ea89a",
   "metadata": {},
   "outputs": [],
   "source": [
    "stom_types"
   ]
  },
  {
   "cell_type": "code",
   "execution_count": null,
   "id": "51036e7d",
   "metadata": {},
   "outputs": [],
   "source": [
    "# функция для выделения стоматологических услуг\n",
    "\n",
    "def find_stom_works(df):\n",
    "    found = []\n",
    "    \n",
    "    for item in stom_types:\n",
    "        if item in str(df.work_types):\n",
    "            item = re.sub(r'[^\\w\\s]+', '', item) # убираю лишние символы: точки и скобки\n",
    "            item = re.sub(r'[0-9]+', '', item).strip() # убираю цифры и пробелы по краям\n",
    "            item = (item\n",
    "                    .replace('стоматологии ', 'стоматология ') # меняю вручную, лемматизаторы работают дольше\n",
    "                    .replace('терапевтической', 'терапевтическая')\n",
    "                    .replace('детской', 'детская')\n",
    "                    .replace('гигиене', 'гигиена')\n",
    "                    .replace('ортодонтии', 'ортодонтия')\n",
    "                    .replace('ортопедической', 'ортопедическая')\n",
    "                    .replace('профилактической', 'профилактическая')\n",
    "                    .replace('хирургической', 'хирургическая')\n",
    "                   )\n",
    "            if item == 'стоматологии':\n",
    "                item = 'стоматология'\n",
    "\n",
    "            found += [item]\n",
    "\n",
    "    return list(set(found))"
   ]
  },
  {
   "cell_type": "code",
   "execution_count": null,
   "id": "caf00c94",
   "metadata": {},
   "outputs": [],
   "source": [
    "%%time\n",
    "\n",
    "# добавляю стобец с видами стоматологических работ\n",
    "\n",
    "stom_work['stom_works'] = stom_work.apply(find_stom_works, axis=1)"
   ]
  },
  {
   "cell_type": "code",
   "execution_count": null,
   "id": "808858a0",
   "metadata": {},
   "outputs": [],
   "source": [
    "# список уникальных работ\n",
    "\n",
    "stom_list = []\n",
    "\n",
    "for i in stom_work['stom_works'].to_list():\n",
    "    stom_list += i"
   ]
  },
  {
   "cell_type": "code",
   "execution_count": null,
   "id": "513100f5",
   "metadata": {},
   "outputs": [],
   "source": [
    "stom_list = list(set(stom_list))"
   ]
  },
  {
   "cell_type": "code",
   "execution_count": null,
   "id": "11704b04",
   "metadata": {},
   "outputs": [],
   "source": [
    "len(stom_list)"
   ]
  },
  {
   "cell_type": "code",
   "execution_count": null,
   "id": "cd75aaf6",
   "metadata": {},
   "outputs": [],
   "source": [
    "stom_list"
   ]
  },
  {
   "cell_type": "code",
   "execution_count": null,
   "id": "e3e899d5",
   "metadata": {},
   "outputs": [],
   "source": [
    "# функция для подсчета частотностей видов стом.работ, аргумент — название датафрейма\n",
    "\n",
    "def count_stom_works(df):\n",
    "    stom_list_dict = {} # делаю словарь для подсчета вхождений\n",
    "    \n",
    "    for i in stom_list: # заполняю нулями\n",
    "        stom_list_dict[i] = 0\n",
    "        \n",
    "    \n",
    "    for item in df['stom_works']: # считаю вхождения\n",
    "        for i in stom_list:\n",
    "            if i in item:\n",
    "                stom_list_dict[i] = stom_list_dict[i] + 1\n",
    "                \n",
    "    return stom_list_dict"
   ]
  },
  {
   "cell_type": "code",
   "execution_count": null,
   "id": "73e6a5c0",
   "metadata": {},
   "outputs": [],
   "source": [
    "# считаю вхождения\n",
    "\n",
    "stom_list_dict = count_stom_works(stom_work)"
   ]
  },
  {
   "cell_type": "code",
   "execution_count": null,
   "id": "127962b9",
   "metadata": {},
   "outputs": [],
   "source": [
    "# делаю датафрейм из словаря\n",
    "\n",
    "stom_work_number = (pd.Series(stom_list_dict)\n",
    "                    .reset_index()\n",
    "                    .rename(columns={'index':'stom', 0:'number_all'})\n",
    "                    .sort_values(by='number_all', ascending=False)\n",
    "                   )"
   ]
  },
  {
   "cell_type": "code",
   "execution_count": null,
   "id": "775390c0",
   "metadata": {},
   "outputs": [],
   "source": [
    "# считаю долю\n",
    "\n",
    "stom_work_number['percent_all'] = round(stom_work_number['number_all'] / stom_work.shape[0], 2) * 100"
   ]
  },
  {
   "cell_type": "code",
   "execution_count": null,
   "id": "b601e7ab",
   "metadata": {},
   "outputs": [],
   "source": [
    "stom_work_number"
   ]
  },
  {
   "cell_type": "code",
   "execution_count": null,
   "id": "73957ad6",
   "metadata": {},
   "outputs": [],
   "source": []
  },
  {
   "cell_type": "markdown",
   "id": "607f21f0",
   "metadata": {},
   "source": [
    "### Считаю частные клиники и кабинеты ###"
   ]
  },
  {
   "cell_type": "code",
   "execution_count": 34,
   "id": "d63b6a99",
   "metadata": {},
   "outputs": [
    {
     "data": {
      "text/plain": [
       "(57790, 34)"
      ]
     },
     "execution_count": 34,
     "metadata": {},
     "output_type": "execute_result"
    }
   ],
   "source": [
    "stom_work.shape"
   ]
  },
  {
   "cell_type": "code",
   "execution_count": 35,
   "id": "0cc47eef",
   "metadata": {},
   "outputs": [],
   "source": [
    "private_stom_work = stom_work[(\n",
    "    (stom_work['form'].str.contains('общество с ограниченной ответственностью', case=False)) |\n",
    "    (stom_work['form'].str.contains('индивидуальный предприниматель', case=False)) |\n",
    "    #(stom_work['form'].str.contains('акционерное общество', case=False)) |\n",
    "    (stom_work['form'].str.contains('товарищество на вере', case=False))\n",
    ")]"
   ]
  },
  {
   "cell_type": "code",
   "execution_count": 36,
   "id": "7c394d6e",
   "metadata": {},
   "outputs": [
    {
     "data": {
      "text/plain": [
       "(35591, 34)"
      ]
     },
     "execution_count": 36,
     "metadata": {},
     "output_type": "execute_result"
    }
   ],
   "source": [
    "private_stom_work.shape"
   ]
  },
  {
   "cell_type": "code",
   "execution_count": 37,
   "id": "938a012a",
   "metadata": {},
   "outputs": [
    {
     "data": {
      "text/plain": [
       "(30931, 34)"
      ]
     },
     "execution_count": 37,
     "metadata": {},
     "output_type": "execute_result"
    }
   ],
   "source": [
    "# уникальных ООО и ИП\n",
    "\n",
    "private_stom_work[private_stom_work['address_nn'] == 1].shape"
   ]
  },
  {
   "cell_type": "code",
   "execution_count": 38,
   "id": "efa3c347",
   "metadata": {},
   "outputs": [
    {
     "data": {
      "text/plain": [
       "(954, 34)"
      ]
     },
     "execution_count": 38,
     "metadata": {},
     "output_type": "execute_result"
    }
   ],
   "source": [
    "# акционерных обществ, всего адресов\n",
    "\n",
    "stom_work.form.fillna('none', inplace=True)\n",
    "stom_work[(stom_work['form'].str.contains('акционерное общество', case=False))].shape"
   ]
  },
  {
   "cell_type": "code",
   "execution_count": 39,
   "id": "27e9c718",
   "metadata": {},
   "outputs": [
    {
     "data": {
      "text/plain": [
       "(638, 34)"
      ]
     },
     "execution_count": 39,
     "metadata": {},
     "output_type": "execute_result"
    }
   ],
   "source": [
    "# акционерных обществ, уникальных\n",
    "\n",
    "stom_work[(\n",
    "    (stom_work['form'].str.contains('акционерное общество', case=False)) &\n",
    "    (stom_work['address_nn'] == 1)\n",
    ")].shape"
   ]
  },
  {
   "cell_type": "code",
   "execution_count": 40,
   "id": "dc9a09c7",
   "metadata": {},
   "outputs": [
    {
     "data": {
      "text/html": [
       "<div>\n",
       "<style scoped>\n",
       "    .dataframe tbody tr th:only-of-type {\n",
       "        vertical-align: middle;\n",
       "    }\n",
       "\n",
       "    .dataframe tbody tr th {\n",
       "        vertical-align: top;\n",
       "    }\n",
       "\n",
       "    .dataframe thead th {\n",
       "        text-align: right;\n",
       "    }\n",
       "</style>\n",
       "<table border=\"1\" class=\"dataframe\">\n",
       "  <thead>\n",
       "    <tr style=\"text-align: right;\">\n",
       "      <th></th>\n",
       "      <th>name</th>\n",
       "      <th>activity_type</th>\n",
       "      <th>full_name_licensee</th>\n",
       "      <th>abbreviated_name_licensee</th>\n",
       "      <th>brand_name_licensee</th>\n",
       "      <th>form</th>\n",
       "      <th>address_region</th>\n",
       "      <th>address</th>\n",
       "      <th>ogrn</th>\n",
       "      <th>inn</th>\n",
       "      <th>...</th>\n",
       "      <th>number_duplicate</th>\n",
       "      <th>date_duplicate</th>\n",
       "      <th>termination</th>\n",
       "      <th>date_termination</th>\n",
       "      <th>information</th>\n",
       "      <th>information_regulations</th>\n",
       "      <th>information_suspension_resumption</th>\n",
       "      <th>information_cancellation</th>\n",
       "      <th>information_reissuing</th>\n",
       "      <th>date_reissuing</th>\n",
       "    </tr>\n",
       "  </thead>\n",
       "  <tbody>\n",
       "    <tr>\n",
       "      <th>37895</th>\n",
       "      <td>Министерство здравоохранения Красноярского края</td>\n",
       "      <td>Медицинская деятельность</td>\n",
       "      <td>Общество с ограниченной ответственностью «Граф»</td>\n",
       "      <td>ООО «Граф»</td>\n",
       "      <td>NaN</td>\n",
       "      <td>Общество с ограниченной ответственностью</td>\n",
       "      <td>Красноярский край</td>\n",
       "      <td>660077, Россия, Красноярский край, г. Краснояр...</td>\n",
       "      <td>1102468043061</td>\n",
       "      <td>2465242084</td>\n",
       "      <td>...</td>\n",
       "      <td>NaN</td>\n",
       "      <td>NaN</td>\n",
       "      <td>NaN</td>\n",
       "      <td>NaN</td>\n",
       "      <td>NaN</td>\n",
       "      <td>NaN</td>\n",
       "      <td>NaN</td>\n",
       "      <td>NaN</td>\n",
       "      <td>NaN</td>\n",
       "      <td>NaN</td>\n",
       "    </tr>\n",
       "  </tbody>\n",
       "</table>\n",
       "<p>1 rows × 34 columns</p>\n",
       "</div>"
      ],
      "text/plain": [
       "                                                  name  \\\n",
       "37895  Министерство здравоохранения Красноярского края   \n",
       "\n",
       "                  activity_type  \\\n",
       "37895  Медицинская деятельность   \n",
       "\n",
       "                                    full_name_licensee  \\\n",
       "37895  Общество с ограниченной ответственностью «Граф»   \n",
       "\n",
       "      abbreviated_name_licensee brand_name_licensee  \\\n",
       "37895                ООО «Граф»                 NaN   \n",
       "\n",
       "                                           form     address_region  \\\n",
       "37895  Общество с ограниченной ответственностью  Красноярский край   \n",
       "\n",
       "                                                 address           ogrn  \\\n",
       "37895  660077, Россия, Красноярский край, г. Краснояр...  1102468043061   \n",
       "\n",
       "              inn  ...  number_duplicate  date_duplicate termination  \\\n",
       "37895  2465242084  ...               NaN             NaN         NaN   \n",
       "\n",
       "       date_termination information information_regulations  \\\n",
       "37895               NaN         NaN                     NaN   \n",
       "\n",
       "      information_suspension_resumption information_cancellation  \\\n",
       "37895                               NaN                      NaN   \n",
       "\n",
       "      information_reissuing date_reissuing  \n",
       "37895                   NaN            NaN  \n",
       "\n",
       "[1 rows x 34 columns]"
      ]
     },
     "execution_count": 40,
     "metadata": {},
     "output_type": "execute_result"
    }
   ],
   "source": [
    "private_stom_work.sample()"
   ]
  },
  {
   "cell_type": "code",
   "execution_count": null,
   "id": "0a48071a",
   "metadata": {},
   "outputs": [],
   "source": []
  },
  {
   "cell_type": "markdown",
   "id": "b34c6473",
   "metadata": {},
   "source": [
    "Считаю виды стоматологических услуг для ООО и ИП"
   ]
  },
  {
   "cell_type": "code",
   "execution_count": 41,
   "id": "9d0f25d9",
   "metadata": {},
   "outputs": [
    {
     "ename": "NameError",
     "evalue": "name 'count_stom_works' is not defined",
     "output_type": "error",
     "traceback": [
      "\u001b[1;31m---------------------------------------------------------------------------\u001b[0m",
      "\u001b[1;31mNameError\u001b[0m                                 Traceback (most recent call last)",
      "\u001b[1;32m<ipython-input-41-8f87c5b23f62>\u001b[0m in \u001b[0;36m<module>\u001b[1;34m\u001b[0m\n\u001b[1;32m----> 1\u001b[1;33m \u001b[0mstom_list_dict_private\u001b[0m \u001b[1;33m=\u001b[0m \u001b[0mcount_stom_works\u001b[0m\u001b[1;33m(\u001b[0m\u001b[0mprivate_stom_work\u001b[0m\u001b[1;33m)\u001b[0m\u001b[1;33m\u001b[0m\u001b[1;33m\u001b[0m\u001b[0m\n\u001b[0m",
      "\u001b[1;31mNameError\u001b[0m: name 'count_stom_works' is not defined"
     ]
    }
   ],
   "source": [
    "stom_list_dict_private = count_stom_works(private_stom_work)"
   ]
  },
  {
   "cell_type": "code",
   "execution_count": null,
   "id": "74459176",
   "metadata": {},
   "outputs": [],
   "source": []
  },
  {
   "cell_type": "code",
   "execution_count": null,
   "id": "8cbcb71a",
   "metadata": {},
   "outputs": [],
   "source": [
    "# кладу словарь в датафрейм\n",
    "\n",
    "stom_work_number_private = (pd.Series(stom_list_dict_private)\n",
    "                    .reset_index()\n",
    "                    .rename(columns={'index':'stom', 0:'number_private'})\n",
    "                   )"
   ]
  },
  {
   "cell_type": "code",
   "execution_count": null,
   "id": "16313da0",
   "metadata": {},
   "outputs": [],
   "source": [
    "# присоединяю к основному датафрейму\n",
    "\n",
    "stom_work_number = stom_work_number.merge(stom_work_number_private, how='left', on='stom')"
   ]
  },
  {
   "cell_type": "code",
   "execution_count": null,
   "id": "13f61b7d",
   "metadata": {},
   "outputs": [],
   "source": [
    "# считаю долю для ООО и ИП\n",
    "\n",
    "stom_work_number['percent_private'] = round(stom_work_number['number_private'] / stom_work.shape[0], 2) * 100"
   ]
  },
  {
   "cell_type": "code",
   "execution_count": null,
   "id": "cf891ed3",
   "metadata": {},
   "outputs": [],
   "source": [
    "stom_work_number.sort_values(by='percent_private', ascending=False, inplace=True)"
   ]
  },
  {
   "cell_type": "code",
   "execution_count": null,
   "id": "4a29ae96",
   "metadata": {},
   "outputs": [],
   "source": [
    "stom_work_number"
   ]
  },
  {
   "cell_type": "code",
   "execution_count": null,
   "id": "12793145",
   "metadata": {},
   "outputs": [],
   "source": []
  },
  {
   "cell_type": "markdown",
   "id": "9e421b64",
   "metadata": {},
   "source": [
    "### Регионы ###"
   ]
  },
  {
   "cell_type": "code",
   "execution_count": 42,
   "id": "44b20505",
   "metadata": {},
   "outputs": [
    {
     "data": {
      "text/html": [
       "<div>\n",
       "<style scoped>\n",
       "    .dataframe tbody tr th:only-of-type {\n",
       "        vertical-align: middle;\n",
       "    }\n",
       "\n",
       "    .dataframe tbody tr th {\n",
       "        vertical-align: top;\n",
       "    }\n",
       "\n",
       "    .dataframe thead th {\n",
       "        text-align: right;\n",
       "    }\n",
       "</style>\n",
       "<table border=\"1\" class=\"dataframe\">\n",
       "  <thead>\n",
       "    <tr style=\"text-align: right;\">\n",
       "      <th></th>\n",
       "      <th>name</th>\n",
       "      <th>activity_type</th>\n",
       "      <th>full_name_licensee</th>\n",
       "      <th>abbreviated_name_licensee</th>\n",
       "      <th>brand_name_licensee</th>\n",
       "      <th>form</th>\n",
       "      <th>address_region</th>\n",
       "      <th>address</th>\n",
       "      <th>ogrn</th>\n",
       "      <th>inn</th>\n",
       "      <th>...</th>\n",
       "      <th>number_duplicate</th>\n",
       "      <th>date_duplicate</th>\n",
       "      <th>termination</th>\n",
       "      <th>date_termination</th>\n",
       "      <th>information</th>\n",
       "      <th>information_regulations</th>\n",
       "      <th>information_suspension_resumption</th>\n",
       "      <th>information_cancellation</th>\n",
       "      <th>information_reissuing</th>\n",
       "      <th>date_reissuing</th>\n",
       "    </tr>\n",
       "  </thead>\n",
       "  <tbody>\n",
       "    <tr>\n",
       "      <th>16277</th>\n",
       "      <td>Министерство здравоохранения Кабардино-Балкарс...</td>\n",
       "      <td>Медицинская деятельность</td>\n",
       "      <td>ОБЩЕСТВО С ОГРАНИЧЕННОЙ ОТВЕТСТВЕННОСТЬЮ \"ЛАЙФ...</td>\n",
       "      <td>ООО \"ЛАЙФ-ДЕНТ\"</td>\n",
       "      <td>NaN</td>\n",
       "      <td>Общество с ограниченной ответственностью</td>\n",
       "      <td>Кабардино-Балкарская Республика</td>\n",
       "      <td>360004, Россия, Кабардино-Балкарская Республик...</td>\n",
       "      <td>1170726003414</td>\n",
       "      <td>725022523</td>\n",
       "      <td>...</td>\n",
       "      <td>NaN</td>\n",
       "      <td>NaN</td>\n",
       "      <td>NaN</td>\n",
       "      <td>NaN</td>\n",
       "      <td>NaN</td>\n",
       "      <td>NaN</td>\n",
       "      <td>NaN</td>\n",
       "      <td>NaN</td>\n",
       "      <td>NaN</td>\n",
       "      <td>NaN</td>\n",
       "    </tr>\n",
       "  </tbody>\n",
       "</table>\n",
       "<p>1 rows × 34 columns</p>\n",
       "</div>"
      ],
      "text/plain": [
       "                                                    name  \\\n",
       "16277  Министерство здравоохранения Кабардино-Балкарс...   \n",
       "\n",
       "                  activity_type  \\\n",
       "16277  Медицинская деятельность   \n",
       "\n",
       "                                      full_name_licensee  \\\n",
       "16277  ОБЩЕСТВО С ОГРАНИЧЕННОЙ ОТВЕТСТВЕННОСТЬЮ \"ЛАЙФ...   \n",
       "\n",
       "      abbreviated_name_licensee brand_name_licensee  \\\n",
       "16277           ООО \"ЛАЙФ-ДЕНТ\"                 NaN   \n",
       "\n",
       "                                           form  \\\n",
       "16277  Общество с ограниченной ответственностью   \n",
       "\n",
       "                        address_region  \\\n",
       "16277  Кабардино-Балкарская Республика   \n",
       "\n",
       "                                                 address           ogrn  \\\n",
       "16277  360004, Россия, Кабардино-Балкарская Республик...  1170726003414   \n",
       "\n",
       "             inn  ...  number_duplicate  date_duplicate termination  \\\n",
       "16277  725022523  ...               NaN             NaN         NaN   \n",
       "\n",
       "       date_termination information information_regulations  \\\n",
       "16277               NaN         NaN                     NaN   \n",
       "\n",
       "      information_suspension_resumption information_cancellation  \\\n",
       "16277                               NaN                      NaN   \n",
       "\n",
       "      information_reissuing date_reissuing  \n",
       "16277                   NaN            NaN  \n",
       "\n",
       "[1 rows x 34 columns]"
      ]
     },
     "execution_count": 42,
     "metadata": {},
     "output_type": "execute_result"
    }
   ],
   "source": [
    "private_stom_work.sample()"
   ]
  },
  {
   "cell_type": "code",
   "execution_count": 43,
   "id": "9b6dfe06",
   "metadata": {},
   "outputs": [
    {
     "name": "stdout",
     "output_type": "stream",
     "text": [
      "['name', 'activity_type', 'full_name_licensee', 'abbreviated_name_licensee', 'brand_name_licensee', 'form', 'address_region', 'address', 'ogrn', 'inn', 'address_number', 'address_nn', 'sub_address', 'sub_index', 'sub_region', 'sub_city', 'sub_street', 'sub_code_fias', 'work_types', 'number', 'date', 'number_orders', 'date_order', 'date_register', 'number_duplicate', 'date_duplicate', 'termination', 'date_termination', 'information', 'information_regulations', 'information_suspension_resumption', 'information_cancellation', 'information_reissuing', 'date_reissuing']\n"
     ]
    }
   ],
   "source": [
    "print(private_stom_work.columns.to_list())"
   ]
  },
  {
   "cell_type": "code",
   "execution_count": 44,
   "id": "dc5e6082",
   "metadata": {},
   "outputs": [],
   "source": [
    "clinic_region = (stom_work\n",
    " .groupby('sub_region', as_index=False)\n",
    " .agg({'inn': 'count'})\n",
    " .rename(columns={'sub_region': 'region', 'inn': 'clinic_number_all'})\n",
    " .sort_values(by='clinic_number_all', ascending=False)\n",
    "                )"
   ]
  },
  {
   "cell_type": "code",
   "execution_count": 45,
   "id": "6acff499",
   "metadata": {},
   "outputs": [
    {
     "data": {
      "text/html": [
       "<div>\n",
       "<style scoped>\n",
       "    .dataframe tbody tr th:only-of-type {\n",
       "        vertical-align: middle;\n",
       "    }\n",
       "\n",
       "    .dataframe tbody tr th {\n",
       "        vertical-align: top;\n",
       "    }\n",
       "\n",
       "    .dataframe thead th {\n",
       "        text-align: right;\n",
       "    }\n",
       "</style>\n",
       "<table border=\"1\" class=\"dataframe\">\n",
       "  <thead>\n",
       "    <tr style=\"text-align: right;\">\n",
       "      <th></th>\n",
       "      <th>region</th>\n",
       "      <th>clinic_number_all</th>\n",
       "    </tr>\n",
       "  </thead>\n",
       "  <tbody>\n",
       "    <tr>\n",
       "      <th>30</th>\n",
       "      <td>Москва</td>\n",
       "      <td>5644</td>\n",
       "    </tr>\n",
       "    <tr>\n",
       "      <th>31</th>\n",
       "      <td>Московская область</td>\n",
       "      <td>3153</td>\n",
       "    </tr>\n",
       "    <tr>\n",
       "      <th>23</th>\n",
       "      <td>Краснодарский край</td>\n",
       "      <td>3022</td>\n",
       "    </tr>\n",
       "    <tr>\n",
       "      <th>64</th>\n",
       "      <td>Санкт-Петербург</td>\n",
       "      <td>2551</td>\n",
       "    </tr>\n",
       "    <tr>\n",
       "      <th>61</th>\n",
       "      <td>Ростовская область</td>\n",
       "      <td>1695</td>\n",
       "    </tr>\n",
       "    <tr>\n",
       "      <th>...</th>\n",
       "      <td>...</td>\n",
       "      <td>...</td>\n",
       "    </tr>\n",
       "    <tr>\n",
       "      <th>29</th>\n",
       "      <td>Магаданская область</td>\n",
       "      <td>75</td>\n",
       "    </tr>\n",
       "    <tr>\n",
       "      <th>59</th>\n",
       "      <td>Республика Тыва</td>\n",
       "      <td>73</td>\n",
       "    </tr>\n",
       "    <tr>\n",
       "      <th>33</th>\n",
       "      <td>Ненецкий автономный округ</td>\n",
       "      <td>39</td>\n",
       "    </tr>\n",
       "    <tr>\n",
       "      <th>83</th>\n",
       "      <td>Чукотский автономный округ</td>\n",
       "      <td>22</td>\n",
       "    </tr>\n",
       "    <tr>\n",
       "      <th>4</th>\n",
       "      <td>Байконур</td>\n",
       "      <td>6</td>\n",
       "    </tr>\n",
       "  </tbody>\n",
       "</table>\n",
       "<p>86 rows × 2 columns</p>\n",
       "</div>"
      ],
      "text/plain": [
       "                        region  clinic_number_all\n",
       "30                      Москва               5644\n",
       "31          Московская область               3153\n",
       "23          Краснодарский край               3022\n",
       "64             Санкт-Петербург               2551\n",
       "61          Ростовская область               1695\n",
       "..                         ...                ...\n",
       "29         Магаданская область                 75\n",
       "59             Республика Тыва                 73\n",
       "33   Ненецкий автономный округ                 39\n",
       "83  Чукотский автономный округ                 22\n",
       "4                     Байконур                  6\n",
       "\n",
       "[86 rows x 2 columns]"
      ]
     },
     "execution_count": 45,
     "metadata": {},
     "output_type": "execute_result"
    }
   ],
   "source": [
    "clinic_region"
   ]
  },
  {
   "cell_type": "code",
   "execution_count": 46,
   "id": "2a2cd905",
   "metadata": {},
   "outputs": [],
   "source": [
    "clinic_region_private = (private_stom_work\n",
    " .groupby('sub_region', as_index=False)\n",
    " .agg({'inn': 'count'})\n",
    " .rename(columns={'sub_region': 'region', 'inn': 'clinic_number_private'})\n",
    " .sort_values(by='clinic_number_private', ascending=False)\n",
    ")"
   ]
  },
  {
   "cell_type": "code",
   "execution_count": 47,
   "id": "9bca2c8e",
   "metadata": {},
   "outputs": [],
   "source": [
    "clinic_region = clinic_region.merge(clinic_region_private, how='left', on='region')"
   ]
  },
  {
   "cell_type": "code",
   "execution_count": 50,
   "id": "f9b3bae0",
   "metadata": {},
   "outputs": [],
   "source": [
    "regions = pd.read_excel('C:/00_Data/datasets/regions_2020.xlsx')"
   ]
  },
  {
   "cell_type": "code",
   "execution_count": 51,
   "id": "0d28fc20",
   "metadata": {},
   "outputs": [],
   "source": [
    "clinic_region = clinic_region.merge(regions, how='left', on='region')"
   ]
  },
  {
   "cell_type": "code",
   "execution_count": 52,
   "id": "e325015f",
   "metadata": {},
   "outputs": [
    {
     "data": {
      "text/html": [
       "<div>\n",
       "<style scoped>\n",
       "    .dataframe tbody tr th:only-of-type {\n",
       "        vertical-align: middle;\n",
       "    }\n",
       "\n",
       "    .dataframe tbody tr th {\n",
       "        vertical-align: top;\n",
       "    }\n",
       "\n",
       "    .dataframe thead th {\n",
       "        text-align: right;\n",
       "    }\n",
       "</style>\n",
       "<table border=\"1\" class=\"dataframe\">\n",
       "  <thead>\n",
       "    <tr style=\"text-align: right;\">\n",
       "      <th></th>\n",
       "      <th>region</th>\n",
       "      <th>clinic_number_all</th>\n",
       "      <th>clinic_number_private</th>\n",
       "      <th>population</th>\n",
       "      <th>square</th>\n",
       "    </tr>\n",
       "  </thead>\n",
       "  <tbody>\n",
       "    <tr>\n",
       "      <th>0</th>\n",
       "      <td>Москва</td>\n",
       "      <td>5644</td>\n",
       "      <td>4040</td>\n",
       "      <td>12655050</td>\n",
       "      <td>2.60</td>\n",
       "    </tr>\n",
       "    <tr>\n",
       "      <th>1</th>\n",
       "      <td>Московская область</td>\n",
       "      <td>3153</td>\n",
       "      <td>2214</td>\n",
       "      <td>7708499</td>\n",
       "      <td>44.30</td>\n",
       "    </tr>\n",
       "    <tr>\n",
       "      <th>2</th>\n",
       "      <td>Краснодарский край</td>\n",
       "      <td>3022</td>\n",
       "      <td>2200</td>\n",
       "      <td>5683947</td>\n",
       "      <td>75.50</td>\n",
       "    </tr>\n",
       "    <tr>\n",
       "      <th>3</th>\n",
       "      <td>Санкт-Петербург</td>\n",
       "      <td>2551</td>\n",
       "      <td>2103</td>\n",
       "      <td>5384342</td>\n",
       "      <td>1.40</td>\n",
       "    </tr>\n",
       "    <tr>\n",
       "      <th>4</th>\n",
       "      <td>Ростовская область</td>\n",
       "      <td>1695</td>\n",
       "      <td>1053</td>\n",
       "      <td>4181486</td>\n",
       "      <td>101.00</td>\n",
       "    </tr>\n",
       "    <tr>\n",
       "      <th>...</th>\n",
       "      <td>...</td>\n",
       "      <td>...</td>\n",
       "      <td>...</td>\n",
       "      <td>...</td>\n",
       "      <td>...</td>\n",
       "    </tr>\n",
       "    <tr>\n",
       "      <th>81</th>\n",
       "      <td>Магаданская область</td>\n",
       "      <td>75</td>\n",
       "      <td>38</td>\n",
       "      <td>139034</td>\n",
       "      <td>462.50</td>\n",
       "    </tr>\n",
       "    <tr>\n",
       "      <th>82</th>\n",
       "      <td>Республика Тыва</td>\n",
       "      <td>73</td>\n",
       "      <td>32</td>\n",
       "      <td>330368</td>\n",
       "      <td>168.60</td>\n",
       "    </tr>\n",
       "    <tr>\n",
       "      <th>83</th>\n",
       "      <td>Ненецкий автономный округ</td>\n",
       "      <td>39</td>\n",
       "      <td>17</td>\n",
       "      <td>44389</td>\n",
       "      <td>176.80</td>\n",
       "    </tr>\n",
       "    <tr>\n",
       "      <th>84</th>\n",
       "      <td>Чукотский автономный округ</td>\n",
       "      <td>22</td>\n",
       "      <td>3</td>\n",
       "      <td>49527</td>\n",
       "      <td>721.50</td>\n",
       "    </tr>\n",
       "    <tr>\n",
       "      <th>85</th>\n",
       "      <td>Байконур</td>\n",
       "      <td>6</td>\n",
       "      <td>2</td>\n",
       "      <td>77169</td>\n",
       "      <td>0.54</td>\n",
       "    </tr>\n",
       "  </tbody>\n",
       "</table>\n",
       "<p>86 rows × 5 columns</p>\n",
       "</div>"
      ],
      "text/plain": [
       "                        region  clinic_number_all  clinic_number_private  \\\n",
       "0                       Москва               5644                   4040   \n",
       "1           Московская область               3153                   2214   \n",
       "2           Краснодарский край               3022                   2200   \n",
       "3              Санкт-Петербург               2551                   2103   \n",
       "4           Ростовская область               1695                   1053   \n",
       "..                         ...                ...                    ...   \n",
       "81         Магаданская область                 75                     38   \n",
       "82             Республика Тыва                 73                     32   \n",
       "83   Ненецкий автономный округ                 39                     17   \n",
       "84  Чукотский автономный округ                 22                      3   \n",
       "85                    Байконур                  6                      2   \n",
       "\n",
       "    population  square  \n",
       "0     12655050    2.60  \n",
       "1      7708499   44.30  \n",
       "2      5683947   75.50  \n",
       "3      5384342    1.40  \n",
       "4      4181486  101.00  \n",
       "..         ...     ...  \n",
       "81      139034  462.50  \n",
       "82      330368  168.60  \n",
       "83       44389  176.80  \n",
       "84       49527  721.50  \n",
       "85       77169    0.54  \n",
       "\n",
       "[86 rows x 5 columns]"
      ]
     },
     "execution_count": 52,
     "metadata": {},
     "output_type": "execute_result"
    }
   ],
   "source": [
    "clinic_region"
   ]
  },
  {
   "cell_type": "code",
   "execution_count": null,
   "id": "df3db38b",
   "metadata": {},
   "outputs": [],
   "source": []
  },
  {
   "cell_type": "code",
   "execution_count": null,
   "id": "7c6d5a40",
   "metadata": {},
   "outputs": [],
   "source": []
  },
  {
   "cell_type": "code",
   "execution_count": 53,
   "id": "cb7b75bb",
   "metadata": {},
   "outputs": [],
   "source": [
    "clinic_region.to_excel('C:/00_Data/clinic_temp.xlsx', index=False)"
   ]
  },
  {
   "cell_type": "code",
   "execution_count": null,
   "id": "91ed8229",
   "metadata": {},
   "outputs": [],
   "source": [
    "stom_work.sample(3)"
   ]
  },
  {
   "cell_type": "code",
   "execution_count": null,
   "id": "73a6cf4a",
   "metadata": {},
   "outputs": [],
   "source": [
    "stom_work.temp.value_counts()"
   ]
  },
  {
   "cell_type": "code",
   "execution_count": null,
   "id": "05fcf41a",
   "metadata": {},
   "outputs": [],
   "source": [
    "# всего негосударственных клиник\n",
    "\n",
    "\n",
    "unique_stom_work = stom_work[stom_work['address_nn'] == 1]\n",
    "\n",
    "unique_stom_work[~(\n",
    "    (unique_stom_work['full_name_licensee'].str.contains('государствен', case=False)) &\n",
    "    (unique_stom_work['full_name_licensee'].str.contains('бюджет', case=False)\n",
    "    )\n",
    ")].shape[0]"
   ]
  },
  {
   "cell_type": "code",
   "execution_count": null,
   "id": "38846ae5",
   "metadata": {},
   "outputs": [],
   "source": [
    "stom_work.to_excel('C:/Data/Стоматологии/temp.xlsx', index=False)"
   ]
  },
  {
   "cell_type": "code",
   "execution_count": null,
   "id": "caf1d0e3",
   "metadata": {},
   "outputs": [],
   "source": []
  },
  {
   "cell_type": "code",
   "execution_count": null,
   "id": "5024b99e",
   "metadata": {},
   "outputs": [],
   "source": []
  },
  {
   "cell_type": "code",
   "execution_count": null,
   "id": "9ab71e2b",
   "metadata": {},
   "outputs": [],
   "source": []
  },
  {
   "cell_type": "code",
   "execution_count": null,
   "id": "5c71272e",
   "metadata": {},
   "outputs": [],
   "source": []
  }
 ],
 "metadata": {
  "kernelspec": {
   "display_name": "Python 3",
   "language": "python",
   "name": "python3"
  },
  "language_info": {
   "codemirror_mode": {
    "name": "ipython",
    "version": 3
   },
   "file_extension": ".py",
   "mimetype": "text/x-python",
   "name": "python",
   "nbconvert_exporter": "python",
   "pygments_lexer": "ipython3",
   "version": "3.8.8"
  }
 },
 "nbformat": 4,
 "nbformat_minor": 5
}
