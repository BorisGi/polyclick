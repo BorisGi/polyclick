{
 "cells": [
  {
   "cell_type": "markdown",
   "id": "48920ac8",
   "metadata": {},
   "source": [
    "Отрезаю лишнее"
   ]
  },
  {
   "cell_type": "code",
   "execution_count": null,
   "id": "092be5ef",
   "metadata": {
    "scrolled": true
   },
   "outputs": [],
   "source": [
    "import pandas as pd\n",
    "\n",
    "import re"
   ]
  },
  {
   "cell_type": "code",
   "execution_count": null,
   "id": "b840eea9",
   "metadata": {
    "scrolled": true
   },
   "outputs": [],
   "source": [
    "work = pd.read_csv('C:/00_Data/datasets/RosZdravNadzor/RZN_lic_2021_11_28.csv', low_memory=False)"
   ]
  },
  {
   "cell_type": "code",
   "execution_count": null,
   "id": "7fe9f633",
   "metadata": {
    "scrolled": true
   },
   "outputs": [],
   "source": [
    "work.shape"
   ]
  },
  {
   "cell_type": "code",
   "execution_count": null,
   "id": "6ff2b61a",
   "metadata": {
    "scrolled": true
   },
   "outputs": [],
   "source": [
    "work.sample(3)"
   ]
  },
  {
   "cell_type": "code",
   "execution_count": null,
   "id": "78dbe48a",
   "metadata": {},
   "outputs": [],
   "source": [
    "work.activity_type.value_counts().reset_index()"
   ]
  },
  {
   "cell_type": "code",
   "execution_count": null,
   "id": "e03283bd",
   "metadata": {},
   "outputs": [],
   "source": [
    "# оставвляю только лицензии на Медицинская деятельность\n",
    "\n",
    "med_work = work[work['activity_type'] == 'Медицинская деятельность']"
   ]
  },
  {
   "cell_type": "code",
   "execution_count": null,
   "id": "6cf48cc2",
   "metadata": {},
   "outputs": [],
   "source": [
    "med_work.shape"
   ]
  },
  {
   "cell_type": "code",
   "execution_count": null,
   "id": "5c3908ce",
   "metadata": {},
   "outputs": [],
   "source": [
    "# оставляю только лицензии на стоматологию и ортодонтию\n",
    "\n",
    "stom_work = med_work[(\n",
    "    (med_work['work_types'].str.contains('стоматолог', case=False)) |\n",
    "    (med_work['work_types'].str.contains('ортодонт', case=False))    \n",
    ")]"
   ]
  },
  {
   "cell_type": "code",
   "execution_count": null,
   "id": "90de6390",
   "metadata": {},
   "outputs": [],
   "source": [
    "stom_work.shape"
   ]
  },
  {
   "cell_type": "code",
   "execution_count": null,
   "id": "05118887",
   "metadata": {
    "scrolled": true
   },
   "outputs": [],
   "source": [
    "#stom_work.to_csv('C:/00_Data/stom_lic_rf_2021_11_28.csv', encoding='utf-8', index=False)"
   ]
  },
  {
   "cell_type": "code",
   "execution_count": null,
   "id": "e3de250b",
   "metadata": {},
   "outputs": [],
   "source": []
  }
 ],
 "metadata": {
  "kernelspec": {
   "display_name": "Python 3",
   "language": "python",
   "name": "python3"
  },
  "language_info": {
   "codemirror_mode": {
    "name": "ipython",
    "version": 3
   },
   "file_extension": ".py",
   "mimetype": "text/x-python",
   "name": "python",
   "nbconvert_exporter": "python",
   "pygments_lexer": "ipython3",
   "version": "3.8.8"
  }
 },
 "nbformat": 4,
 "nbformat_minor": 5
}
