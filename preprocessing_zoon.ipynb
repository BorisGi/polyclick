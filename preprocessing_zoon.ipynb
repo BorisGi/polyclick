{
 "cells": [
  {
   "cell_type": "code",
   "execution_count": 1,
   "id": "f88ccf61",
   "metadata": {},
   "outputs": [],
   "source": [
    "#Загружаю нужные библиотеки\n",
    "\n",
    "import pandas as pd\n",
    "import math\n",
    "import re\n",
    "\n",
    "# для конвертации в словарь\n",
    "import ast\n",
    "\n",
    "# для юзер-агента\n",
    "from fake_useragent import UserAgent\n",
    "\n",
    "# прогресс-бар\n",
    "from tqdm.notebook import trange, tqdm\n",
    "\n",
    "# для пауз при парсинге\n",
    "from time import sleep\n",
    "\n",
    "# селениум\n",
    "from selenium import webdriver\n",
    "\n",
    "from selenium.common.exceptions import NoSuchElementException\n",
    "from selenium.webdriver.common.by import By\n",
    "from selenium.webdriver.support.ui import WebDriverWait\n",
    "from selenium.webdriver.support import expected_conditions as EC"
   ]
  },
  {
   "cell_type": "code",
   "execution_count": 2,
   "id": "0b85664b",
   "metadata": {},
   "outputs": [],
   "source": [
    "work = pd.read_excel('C:/00_Data/Стоматологии/Clinic_Denta/clinic_Denta_info.xlsx', sheet_name='zoon')"
   ]
  },
  {
   "cell_type": "code",
   "execution_count": 3,
   "id": "b8459b59",
   "metadata": {},
   "outputs": [
    {
     "data": {
      "text/html": [
       "<div>\n",
       "<style scoped>\n",
       "    .dataframe tbody tr th:only-of-type {\n",
       "        vertical-align: middle;\n",
       "    }\n",
       "\n",
       "    .dataframe tbody tr th {\n",
       "        vertical-align: top;\n",
       "    }\n",
       "\n",
       "    .dataframe thead th {\n",
       "        text-align: right;\n",
       "    }\n",
       "</style>\n",
       "<table border=\"1\" class=\"dataframe\">\n",
       "  <thead>\n",
       "    <tr style=\"text-align: right;\">\n",
       "      <th></th>\n",
       "      <th>ID_1dent</th>\n",
       "      <th>ident_method</th>\n",
       "      <th>page_url</th>\n",
       "      <th>object_name</th>\n",
       "      <th>address</th>\n",
       "      <th>region</th>\n",
       "      <th>city</th>\n",
       "      <th>street_type</th>\n",
       "      <th>street</th>\n",
       "      <th>house</th>\n",
       "      <th>...</th>\n",
       "      <th>clinic_rating</th>\n",
       "      <th>review_number</th>\n",
       "      <th>description</th>\n",
       "      <th>clinic_info</th>\n",
       "      <th>doc_pics</th>\n",
       "      <th>specialists_dict</th>\n",
       "      <th>price</th>\n",
       "      <th>services</th>\n",
       "      <th>contacts</th>\n",
       "      <th>soc_links</th>\n",
       "    </tr>\n",
       "  </thead>\n",
       "  <tbody>\n",
       "    <tr>\n",
       "      <th>29</th>\n",
       "      <td>4631</td>\n",
       "      <td>phone</td>\n",
       "      <td>https://zoon.ru/msk/medical/stomatologicheskay...</td>\n",
       "      <td>АМК-Dental</td>\n",
       "      <td>м. Проспект Вернадского, проспект Вернадского,...</td>\n",
       "      <td>Москва</td>\n",
       "      <td>Москва</td>\n",
       "      <td>проспект</td>\n",
       "      <td>проспект Вернадского, 61к1</td>\n",
       "      <td>проспект Вернадского, 61к1</td>\n",
       "      <td>...</td>\n",
       "      <td>3.7</td>\n",
       "      <td>0</td>\n",
       "      <td>Здоровье полости рта стоит доверять только ква...</td>\n",
       "      <td>none</td>\n",
       "      <td>0</td>\n",
       "      <td>{'Артур Мурадович Кадыраджиев ': ['Стаж 6 лет'...</td>\n",
       "      <td>{'Лечение кариеса': '4000—5000', 'Удаление зуб...</td>\n",
       "      <td>{'Тип мед. учреждения': 'стоматологическая кли...</td>\n",
       "      <td>{'Время работы': ['ежедневно: 09:00 - 21:00', ...</td>\n",
       "      <td>{'Instagram': 'https://zoon.ru/redirect/?to=ht...</td>\n",
       "    </tr>\n",
       "    <tr>\n",
       "      <th>15</th>\n",
       "      <td>3031</td>\n",
       "      <td>phone</td>\n",
       "      <td>https://zoon.ru/msk/medical/klinika_stomatolog...</td>\n",
       "      <td>Клиника стоматологии и имплантации SWORD</td>\n",
       "      <td>м. Шипиловская, Шипиловская улица, 50к3, Москва</td>\n",
       "      <td>Москва</td>\n",
       "      <td>Москва</td>\n",
       "      <td>улица</td>\n",
       "      <td>Шипиловская 50к3</td>\n",
       "      <td>Шипиловская 50к3</td>\n",
       "      <td>...</td>\n",
       "      <td>4.4</td>\n",
       "      <td>6</td>\n",
       "      <td>Стоматологическая клиника располагается на ули...</td>\n",
       "      <td>['Юридическое название: ООО \"Кумай-2000\"', 'Гл...</td>\n",
       "      <td>0</td>\n",
       "      <td>{'Ирина Анатольевна Мечникова ': ['Стоматолог'...</td>\n",
       "      <td>{'Лечение кариеса': '400—500', 'Удаление зубов...</td>\n",
       "      <td>{'Тип мед. учреждения': 'стоматологическая кли...</td>\n",
       "      <td>{'Время работы': ['ежедневно: 09:00 - 20:00'],...</td>\n",
       "      <td>none</td>\n",
       "    </tr>\n",
       "    <tr>\n",
       "      <th>31</th>\n",
       "      <td>4659</td>\n",
       "      <td>address</td>\n",
       "      <td>https://zoon.ru/msk/medical/stomatologiya_dent...</td>\n",
       "      <td>ДентоСпас</td>\n",
       "      <td>м. Алтуфьево, Шенкурский проезд, 3Б, 3 этаж, М...</td>\n",
       "      <td>Москва</td>\n",
       "      <td>Москва</td>\n",
       "      <td>проезд</td>\n",
       "      <td>Шенкурский</td>\n",
       "      <td>д.3Б</td>\n",
       "      <td>...</td>\n",
       "      <td>4.6</td>\n",
       "      <td>61</td>\n",
       "      <td>Стоматология «ДентоСпас» оказывает качественны...</td>\n",
       "      <td>['Юридическое название: ООО \"АлкоСпас\"']</td>\n",
       "      <td>0</td>\n",
       "      <td>{'Белла Михайловна Амбарцумян ': ['Стаж 13 лет...</td>\n",
       "      <td>{'Лечение кариеса': '5000—11000', 'Удаление зу...</td>\n",
       "      <td>{'Тип мед. учреждения': 'стоматологическая кли...</td>\n",
       "      <td>{'Время работы': ['Пн-Сб: 09:00—21:00; Вс: 09:...</td>\n",
       "      <td>none</td>\n",
       "    </tr>\n",
       "  </tbody>\n",
       "</table>\n",
       "<p>3 rows × 31 columns</p>\n",
       "</div>"
      ],
      "text/plain": [
       "    ID_1dent ident_method                                           page_url  \\\n",
       "29      4631        phone  https://zoon.ru/msk/medical/stomatologicheskay...   \n",
       "15      3031        phone  https://zoon.ru/msk/medical/klinika_stomatolog...   \n",
       "31      4659      address  https://zoon.ru/msk/medical/stomatologiya_dent...   \n",
       "\n",
       "                                 object_name  \\\n",
       "29                                АМК-Dental   \n",
       "15  Клиника стоматологии и имплантации SWORD   \n",
       "31                                 ДентоСпас   \n",
       "\n",
       "                                              address  region    city  \\\n",
       "29  м. Проспект Вернадского, проспект Вернадского,...  Москва  Москва   \n",
       "15    м. Шипиловская, Шипиловская улица, 50к3, Москва  Москва  Москва   \n",
       "31  м. Алтуфьево, Шенкурский проезд, 3Б, 3 этаж, М...  Москва  Москва   \n",
       "\n",
       "   street_type                      street                       house  ...  \\\n",
       "29    проспект  проспект Вернадского, 61к1  проспект Вернадского, 61к1  ...   \n",
       "15       улица            Шипиловская 50к3            Шипиловская 50к3  ...   \n",
       "31      проезд                  Шенкурский                        д.3Б  ...   \n",
       "\n",
       "   clinic_rating review_number  \\\n",
       "29           3.7             0   \n",
       "15           4.4             6   \n",
       "31           4.6            61   \n",
       "\n",
       "                                          description  \\\n",
       "29  Здоровье полости рта стоит доверять только ква...   \n",
       "15  Стоматологическая клиника располагается на ули...   \n",
       "31  Стоматология «ДентоСпас» оказывает качественны...   \n",
       "\n",
       "                                          clinic_info doc_pics  \\\n",
       "29                                               none        0   \n",
       "15  ['Юридическое название: ООО \"Кумай-2000\"', 'Гл...        0   \n",
       "31           ['Юридическое название: ООО \"АлкоСпас\"']        0   \n",
       "\n",
       "                                     specialists_dict  \\\n",
       "29  {'Артур Мурадович Кадыраджиев ': ['Стаж 6 лет'...   \n",
       "15  {'Ирина Анатольевна Мечникова ': ['Стоматолог'...   \n",
       "31  {'Белла Михайловна Амбарцумян ': ['Стаж 13 лет...   \n",
       "\n",
       "                                                price  \\\n",
       "29  {'Лечение кариеса': '4000—5000', 'Удаление зуб...   \n",
       "15  {'Лечение кариеса': '400—500', 'Удаление зубов...   \n",
       "31  {'Лечение кариеса': '5000—11000', 'Удаление зу...   \n",
       "\n",
       "                                             services  \\\n",
       "29  {'Тип мед. учреждения': 'стоматологическая кли...   \n",
       "15  {'Тип мед. учреждения': 'стоматологическая кли...   \n",
       "31  {'Тип мед. учреждения': 'стоматологическая кли...   \n",
       "\n",
       "                                             contacts  \\\n",
       "29  {'Время работы': ['ежедневно: 09:00 - 21:00', ...   \n",
       "15  {'Время работы': ['ежедневно: 09:00 - 20:00'],...   \n",
       "31  {'Время работы': ['Пн-Сб: 09:00—21:00; Вс: 09:...   \n",
       "\n",
       "                                            soc_links  \n",
       "29  {'Instagram': 'https://zoon.ru/redirect/?to=ht...  \n",
       "15                                               none  \n",
       "31                                               none  \n",
       "\n",
       "[3 rows x 31 columns]"
      ]
     },
     "execution_count": 3,
     "metadata": {},
     "output_type": "execute_result"
    }
   ],
   "source": [
    "work.sample(3)"
   ]
  },
  {
   "cell_type": "code",
   "execution_count": 4,
   "id": "d7db89f9",
   "metadata": {},
   "outputs": [
    {
     "data": {
      "text/plain": [
       "Index(['ID_1dent', 'ident_method', 'page_url', 'object_name', 'address',\n",
       "       'region', 'city', 'street_type', 'street', 'house', 'phone', 'hours',\n",
       "       'website', 'social_network', 'fb_link', 'inst_link', 'vk_link',\n",
       "       'tw_link', 'clinic_type', 'stom_services', 'specialists',\n",
       "       'clinic_rating', 'review_number', 'description', 'clinic_info',\n",
       "       'doc_pics', 'specialists_dict', 'price', 'services', 'contacts',\n",
       "       'soc_links'],\n",
       "      dtype='object')"
      ]
     },
     "execution_count": 4,
     "metadata": {},
     "output_type": "execute_result"
    }
   ],
   "source": [
    "work.columns"
   ]
  },
  {
   "cell_type": "code",
   "execution_count": null,
   "id": "7d7ee273",
   "metadata": {},
   "outputs": [],
   "source": [
    "work.shape"
   ]
  },
  {
   "cell_type": "code",
   "execution_count": null,
   "id": "30230778",
   "metadata": {},
   "outputs": [],
   "source": [
    "%%time\n",
    "\n",
    "# вытаскиваю данные из словаря в таблицу\n",
    "\n",
    "data = [] # список для данных\n",
    "\n",
    "for i in range(work.shape[0]):\n",
    "    ID_1dent = work.iloc[[i]]['ID_1dent'].values[0] \n",
    "    clinic = work.iloc[[i]]['clinic'].values[0]\n",
    "    \n",
    "    doctors_dict = ast.literal_eval(work.iloc[i].specialist)\n",
    "    \n",
    "    for doctor in doctors_dict:\n",
    "        short_name = doctors_dict[doctor]['фио']\n",
    "        full_name = doctors_dict[doctor]['имя']\n",
    "        sex = doctors_dict[doctor]['пол']\n",
    "        experience = doctors_dict[doctor]['стаж']\n",
    "        specialization = doctors_dict[doctor]['профиль'].lower()\n",
    "        review_number = doctors_dict[doctor]['кол-во отзывов']\n",
    "        \n",
    "        data.append([ID_1dent, clinic, short_name, full_name, sex, experience, specialization, review_number])   "
   ]
  },
  {
   "cell_type": "code",
   "execution_count": null,
   "id": "84efb66a",
   "metadata": {},
   "outputs": [],
   "source": [
    "len(data)"
   ]
  },
  {
   "cell_type": "code",
   "execution_count": null,
   "id": "cbee2d4c",
   "metadata": {},
   "outputs": [],
   "source": [
    "head = ['ID_1dent', 'clinic', 'short_name', 'full_name', 'sex', 'experience', 'specialization', 'review_number']\n",
    "work_doctors = pd.DataFrame(data, columns=head)"
   ]
  },
  {
   "cell_type": "code",
   "execution_count": null,
   "id": "13257d28",
   "metadata": {},
   "outputs": [],
   "source": [
    "work_doctors.sample(3)"
   ]
  },
  {
   "cell_type": "code",
   "execution_count": null,
   "id": "b2f8bad4",
   "metadata": {},
   "outputs": [],
   "source": [
    "work_doctors.shape"
   ]
  },
  {
   "cell_type": "code",
   "execution_count": null,
   "id": "303d539b",
   "metadata": {},
   "outputs": [],
   "source": [
    "work_doctors.dtypes"
   ]
  },
  {
   "cell_type": "code",
   "execution_count": null,
   "id": "d4f3da31",
   "metadata": {},
   "outputs": [],
   "source": [
    "# проверка на пустые значения\n",
    "\n",
    "work_doctors.isnull().sum()"
   ]
  },
  {
   "cell_type": "code",
   "execution_count": null,
   "id": "f101749f",
   "metadata": {},
   "outputs": [],
   "source": [
    "work_doctors['review_number'] = work.review_number.replace(r'\\s.+', '')"
   ]
  },
  {
   "cell_type": "code",
   "execution_count": null,
   "id": "24f9360a",
   "metadata": {},
   "outputs": [],
   "source": [
    "work_doctors.review_number.fillna('0', inplace=True)"
   ]
  },
  {
   "cell_type": "code",
   "execution_count": null,
   "id": "0ad030d3",
   "metadata": {},
   "outputs": [],
   "source": [
    "work_doctors.experience.fillna('0', inplace=True)"
   ]
  },
  {
   "cell_type": "code",
   "execution_count": null,
   "id": "c47f9804",
   "metadata": {},
   "outputs": [],
   "source": [
    "# меняю типы столбцов\n",
    "\n",
    "work_doctors = work_doctors.astype({'ID_1dent': 'int32', 'experience': 'int32', 'review_number': 'int32'})"
   ]
  },
  {
   "cell_type": "code",
   "execution_count": null,
   "id": "9bda4128",
   "metadata": {},
   "outputs": [],
   "source": []
  },
  {
   "cell_type": "markdown",
   "id": "da559f74",
   "metadata": {},
   "source": [
    "### Средний стаж ###"
   ]
  },
  {
   "cell_type": "code",
   "execution_count": null,
   "id": "12d8d573",
   "metadata": {},
   "outputs": [],
   "source": [
    "# средний стаж врачей в клинике\n",
    "\n",
    "doctor_avr_experience = (work_doctors[work_doctors.experience > 0]\n",
    "                         .groupby(['ID_1dent', 'clinic'], as_index=False)\n",
    "                         .agg({'experience': 'mean'}).round(1)\n",
    "                         .rename(columns={'experience': 'avr_experience'})\n",
    "                        )"
   ]
  },
  {
   "cell_type": "code",
   "execution_count": null,
   "id": "a50ea9f6",
   "metadata": {},
   "outputs": [],
   "source": [
    "doctor_avr_experience.sample(3)"
   ]
  },
  {
   "cell_type": "code",
   "execution_count": null,
   "id": "6bf3cc84",
   "metadata": {},
   "outputs": [],
   "source": [
    "work = work.merge(doctor_avr_experience, how='left', on=['ID_1dent', 'clinic'])"
   ]
  },
  {
   "cell_type": "code",
   "execution_count": null,
   "id": "b16de584",
   "metadata": {},
   "outputs": [],
   "source": [
    "work.shape"
   ]
  },
  {
   "cell_type": "code",
   "execution_count": null,
   "id": "2a405ad1",
   "metadata": {},
   "outputs": [],
   "source": []
  },
  {
   "cell_type": "markdown",
   "id": "bcbd2cdf",
   "metadata": {},
   "source": [
    "### Специализация клиник ###"
   ]
  },
  {
   "cell_type": "code",
   "execution_count": null,
   "id": "d9d51dcf",
   "metadata": {},
   "outputs": [],
   "source": [
    "# составляю список уникальных специальностей\n",
    "\n",
    "doc_specialization = [] # список для данных\n",
    "\n",
    "for i in work_doctors['specialization']: # вытаскиваю циклом\n",
    "    if i != '': # fillna не помог\n",
    "        doc_specialization += i.split(', ')\n",
    "    \n",
    "doc_specialization = list(set(doc_specialization)) # удаляю повторы"
   ]
  },
  {
   "cell_type": "code",
   "execution_count": null,
   "id": "d0b2f9b7",
   "metadata": {},
   "outputs": [],
   "source": [
    "# сортирую\n",
    "\n",
    "doc_specialization.sort()\n",
    "\n",
    "doc_specialization"
   ]
  },
  {
   "cell_type": "code",
   "execution_count": null,
   "id": "ecc05f3e",
   "metadata": {},
   "outputs": [],
   "source": [
    "\n",
    "doc_specialization_dict = {} # словарь для специализаций\n",
    "\n",
    "for specialty in doc_specialization:\n",
    "    doc_number = 0\n",
    "    \n",
    "    for item in work_doctors['specialization'].values:\n",
    "        for i in item.split(', '):\n",
    "            doc_number += i.count(specialty)\n",
    "                    \n",
    "    doc_specialization_dict[specialty] = doc_number"
   ]
  },
  {
   "cell_type": "code",
   "execution_count": null,
   "id": "b5af2630",
   "metadata": {},
   "outputs": [],
   "source": [
    "doc_specialization_dict"
   ]
  },
  {
   "cell_type": "code",
   "execution_count": null,
   "id": "cf05800d",
   "metadata": {},
   "outputs": [],
   "source": [
    "header = ['specialty', 'doc_number']\n",
    "work_doc_specialization = pd.DataFrame(list(doc_specialization_dict.items()), columns=header)"
   ]
  },
  {
   "cell_type": "code",
   "execution_count": null,
   "id": "d71bf819",
   "metadata": {},
   "outputs": [],
   "source": [
    "work_doc_specialization"
   ]
  },
  {
   "cell_type": "code",
   "execution_count": null,
   "id": "f4648016",
   "metadata": {},
   "outputs": [],
   "source": []
  },
  {
   "cell_type": "markdown",
   "id": "80f2d364",
   "metadata": {},
   "source": [
    "### Вытаскиваю специализации врачей в плоскую таблицу ###"
   ]
  },
  {
   "cell_type": "code",
   "execution_count": null,
   "id": "5e8ce616",
   "metadata": {},
   "outputs": [],
   "source": [
    "# вытаскиваю специализации \n",
    "\n",
    "for specialty in doc_specialization:\n",
    "    temp_list = []\n",
    "    \n",
    "    for i in range(work_doctors.shape[0]):\n",
    "        temp_list.append(work_doctors.loc[i].specialization.split(', ').count(specialty))\n",
    "        \n",
    "    work_doctors[specialty] = temp_list"
   ]
  },
  {
   "cell_type": "code",
   "execution_count": null,
   "id": "5026f56c",
   "metadata": {},
   "outputs": [],
   "source": []
  },
  {
   "cell_type": "code",
   "execution_count": null,
   "id": "98189a17",
   "metadata": {},
   "outputs": [],
   "source": [
    "work_doctors.head()"
   ]
  },
  {
   "cell_type": "code",
   "execution_count": null,
   "id": "70b3beb1",
   "metadata": {},
   "outputs": [],
   "source": [
    "work_doctors.to_excel('C:/00_Data/Стоматологии/Clinic_Denta/temp.xlsx')"
   ]
  },
  {
   "cell_type": "code",
   "execution_count": null,
   "id": "af75f145",
   "metadata": {},
   "outputs": [],
   "source": [
    "doc_specialization"
   ]
  },
  {
   "cell_type": "code",
   "execution_count": null,
   "id": "4afe1feb",
   "metadata": {},
   "outputs": [],
   "source": [
    "# список с нужными специальностями\n",
    "\n",
    "doc_specialization_need = ['гнатолог',\n",
    "                           'детский стоматолог',\n",
    "                           'пародонтолог',\n",
    "                           'стоматолог',\n",
    "                           'стоматолог-гигиенист',\n",
    "                           'стоматолог-имплантолог',\n",
    "                           'стоматолог-ортодонт',\n",
    "                           'стоматолог-ортопед',\n",
    "                           'стоматолог-хирург',\n",
    "                           'терапевт',\n",
    "                           'челюстно-лицевой хирург']"
   ]
  },
  {
   "cell_type": "code",
   "execution_count": null,
   "id": "e01c1579",
   "metadata": {},
   "outputs": [],
   "source": [
    "clinic_specialization = (work_doctors\n",
    "                         .groupby('clinic', as_index=False)\n",
    "                         .agg({'гнатолог': 'sum',\n",
    "                               'детский стоматолог': 'sum',\n",
    "                               'пародонтолог': 'sum',\n",
    "                               'стоматолог': 'sum',\n",
    "                               'стоматолог-гигиенист': 'sum',\n",
    "                               'стоматолог-имплантолог': 'sum',\n",
    "                               'стоматолог-ортодонт': 'sum',\n",
    "                               'стоматолог-ортопед': 'sum',\n",
    "                               'стоматолог-хирург': 'sum',\n",
    "                               'терапевт': 'sum',\n",
    "                               'челюстно-лицевой хирург': 'sum'})\n",
    "                        )"
   ]
  },
  {
   "cell_type": "code",
   "execution_count": null,
   "id": "da5ee610",
   "metadata": {},
   "outputs": [],
   "source": [
    "clinic_specialization['all_specialties'] = clinic_specialization.iloc[:, 1:].sum(axis=1)"
   ]
  },
  {
   "cell_type": "code",
   "execution_count": null,
   "id": "b468c0dc",
   "metadata": {},
   "outputs": [],
   "source": [
    "clinic_specialization.sample()"
   ]
  },
  {
   "cell_type": "code",
   "execution_count": null,
   "id": "1967020c",
   "metadata": {},
   "outputs": [],
   "source": [
    "clinic_specialization['pediatric_%'] = round(\n",
    "    clinic_specialization['детский стоматолог'] / clinic_specialization['all_specialties'],\n",
    "    2)"
   ]
  },
  {
   "cell_type": "code",
   "execution_count": null,
   "id": "58678f1c",
   "metadata": {},
   "outputs": [],
   "source": [
    "clinic_specialization['orthodontist_%'] = round(\n",
    "    clinic_specialization['стоматолог-ортодонт'] / clinic_specialization['all_specialties'],\n",
    "    2)"
   ]
  },
  {
   "cell_type": "code",
   "execution_count": null,
   "id": "34f802f2",
   "metadata": {},
   "outputs": [],
   "source": []
  },
  {
   "cell_type": "code",
   "execution_count": null,
   "id": "2054b527",
   "metadata": {},
   "outputs": [],
   "source": [
    "work.sample()"
   ]
  },
  {
   "cell_type": "code",
   "execution_count": null,
   "id": "5e373bb1",
   "metadata": {},
   "outputs": [],
   "source": [
    "work = work.merge(clinic_specialization, on='clinic', how='left')"
   ]
  },
  {
   "cell_type": "code",
   "execution_count": null,
   "id": "65bb4a70",
   "metadata": {},
   "outputs": [],
   "source": [
    "work.to_excel('C:/00_Data/Стоматологии/Clinic_Denta/temp1.xlsx')"
   ]
  },
  {
   "cell_type": "code",
   "execution_count": null,
   "id": "533fbc27",
   "metadata": {},
   "outputs": [],
   "source": []
  }
 ],
 "metadata": {
  "kernelspec": {
   "display_name": "Python 3",
   "language": "python",
   "name": "python3"
  },
  "language_info": {
   "codemirror_mode": {
    "name": "ipython",
    "version": 3
   },
   "file_extension": ".py",
   "mimetype": "text/x-python",
   "name": "python",
   "nbconvert_exporter": "python",
   "pygments_lexer": "ipython3",
   "version": "3.8.8"
  }
 },
 "nbformat": 4,
 "nbformat_minor": 5
}
