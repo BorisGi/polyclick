{
 "cells": [
  {
   "cell_type": "code",
   "execution_count": 1,
   "id": "231fa663",
   "metadata": {},
   "outputs": [],
   "source": [
    "# загружаю библиотеки\n",
    "\n",
    "import pandas as pd\n"
   ]
  },
  {
   "cell_type": "code",
   "execution_count": 12,
   "id": "ea147df2",
   "metadata": {},
   "outputs": [],
   "source": [
    "work_vacancies = pd.read_excel('C:/00_Data/avito_vacancies.xlsx', sheet_name='data')"
   ]
  },
  {
   "cell_type": "code",
   "execution_count": 13,
   "id": "2881600b",
   "metadata": {},
   "outputs": [
    {
     "data": {
      "text/html": [
       "<div>\n",
       "<style scoped>\n",
       "    .dataframe tbody tr th:only-of-type {\n",
       "        vertical-align: middle;\n",
       "    }\n",
       "\n",
       "    .dataframe tbody tr th {\n",
       "        vertical-align: top;\n",
       "    }\n",
       "\n",
       "    .dataframe thead th {\n",
       "        text-align: right;\n",
       "    }\n",
       "</style>\n",
       "<table border=\"1\" class=\"dataframe\">\n",
       "  <thead>\n",
       "    <tr style=\"text-align: right;\">\n",
       "      <th></th>\n",
       "      <th>topic</th>\n",
       "      <th>clinic</th>\n",
       "      <th>address</th>\n",
       "      <th>ads_text</th>\n",
       "      <th>price</th>\n",
       "      <th>user_url</th>\n",
       "      <th>url</th>\n",
       "    </tr>\n",
       "  </thead>\n",
       "  <tbody>\n",
       "    <tr>\n",
       "      <th>0</th>\n",
       "      <td>Администратор</td>\n",
       "      <td>ООО\\АРТСТОМ\\</td>\n",
       "      <td>Ивановская область, Иваново, ул. Парижской Ком...</td>\n",
       "      <td>Требуется Администратор в стоматологию. Требо...</td>\n",
       "      <td>нет</td>\n",
       "      <td>нет</td>\n",
       "      <td>https://www.avito.ru/ivanovo/vakansii/administ...</td>\n",
       "    </tr>\n",
       "    <tr>\n",
       "      <th>1</th>\n",
       "      <td>Администратор</td>\n",
       "      <td>Елена</td>\n",
       "      <td>Москва, Ломоносовский пр-т, 25к3</td>\n",
       "      <td>Описание работодателя:стоматологияТребования:...</td>\n",
       "      <td>3500</td>\n",
       "      <td>https://www.avito.ru/user/a8807bc1e0f13adb7247...</td>\n",
       "      <td>https://www.avito.ru/moskva/vakansii/administr...</td>\n",
       "    </tr>\n",
       "    <tr>\n",
       "      <th>2</th>\n",
       "      <td>Администратор</td>\n",
       "      <td>Стоматологический центр</td>\n",
       "      <td>Липецкая область, Липецк, ул. Петра Смородина, 5А</td>\n",
       "      <td>Ищем xорoшeго aдминистратоpа в стоматологичес...</td>\n",
       "      <td>30000</td>\n",
       "      <td>https://www.avito.ru/user/b8b0378aafabcd1cdf76...</td>\n",
       "      <td>https://www.avito.ru/lipetsk/vakansii/administ...</td>\n",
       "    </tr>\n",
       "    <tr>\n",
       "      <th>3</th>\n",
       "      <td>Администратор</td>\n",
       "      <td>Валентина</td>\n",
       "      <td>Кемеровская область, Новокузнецкий г.о., Новок...</td>\n",
       "      <td>В новую стоматологическую клинику со сплоченн...</td>\n",
       "      <td>25000</td>\n",
       "      <td>https://www.avito.ru/user/6279c5b959795cb3e40a...</td>\n",
       "      <td>https://www.avito.ru/novokuznetsk/vakansii/adm...</td>\n",
       "    </tr>\n",
       "    <tr>\n",
       "      <th>4</th>\n",
       "      <td>Администратор</td>\n",
       "      <td>Olimjon Ayubov</td>\n",
       "      <td>Челябинская область, Челябинск, пер. Лермонтов...</td>\n",
       "      <td>Требуется в стоматологическую клинику @ Ayubi...</td>\n",
       "      <td>15000</td>\n",
       "      <td>https://www.avito.ru/user/a5d74a9e45f4a99c12be...</td>\n",
       "      <td>https://www.avito.ru/chelyabinsk/vakansii/admi...</td>\n",
       "    </tr>\n",
       "  </tbody>\n",
       "</table>\n",
       "</div>"
      ],
      "text/plain": [
       "           topic                   clinic  \\\n",
       "0  Администратор             ООО\\АРТСТОМ\\   \n",
       "1  Администратор                    Елена   \n",
       "2  Администратор  Стоматологический центр   \n",
       "3  Администратор                Валентина   \n",
       "4  Администратор           Olimjon Ayubov   \n",
       "\n",
       "                                             address  \\\n",
       "0  Ивановская область, Иваново, ул. Парижской Ком...   \n",
       "1                   Москва, Ломоносовский пр-т, 25к3   \n",
       "2  Липецкая область, Липецк, ул. Петра Смородина, 5А   \n",
       "3  Кемеровская область, Новокузнецкий г.о., Новок...   \n",
       "4  Челябинская область, Челябинск, пер. Лермонтов...   \n",
       "\n",
       "                                            ads_text  price  \\\n",
       "0   Требуется Администратор в стоматологию. Требо...    нет   \n",
       "1   Описание работодателя:стоматологияТребования:...   3500   \n",
       "2   Ищем xорoшeго aдминистратоpа в стоматологичес...  30000   \n",
       "3   В новую стоматологическую клинику со сплоченн...  25000   \n",
       "4   Требуется в стоматологическую клинику @ Ayubi...  15000   \n",
       "\n",
       "                                            user_url  \\\n",
       "0                                                нет   \n",
       "1  https://www.avito.ru/user/a8807bc1e0f13adb7247...   \n",
       "2  https://www.avito.ru/user/b8b0378aafabcd1cdf76...   \n",
       "3  https://www.avito.ru/user/6279c5b959795cb3e40a...   \n",
       "4  https://www.avito.ru/user/a5d74a9e45f4a99c12be...   \n",
       "\n",
       "                                                 url  \n",
       "0  https://www.avito.ru/ivanovo/vakansii/administ...  \n",
       "1  https://www.avito.ru/moskva/vakansii/administr...  \n",
       "2  https://www.avito.ru/lipetsk/vakansii/administ...  \n",
       "3  https://www.avito.ru/novokuznetsk/vakansii/adm...  \n",
       "4  https://www.avito.ru/chelyabinsk/vakansii/admi...  "
      ]
     },
     "execution_count": 13,
     "metadata": {},
     "output_type": "execute_result"
    }
   ],
   "source": [
    "work_vacancies.head()"
   ]
  },
  {
   "cell_type": "code",
   "execution_count": 14,
   "id": "bc9da955",
   "metadata": {},
   "outputs": [
    {
     "data": {
      "text/html": [
       "<div>\n",
       "<style scoped>\n",
       "    .dataframe tbody tr th:only-of-type {\n",
       "        vertical-align: middle;\n",
       "    }\n",
       "\n",
       "    .dataframe tbody tr th {\n",
       "        vertical-align: top;\n",
       "    }\n",
       "\n",
       "    .dataframe thead th {\n",
       "        text-align: right;\n",
       "    }\n",
       "</style>\n",
       "<table border=\"1\" class=\"dataframe\">\n",
       "  <thead>\n",
       "    <tr style=\"text-align: right;\">\n",
       "      <th></th>\n",
       "      <th>index</th>\n",
       "      <th>topic</th>\n",
       "    </tr>\n",
       "  </thead>\n",
       "  <tbody>\n",
       "    <tr>\n",
       "      <th>0</th>\n",
       "      <td>Администратор в стоматологию</td>\n",
       "      <td>79</td>\n",
       "    </tr>\n",
       "    <tr>\n",
       "      <th>1</th>\n",
       "      <td>Администратор стоматологической клиники</td>\n",
       "      <td>49</td>\n",
       "    </tr>\n",
       "    <tr>\n",
       "      <th>2</th>\n",
       "      <td>Администратор</td>\n",
       "      <td>48</td>\n",
       "    </tr>\n",
       "    <tr>\n",
       "      <th>3</th>\n",
       "      <td>Администратор в стоматологическую клинику</td>\n",
       "      <td>29</td>\n",
       "    </tr>\n",
       "    <tr>\n",
       "      <th>4</th>\n",
       "      <td>Администратор стоматологии</td>\n",
       "      <td>23</td>\n",
       "    </tr>\n",
       "    <tr>\n",
       "      <th>...</th>\n",
       "      <td>...</td>\n",
       "      <td>...</td>\n",
       "    </tr>\n",
       "    <tr>\n",
       "      <th>78</th>\n",
       "      <td>Администратор - куратор</td>\n",
       "      <td>1</td>\n",
       "    </tr>\n",
       "    <tr>\n",
       "      <th>79</th>\n",
       "      <td>Администратор-медсестра в стоматологию</td>\n",
       "      <td>1</td>\n",
       "    </tr>\n",
       "    <tr>\n",
       "      <th>80</th>\n",
       "      <td>Администратор на телефон на пол дня(подработка...</td>\n",
       "      <td>1</td>\n",
       "    </tr>\n",
       "    <tr>\n",
       "      <th>81</th>\n",
       "      <td>Ассистент стоматолога (медсестра в стоматологию)</td>\n",
       "      <td>1</td>\n",
       "    </tr>\n",
       "    <tr>\n",
       "      <th>82</th>\n",
       "      <td>Администратор в стоматологию, старший админист...</td>\n",
       "      <td>1</td>\n",
       "    </tr>\n",
       "  </tbody>\n",
       "</table>\n",
       "<p>83 rows × 2 columns</p>\n",
       "</div>"
      ],
      "text/plain": [
       "                                                index  topic\n",
       "0                        Администратор в стоматологию     79\n",
       "1             Администратор стоматологической клиники     49\n",
       "2                                       Администратор     48\n",
       "3           Администратор в стоматологическую клинику     29\n",
       "4                          Администратор стоматологии     23\n",
       "..                                                ...    ...\n",
       "78                            Администратор - куратор      1\n",
       "79             Администратор-медсестра в стоматологию      1\n",
       "80  Администратор на телефон на пол дня(подработка...      1\n",
       "81   Ассистент стоматолога (медсестра в стоматологию)      1\n",
       "82  Администратор в стоматологию, старший админист...      1\n",
       "\n",
       "[83 rows x 2 columns]"
      ]
     },
     "execution_count": 14,
     "metadata": {},
     "output_type": "execute_result"
    }
   ],
   "source": [
    "work_vacancies.topic.value_counts().reset_index()"
   ]
  },
  {
   "cell_type": "code",
   "execution_count": 15,
   "id": "a9fe2ed0",
   "metadata": {},
   "outputs": [],
   "source": [
    "# список слов-ключей лишних объявлений\n",
    "\n",
    "unless_list = [\n",
    "    'АЗС',\n",
    "    'ветеринар', \n",
    "    'кафе',\n",
    "    'продавец',\n",
    "    'работник',\n",
    "    'системный'    \n",
    "]"
   ]
  },
  {
   "cell_type": "code",
   "execution_count": 16,
   "id": "28c2c88a",
   "metadata": {},
   "outputs": [
    {
     "data": {
      "text/plain": [
       "(319, 7)"
      ]
     },
     "execution_count": 16,
     "metadata": {},
     "output_type": "execute_result"
    }
   ],
   "source": [
    "work_vacancies.shape"
   ]
  },
  {
   "cell_type": "code",
   "execution_count": 17,
   "id": "95caf78a",
   "metadata": {},
   "outputs": [
    {
     "name": "stdout",
     "output_type": "stream",
     "text": [
      "Wall time: 5.99 ms\n"
     ]
    }
   ],
   "source": [
    "%%time\n",
    "\n",
    "# удаляю циклом строки с лишними корнями\n",
    "\n",
    "for unless_word in unless_list:\n",
    "    work_vacancies = work_vacancies[~(work_vacancies['topic'].str.contains(unless_word, case=False))]"
   ]
  },
  {
   "cell_type": "code",
   "execution_count": 18,
   "id": "4be4959b",
   "metadata": {},
   "outputs": [
    {
     "data": {
      "text/plain": [
       "(319, 7)"
      ]
     },
     "execution_count": 18,
     "metadata": {},
     "output_type": "execute_result"
    }
   ],
   "source": [
    "work_vacancies.shape"
   ]
  },
  {
   "cell_type": "code",
   "execution_count": null,
   "id": "e93ba239",
   "metadata": {},
   "outputs": [],
   "source": []
  },
  {
   "cell_type": "code",
   "execution_count": null,
   "id": "9ddb79ca",
   "metadata": {},
   "outputs": [],
   "source": []
  },
  {
   "cell_type": "code",
   "execution_count": null,
   "id": "95b324f2",
   "metadata": {},
   "outputs": [],
   "source": []
  },
  {
   "cell_type": "code",
   "execution_count": null,
   "id": "df6b0214",
   "metadata": {},
   "outputs": [],
   "source": []
  },
  {
   "cell_type": "code",
   "execution_count": null,
   "id": "d0d389ad",
   "metadata": {},
   "outputs": [],
   "source": []
  },
  {
   "cell_type": "code",
   "execution_count": null,
   "id": "6df1de85",
   "metadata": {},
   "outputs": [],
   "source": []
  }
 ],
 "metadata": {
  "kernelspec": {
   "display_name": "Python 3",
   "language": "python",
   "name": "python3"
  },
  "language_info": {
   "codemirror_mode": {
    "name": "ipython",
    "version": 3
   },
   "file_extension": ".py",
   "mimetype": "text/x-python",
   "name": "python",
   "nbconvert_exporter": "python",
   "pygments_lexer": "ipython3",
   "version": "3.8.8"
  }
 },
 "nbformat": 4,
 "nbformat_minor": 5
}
