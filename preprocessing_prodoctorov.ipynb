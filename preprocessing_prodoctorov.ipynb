{
 "cells": [
  {
   "cell_type": "code",
   "execution_count": 4,
   "id": "f88ccf61",
   "metadata": {},
   "outputs": [],
   "source": [
    "#Загружаю нужные библиотеки\n",
    "\n",
    "import pandas as pd\n",
    "import math\n",
    "import re\n",
    "import os\n",
    "\n",
    "# для конвертации в словарь\n",
    "import ast\n",
    "\n",
    "# для юзер-агента\n",
    "from fake_useragent import UserAgent\n",
    "\n",
    "# прогресс-бар\n",
    "from tqdm.notebook import trange, tqdm\n",
    "\n",
    "# для пауз при парсинге\n",
    "from time import sleep\n",
    "\n",
    "# селениум\n",
    "from selenium import webdriver\n",
    "\n",
    "from selenium.common.exceptions import NoSuchElementException\n",
    "from selenium.webdriver.common.by import By\n",
    "from selenium.webdriver.support.ui import WebDriverWait\n",
    "from selenium.webdriver.support import expected_conditions as EC"
   ]
  },
  {
   "cell_type": "code",
   "execution_count": 13,
   "id": "0bbf996b",
   "metadata": {},
   "outputs": [],
   "source": [
    "file_path = 'C:/00_Data/03_stom/00_raw_data/med_aggrs_2021_12_dec/'"
   ]
  },
  {
   "cell_type": "code",
   "execution_count": 14,
   "id": "72adf4c5",
   "metadata": {},
   "outputs": [],
   "source": [
    "file_path_add = file_path + 'prodoctorov/'"
   ]
  },
  {
   "cell_type": "code",
   "execution_count": 16,
   "id": "283ab981",
   "metadata": {},
   "outputs": [],
   "source": [
    "# вытаскиваю названия файлов в список file_list\n",
    "\n",
    "file_list = []\n",
    "\n",
    "for root, dirs, files in os.walk(file_path_add):\n",
    "    \n",
    "    for filename in files:\n",
    "        file_list += [filename]"
   ]
  },
  {
   "cell_type": "code",
   "execution_count": 17,
   "id": "3e3029cb",
   "metadata": {},
   "outputs": [
    {
     "data": {
      "text/plain": [
       "['01_prodoctorov_msk.csv',\n",
       " '02_prodoctorov_spb.csv',\n",
       " '03_prodoctorov_nsk.csv',\n",
       " '04_prodoctorov_ekt.csv',\n",
       " '05_prodoctorov_kazan.csv',\n",
       " '06_prodoctorov_nnovgorod.csv',\n",
       " '07_prodoctorov_info_chelyabinsk.csv',\n",
       " '08_prodoctorov_info_samara.csv',\n",
       " '09_prodoctorov_info_omsk.csv',\n",
       " '10_prodoctorov_info_rostov-na-donu.csv',\n",
       " '11_prodoctorov_info_ufa.csv',\n",
       " '12_prodoctorov_info_krasnoyarsk.csv',\n",
       " '13_prodoctorov_info_voronezh.csv',\n",
       " '14_prodoctorov_info_perm.csv',\n",
       " '15_prodoctorov_info_volgograd.csv',\n",
       " '16_prodoctorov_info_krasnodar.csv',\n",
       " '17_prodoctorov_info_saratov.csv',\n",
       " '18_prodoctorov_info_tolyatti.csv',\n",
       " '19_prodoctorov_barnaul.csv',\n",
       " '20_prodoctorov_info_izhevsk.csv',\n",
       " '21_prodoctorov_info_ulyanovsk.csv',\n",
       " '22_prodoctorov_vladivostok.csv',\n",
       " '23_prodoctorov_info_yaroslavl.csv',\n",
       " '24_prodoctorov_info_irkutsk.csv',\n",
       " '25_prodoctorov_info_tyumen.csv',\n",
       " '26_prodoctorov_info_mahachkala.csv',\n",
       " '27_prodoctorov_info_habarovsk.csv',\n",
       " '28_prodoctorov_info_orenburg.csv']"
      ]
     },
     "execution_count": 17,
     "metadata": {},
     "output_type": "execute_result"
    }
   ],
   "source": [
    "file_list"
   ]
  },
  {
   "cell_type": "code",
   "execution_count": 33,
   "id": "26a1e699",
   "metadata": {},
   "outputs": [],
   "source": [
    "work = pd.read_csv(file_path_add + file_list[0])"
   ]
  },
  {
   "cell_type": "code",
   "execution_count": 31,
   "id": "11ca86e3",
   "metadata": {},
   "outputs": [],
   "source": []
  },
  {
   "cell_type": "code",
   "execution_count": 48,
   "id": "9e8a4553",
   "metadata": {},
   "outputs": [],
   "source": [
    "# все датасеты в один\n",
    "\n",
    "work = pd.DataFrame()\n",
    "\n",
    "for file in file_list:\n",
    "    temp = pd.read_csv(file_path_add + file, low_memory=False)\n",
    "    \n",
    "    work = work.append(temp, ignore_index = True)\n",
    "    \n",
    "    work = work.drop_duplicates()"
   ]
  },
  {
   "cell_type": "code",
   "execution_count": 49,
   "id": "7d7ee273",
   "metadata": {},
   "outputs": [
    {
     "data": {
      "text/plain": [
       "(8021, 28)"
      ]
     },
     "execution_count": 49,
     "metadata": {},
     "output_type": "execute_result"
    }
   ],
   "source": [
    "work.shape"
   ]
  },
  {
   "cell_type": "code",
   "execution_count": null,
   "id": "06998799",
   "metadata": {},
   "outputs": [],
   "source": []
  },
  {
   "cell_type": "code",
   "execution_count": 63,
   "id": "30230778",
   "metadata": {},
   "outputs": [
    {
     "name": "stdout",
     "output_type": "stream",
     "text": [
      "Wall time: 5.97 s\n"
     ]
    }
   ],
   "source": [
    "%%time\n",
    "\n",
    "# вытаскиваю данные из словаря в таблицу\n",
    "\n",
    "data = [] # список для данных\n",
    "\n",
    "for i in range(work.shape[0]):\n",
    "    #ID_1dent = work.iloc[[i]]['ID_1dent'].values[0] \n",
    "    clinic = work.iloc[[i]]['clinic'].values[0]\n",
    "    city = work.iloc[[i]]['city'].values[0]\n",
    "    \n",
    "    doctors_dict = ast.literal_eval(work.iloc[i].specialist)\n",
    "    \n",
    "    for doctor in doctors_dict:\n",
    "        short_name = doctors_dict[doctor]['фио']\n",
    "        full_name = doctors_dict[doctor]['имя']\n",
    "        sex = doctors_dict[doctor]['пол']\n",
    "        experience = doctors_dict[doctor]['стаж']\n",
    "        specialization = doctors_dict[doctor]['профиль'].lower()\n",
    "        review_number = doctors_dict[doctor]['кол-во отзывов']\n",
    "        \n",
    "        data.append([clinic, city,\n",
    "                     short_name, full_name, sex,\n",
    "                     experience, specialization, review_number])"
   ]
  },
  {
   "cell_type": "code",
   "execution_count": 64,
   "id": "84efb66a",
   "metadata": {},
   "outputs": [
    {
     "data": {
      "text/plain": [
       "38488"
      ]
     },
     "execution_count": 64,
     "metadata": {},
     "output_type": "execute_result"
    }
   ],
   "source": [
    "len(data)"
   ]
  },
  {
   "cell_type": "code",
   "execution_count": 65,
   "id": "cbee2d4c",
   "metadata": {},
   "outputs": [],
   "source": [
    "head = ['clinic', 'city', 'short_name', 'full_name', 'sex', 'experience', 'specialization', 'review_number']\n",
    "work_doctors = pd.DataFrame(data, columns=head)"
   ]
  },
  {
   "cell_type": "code",
   "execution_count": 66,
   "id": "13257d28",
   "metadata": {},
   "outputs": [
    {
     "data": {
      "text/html": [
       "<div>\n",
       "<style scoped>\n",
       "    .dataframe tbody tr th:only-of-type {\n",
       "        vertical-align: middle;\n",
       "    }\n",
       "\n",
       "    .dataframe tbody tr th {\n",
       "        vertical-align: top;\n",
       "    }\n",
       "\n",
       "    .dataframe thead th {\n",
       "        text-align: right;\n",
       "    }\n",
       "</style>\n",
       "<table border=\"1\" class=\"dataframe\">\n",
       "  <thead>\n",
       "    <tr style=\"text-align: right;\">\n",
       "      <th></th>\n",
       "      <th>clinic</th>\n",
       "      <th>city</th>\n",
       "      <th>short_name</th>\n",
       "      <th>full_name</th>\n",
       "      <th>sex</th>\n",
       "      <th>experience</th>\n",
       "      <th>specialization</th>\n",
       "      <th>review_number</th>\n",
       "    </tr>\n",
       "  </thead>\n",
       "  <tbody>\n",
       "    <tr>\n",
       "      <th>10001</th>\n",
       "      <td>Стоматология «Приорити»</td>\n",
       "      <td>Москва</td>\n",
       "      <td>Болдырева Е. С.</td>\n",
       "      <td>Болдырева Екатерина Сергеевна</td>\n",
       "      <td>F</td>\n",
       "      <td>18</td>\n",
       "      <td>стоматолог</td>\n",
       "      <td>1 отзыв</td>\n",
       "    </tr>\n",
       "    <tr>\n",
       "      <th>22013</th>\n",
       "      <td>«9 Стоматология» на Короленко</td>\n",
       "      <td>Казань</td>\n",
       "      <td>Шарафутдинова В. М.</td>\n",
       "      <td>Шарафутдинова Венера Муллаяровна</td>\n",
       "      <td>F</td>\n",
       "      <td>43</td>\n",
       "      <td>стоматолог-хирург</td>\n",
       "      <td>2 отзыва</td>\n",
       "    </tr>\n",
       "    <tr>\n",
       "      <th>32943</th>\n",
       "      <td>Стоматология «21 век»</td>\n",
       "      <td>Краснодар</td>\n",
       "      <td>Михайленко И. М.</td>\n",
       "      <td>Михайленко Иван Михайлович</td>\n",
       "      <td>M</td>\n",
       "      <td>18</td>\n",
       "      <td>стоматолог</td>\n",
       "      <td>9 отзывов</td>\n",
       "    </tr>\n",
       "  </tbody>\n",
       "</table>\n",
       "</div>"
      ],
      "text/plain": [
       "                              clinic       city           short_name  \\\n",
       "10001        Стоматология «Приорити»     Москва      Болдырева Е. С.   \n",
       "22013  «9 Стоматология» на Короленко     Казань  Шарафутдинова В. М.   \n",
       "32943          Стоматология «21 век»  Краснодар     Михайленко И. М.   \n",
       "\n",
       "                              full_name sex experience     specialization  \\\n",
       "10001     Болдырева Екатерина Сергеевна   F         18         стоматолог   \n",
       "22013  Шарафутдинова Венера Муллаяровна   F         43  стоматолог-хирург   \n",
       "32943        Михайленко Иван Михайлович   M         18         стоматолог   \n",
       "\n",
       "      review_number  \n",
       "10001       1 отзыв  \n",
       "22013      2 отзыва  \n",
       "32943     9 отзывов  "
      ]
     },
     "execution_count": 66,
     "metadata": {},
     "output_type": "execute_result"
    }
   ],
   "source": [
    "work_doctors.sample(3)"
   ]
  },
  {
   "cell_type": "code",
   "execution_count": 67,
   "id": "b2f8bad4",
   "metadata": {},
   "outputs": [
    {
     "data": {
      "text/plain": [
       "(38488, 8)"
      ]
     },
     "execution_count": 67,
     "metadata": {},
     "output_type": "execute_result"
    }
   ],
   "source": [
    "work_doctors.shape"
   ]
  },
  {
   "cell_type": "code",
   "execution_count": 68,
   "id": "303d539b",
   "metadata": {},
   "outputs": [
    {
     "data": {
      "text/plain": [
       "clinic            object\n",
       "city              object\n",
       "short_name        object\n",
       "full_name         object\n",
       "sex               object\n",
       "experience        object\n",
       "specialization    object\n",
       "review_number     object\n",
       "dtype: object"
      ]
     },
     "execution_count": 68,
     "metadata": {},
     "output_type": "execute_result"
    }
   ],
   "source": [
    "work_doctors.dtypes"
   ]
  },
  {
   "cell_type": "code",
   "execution_count": 69,
   "id": "d4f3da31",
   "metadata": {},
   "outputs": [
    {
     "data": {
      "text/plain": [
       "clinic               0\n",
       "city                 0\n",
       "short_name           0\n",
       "full_name            0\n",
       "sex                  0\n",
       "experience        5916\n",
       "specialization       0\n",
       "review_number        0\n",
       "dtype: int64"
      ]
     },
     "execution_count": 69,
     "metadata": {},
     "output_type": "execute_result"
    }
   ],
   "source": [
    "# проверка на пустые значения\n",
    "\n",
    "work_doctors.isnull().sum()"
   ]
  },
  {
   "cell_type": "code",
   "execution_count": 70,
   "id": "f101749f",
   "metadata": {},
   "outputs": [],
   "source": [
    "work_doctors['review_number'] = work.review_number.replace(r'\\s.+', '')"
   ]
  },
  {
   "cell_type": "code",
   "execution_count": 71,
   "id": "24f9360a",
   "metadata": {},
   "outputs": [],
   "source": [
    "work_doctors.review_number.fillna('0', inplace=True)"
   ]
  },
  {
   "cell_type": "code",
   "execution_count": 72,
   "id": "0ad030d3",
   "metadata": {},
   "outputs": [],
   "source": [
    "work_doctors.experience.fillna('none', inplace=True)"
   ]
  },
  {
   "cell_type": "code",
   "execution_count": 77,
   "id": "c47f9804",
   "metadata": {},
   "outputs": [],
   "source": [
    "# меняю типы столбцов\n",
    "\n",
    "#work_doctors = work_doctors.astype({'experience': 'int32'})"
   ]
  },
  {
   "cell_type": "code",
   "execution_count": null,
   "id": "4c649c00",
   "metadata": {},
   "outputs": [],
   "source": []
  },
  {
   "cell_type": "code",
   "execution_count": 86,
   "id": "7cb90697",
   "metadata": {},
   "outputs": [
    {
     "data": {
      "text/plain": [
       "clinic                object\n",
       "of_name               object\n",
       "clinic_type           object\n",
       "city                  object\n",
       "address               object\n",
       "metro_stations        object\n",
       "work_hours            object\n",
       "phone                 object\n",
       "web_site              object\n",
       "clinic_score          object\n",
       "doc_score             object\n",
       "doc_exp_score         object\n",
       "review_number         object\n",
       "good_reviews           int64\n",
       "neutral_reviews        int64\n",
       "bad_reviews            int64\n",
       "clinic_features       object\n",
       "related_clinics       object\n",
       "doc_number            object\n",
       "doc_number_2           int64\n",
       "specialist            object\n",
       "consultation_price    object\n",
       "full_price            object\n",
       "of_info               object\n",
       "annotation            object\n",
       "clinic_description    object\n",
       "info_date             object\n",
       "clinic_page           object\n",
       "dtype: object"
      ]
     },
     "execution_count": 86,
     "metadata": {},
     "output_type": "execute_result"
    }
   ],
   "source": [
    "work.dtypes"
   ]
  },
  {
   "cell_type": "code",
   "execution_count": 78,
   "id": "e9ae0045",
   "metadata": {},
   "outputs": [
    {
     "data": {
      "text/html": [
       "<div>\n",
       "<style scoped>\n",
       "    .dataframe tbody tr th:only-of-type {\n",
       "        vertical-align: middle;\n",
       "    }\n",
       "\n",
       "    .dataframe tbody tr th {\n",
       "        vertical-align: top;\n",
       "    }\n",
       "\n",
       "    .dataframe thead th {\n",
       "        text-align: right;\n",
       "    }\n",
       "</style>\n",
       "<table border=\"1\" class=\"dataframe\">\n",
       "  <thead>\n",
       "    <tr style=\"text-align: right;\">\n",
       "      <th></th>\n",
       "      <th>clinic</th>\n",
       "      <th>of_name</th>\n",
       "      <th>clinic_type</th>\n",
       "      <th>city</th>\n",
       "      <th>address</th>\n",
       "      <th>metro_stations</th>\n",
       "      <th>work_hours</th>\n",
       "      <th>phone</th>\n",
       "      <th>web_site</th>\n",
       "      <th>clinic_score</th>\n",
       "      <th>...</th>\n",
       "      <th>doc_number</th>\n",
       "      <th>doc_number_2</th>\n",
       "      <th>specialist</th>\n",
       "      <th>consultation_price</th>\n",
       "      <th>full_price</th>\n",
       "      <th>of_info</th>\n",
       "      <th>annotation</th>\n",
       "      <th>clinic_description</th>\n",
       "      <th>info_date</th>\n",
       "      <th>clinic_page</th>\n",
       "    </tr>\n",
       "  </thead>\n",
       "  <tbody>\n",
       "    <tr>\n",
       "      <th>7058</th>\n",
       "      <td>Стоматология «Унидент» на Пензенском бульваре</td>\n",
       "      <td>ООО «Унидент»</td>\n",
       "      <td>Стоматология</td>\n",
       "      <td>Ульяновск</td>\n",
       "      <td>бульвар Пензенский, д. 22</td>\n",
       "      <td>{}</td>\n",
       "      <td>['ПН-ПТ: 09:00 — 20:00', 'СБ-ВС: 09:00 — 14:00']</td>\n",
       "      <td>none</td>\n",
       "      <td>http://www.unident-ul.ru</td>\n",
       "      <td>0.8</td>\n",
       "      <td>...</td>\n",
       "      <td>8</td>\n",
       "      <td>8</td>\n",
       "      <td>{'257081': {'фио': 'Михайлова О. А.', 'имя': '...</td>\n",
       "      <td>{'Пародонтолог': 'от 120', 'Стоматолог': 'от 1...</td>\n",
       "      <td>{'Лечение зубов': {'Лечение кариеса': 'от 475'...</td>\n",
       "      <td>{'address': 'бульвар Пензенский, д. 22', 'Вход...</td>\n",
       "      <td>Стоматология «Унидент» на Пензенском бульваре,...</td>\n",
       "      <td>Описание\\nПроезд\\nДо стоматологической клиники...</td>\n",
       "      <td>27.08.2020</td>\n",
       "      <td>https://prodoctorov.ru/ulyanovsk/lpu/32152-uni...</td>\n",
       "    </tr>\n",
       "  </tbody>\n",
       "</table>\n",
       "<p>1 rows × 28 columns</p>\n",
       "</div>"
      ],
      "text/plain": [
       "                                             clinic        of_name  \\\n",
       "7058  Стоматология «Унидент» на Пензенском бульваре  ООО «Унидент»   \n",
       "\n",
       "       clinic_type       city                    address metro_stations  \\\n",
       "7058  Стоматология  Ульяновск  бульвар Пензенский, д. 22             {}   \n",
       "\n",
       "                                            work_hours phone  \\\n",
       "7058  ['ПН-ПТ: 09:00 — 20:00', 'СБ-ВС: 09:00 — 14:00']  none   \n",
       "\n",
       "                      web_site clinic_score  ... doc_number doc_number_2  \\\n",
       "7058  http://www.unident-ul.ru          0.8  ...          8            8   \n",
       "\n",
       "                                             specialist  \\\n",
       "7058  {'257081': {'фио': 'Михайлова О. А.', 'имя': '...   \n",
       "\n",
       "                                     consultation_price  \\\n",
       "7058  {'Пародонтолог': 'от 120', 'Стоматолог': 'от 1...   \n",
       "\n",
       "                                             full_price  \\\n",
       "7058  {'Лечение зубов': {'Лечение кариеса': 'от 475'...   \n",
       "\n",
       "                                                of_info  \\\n",
       "7058  {'address': 'бульвар Пензенский, д. 22', 'Вход...   \n",
       "\n",
       "                                             annotation  \\\n",
       "7058  Стоматология «Унидент» на Пензенском бульваре,...   \n",
       "\n",
       "                                     clinic_description   info_date  \\\n",
       "7058  Описание\\nПроезд\\nДо стоматологической клиники...  27.08.2020   \n",
       "\n",
       "                                            clinic_page  \n",
       "7058  https://prodoctorov.ru/ulyanovsk/lpu/32152-uni...  \n",
       "\n",
       "[1 rows x 28 columns]"
      ]
     },
     "execution_count": 78,
     "metadata": {},
     "output_type": "execute_result"
    }
   ],
   "source": [
    "work.sample()"
   ]
  },
  {
   "cell_type": "code",
   "execution_count": 84,
   "id": "3cf8026c",
   "metadata": {},
   "outputs": [],
   "source": [
    "# количество клиник\n",
    "\n",
    "(work.groupby('city', as_index=False)\n",
    " .agg({'clinic': 'count'})\n",
    " #.rename(columns={'divorce_number': 'average'})\n",
    " .sort_values('clinic', ascending=False)\n",
    ").to_excel(file_path + 'temp.xlsx', index=False)"
   ]
  },
  {
   "cell_type": "code",
   "execution_count": 89,
   "id": "a460a5f6",
   "metadata": {},
   "outputs": [],
   "source": [
    "# количество врачей\n",
    "\n",
    "(work.groupby('city', as_index=False)\n",
    " .agg({'clinic': 'count', 'doc_number_2': 'sum'})\n",
    " #.rename(columns={'divorce_number': 'average'})\n",
    " .sort_values('clinic', ascending=False)\n",
    ")#.to_excel(file_path + 'temp.xlsx', index=False)"
   ]
  },
  {
   "cell_type": "code",
   "execution_count": null,
   "id": "44757fbf",
   "metadata": {},
   "outputs": [],
   "source": []
  },
  {
   "cell_type": "code",
   "execution_count": 92,
   "id": "66578417",
   "metadata": {},
   "outputs": [],
   "source": [
    "work_doctors.to_excel(file_path + 'temp.xlsx', index=False)"
   ]
  },
  {
   "cell_type": "code",
   "execution_count": 91,
   "id": "9bda4128",
   "metadata": {},
   "outputs": [
    {
     "data": {
      "text/plain": [
       "<pandas.core.groupby.generic.DataFrameGroupBy object at 0x0000023627A3EA90>"
      ]
     },
     "execution_count": 91,
     "metadata": {},
     "output_type": "execute_result"
    }
   ],
   "source": [
    "# количество врачей\n",
    "\n",
    "(work_doctors.groupby(['full_name', 'clinic'], as_index=False)\n",
    " .agg({'clinic': 'count', 'doc_number_2': 'sum'})\n",
    " #.rename(columns={'divorce_number': 'average'})\n",
    " #.sort_values('clinic', ascending=False)\n",
    ")#.to_excel(file_path + 'temp.xlsx', index=False)"
   ]
  },
  {
   "cell_type": "code",
   "execution_count": null,
   "id": "19868c80",
   "metadata": {},
   "outputs": [],
   "source": []
  },
  {
   "cell_type": "code",
   "execution_count": null,
   "id": "9f8c83c9",
   "metadata": {},
   "outputs": [],
   "source": []
  },
  {
   "cell_type": "code",
   "execution_count": null,
   "id": "1a935aa6",
   "metadata": {},
   "outputs": [],
   "source": []
  },
  {
   "cell_type": "code",
   "execution_count": null,
   "id": "4bfe3355",
   "metadata": {},
   "outputs": [],
   "source": []
  },
  {
   "cell_type": "code",
   "execution_count": null,
   "id": "312aeedc",
   "metadata": {},
   "outputs": [],
   "source": []
  },
  {
   "cell_type": "code",
   "execution_count": null,
   "id": "95347df4",
   "metadata": {},
   "outputs": [],
   "source": []
  },
  {
   "cell_type": "code",
   "execution_count": null,
   "id": "bef029d7",
   "metadata": {},
   "outputs": [],
   "source": []
  },
  {
   "cell_type": "code",
   "execution_count": null,
   "id": "27469cf4",
   "metadata": {},
   "outputs": [],
   "source": []
  },
  {
   "cell_type": "code",
   "execution_count": null,
   "id": "def7a903",
   "metadata": {},
   "outputs": [],
   "source": []
  },
  {
   "cell_type": "code",
   "execution_count": null,
   "id": "1f30496a",
   "metadata": {},
   "outputs": [],
   "source": []
  },
  {
   "cell_type": "code",
   "execution_count": null,
   "id": "c70f92fc",
   "metadata": {},
   "outputs": [],
   "source": []
  },
  {
   "cell_type": "code",
   "execution_count": null,
   "id": "bf5bc409",
   "metadata": {},
   "outputs": [],
   "source": []
  },
  {
   "cell_type": "markdown",
   "id": "da559f74",
   "metadata": {},
   "source": [
    "### Средний стаж ###"
   ]
  },
  {
   "cell_type": "code",
   "execution_count": 75,
   "id": "12d8d573",
   "metadata": {},
   "outputs": [
    {
     "ename": "TypeError",
     "evalue": "'>' not supported between instances of 'str' and 'int'",
     "output_type": "error",
     "traceback": [
      "\u001b[1;31m---------------------------------------------------------------------------\u001b[0m",
      "\u001b[1;31mTypeError\u001b[0m                                 Traceback (most recent call last)",
      "\u001b[1;32m<ipython-input-75-317e9bb14f4c>\u001b[0m in \u001b[0;36m<module>\u001b[1;34m\u001b[0m\n\u001b[0;32m      1\u001b[0m \u001b[1;31m# средний стаж врачей в клинике\u001b[0m\u001b[1;33m\u001b[0m\u001b[1;33m\u001b[0m\u001b[1;33m\u001b[0m\u001b[0m\n\u001b[0;32m      2\u001b[0m \u001b[1;33m\u001b[0m\u001b[0m\n\u001b[1;32m----> 3\u001b[1;33m doctor_avr_experience = (work_doctors[work_doctors.experience > 0]\n\u001b[0m\u001b[0;32m      4\u001b[0m                          \u001b[1;33m.\u001b[0m\u001b[0mgroupby\u001b[0m\u001b[1;33m(\u001b[0m\u001b[1;33m[\u001b[0m\u001b[1;34m'clinic'\u001b[0m\u001b[1;33m]\u001b[0m\u001b[1;33m,\u001b[0m \u001b[0mas_index\u001b[0m\u001b[1;33m=\u001b[0m\u001b[1;32mFalse\u001b[0m\u001b[1;33m)\u001b[0m\u001b[1;33m\u001b[0m\u001b[1;33m\u001b[0m\u001b[0m\n\u001b[0;32m      5\u001b[0m                          \u001b[1;33m.\u001b[0m\u001b[0magg\u001b[0m\u001b[1;33m(\u001b[0m\u001b[1;33m{\u001b[0m\u001b[1;34m'experience'\u001b[0m\u001b[1;33m:\u001b[0m \u001b[1;34m'mean'\u001b[0m\u001b[1;33m}\u001b[0m\u001b[1;33m)\u001b[0m\u001b[1;33m.\u001b[0m\u001b[0mround\u001b[0m\u001b[1;33m(\u001b[0m\u001b[1;36m1\u001b[0m\u001b[1;33m)\u001b[0m\u001b[1;33m\u001b[0m\u001b[1;33m\u001b[0m\u001b[0m\n",
      "\u001b[1;32m~\\anaconda3\\lib\\site-packages\\pandas\\core\\ops\\common.py\u001b[0m in \u001b[0;36mnew_method\u001b[1;34m(self, other)\u001b[0m\n\u001b[0;32m     63\u001b[0m         \u001b[0mother\u001b[0m \u001b[1;33m=\u001b[0m \u001b[0mitem_from_zerodim\u001b[0m\u001b[1;33m(\u001b[0m\u001b[0mother\u001b[0m\u001b[1;33m)\u001b[0m\u001b[1;33m\u001b[0m\u001b[1;33m\u001b[0m\u001b[0m\n\u001b[0;32m     64\u001b[0m \u001b[1;33m\u001b[0m\u001b[0m\n\u001b[1;32m---> 65\u001b[1;33m         \u001b[1;32mreturn\u001b[0m \u001b[0mmethod\u001b[0m\u001b[1;33m(\u001b[0m\u001b[0mself\u001b[0m\u001b[1;33m,\u001b[0m \u001b[0mother\u001b[0m\u001b[1;33m)\u001b[0m\u001b[1;33m\u001b[0m\u001b[1;33m\u001b[0m\u001b[0m\n\u001b[0m\u001b[0;32m     66\u001b[0m \u001b[1;33m\u001b[0m\u001b[0m\n\u001b[0;32m     67\u001b[0m     \u001b[1;32mreturn\u001b[0m \u001b[0mnew_method\u001b[0m\u001b[1;33m\u001b[0m\u001b[1;33m\u001b[0m\u001b[0m\n",
      "\u001b[1;32m~\\anaconda3\\lib\\site-packages\\pandas\\core\\arraylike.py\u001b[0m in \u001b[0;36m__gt__\u001b[1;34m(self, other)\u001b[0m\n\u001b[0;32m     43\u001b[0m     \u001b[1;33m@\u001b[0m\u001b[0munpack_zerodim_and_defer\u001b[0m\u001b[1;33m(\u001b[0m\u001b[1;34m\"__gt__\"\u001b[0m\u001b[1;33m)\u001b[0m\u001b[1;33m\u001b[0m\u001b[1;33m\u001b[0m\u001b[0m\n\u001b[0;32m     44\u001b[0m     \u001b[1;32mdef\u001b[0m \u001b[0m__gt__\u001b[0m\u001b[1;33m(\u001b[0m\u001b[0mself\u001b[0m\u001b[1;33m,\u001b[0m \u001b[0mother\u001b[0m\u001b[1;33m)\u001b[0m\u001b[1;33m:\u001b[0m\u001b[1;33m\u001b[0m\u001b[1;33m\u001b[0m\u001b[0m\n\u001b[1;32m---> 45\u001b[1;33m         \u001b[1;32mreturn\u001b[0m \u001b[0mself\u001b[0m\u001b[1;33m.\u001b[0m\u001b[0m_cmp_method\u001b[0m\u001b[1;33m(\u001b[0m\u001b[0mother\u001b[0m\u001b[1;33m,\u001b[0m \u001b[0moperator\u001b[0m\u001b[1;33m.\u001b[0m\u001b[0mgt\u001b[0m\u001b[1;33m)\u001b[0m\u001b[1;33m\u001b[0m\u001b[1;33m\u001b[0m\u001b[0m\n\u001b[0m\u001b[0;32m     46\u001b[0m \u001b[1;33m\u001b[0m\u001b[0m\n\u001b[0;32m     47\u001b[0m     \u001b[1;33m@\u001b[0m\u001b[0munpack_zerodim_and_defer\u001b[0m\u001b[1;33m(\u001b[0m\u001b[1;34m\"__ge__\"\u001b[0m\u001b[1;33m)\u001b[0m\u001b[1;33m\u001b[0m\u001b[1;33m\u001b[0m\u001b[0m\n",
      "\u001b[1;32m~\\anaconda3\\lib\\site-packages\\pandas\\core\\series.py\u001b[0m in \u001b[0;36m_cmp_method\u001b[1;34m(self, other, op)\u001b[0m\n\u001b[0;32m   4976\u001b[0m         \u001b[0mrvalues\u001b[0m \u001b[1;33m=\u001b[0m \u001b[0mextract_array\u001b[0m\u001b[1;33m(\u001b[0m\u001b[0mother\u001b[0m\u001b[1;33m,\u001b[0m \u001b[0mextract_numpy\u001b[0m\u001b[1;33m=\u001b[0m\u001b[1;32mTrue\u001b[0m\u001b[1;33m)\u001b[0m\u001b[1;33m\u001b[0m\u001b[1;33m\u001b[0m\u001b[0m\n\u001b[0;32m   4977\u001b[0m \u001b[1;33m\u001b[0m\u001b[0m\n\u001b[1;32m-> 4978\u001b[1;33m         \u001b[0mres_values\u001b[0m \u001b[1;33m=\u001b[0m \u001b[0mops\u001b[0m\u001b[1;33m.\u001b[0m\u001b[0mcomparison_op\u001b[0m\u001b[1;33m(\u001b[0m\u001b[0mlvalues\u001b[0m\u001b[1;33m,\u001b[0m \u001b[0mrvalues\u001b[0m\u001b[1;33m,\u001b[0m \u001b[0mop\u001b[0m\u001b[1;33m)\u001b[0m\u001b[1;33m\u001b[0m\u001b[1;33m\u001b[0m\u001b[0m\n\u001b[0m\u001b[0;32m   4979\u001b[0m \u001b[1;33m\u001b[0m\u001b[0m\n\u001b[0;32m   4980\u001b[0m         \u001b[1;32mreturn\u001b[0m \u001b[0mself\u001b[0m\u001b[1;33m.\u001b[0m\u001b[0m_construct_result\u001b[0m\u001b[1;33m(\u001b[0m\u001b[0mres_values\u001b[0m\u001b[1;33m,\u001b[0m \u001b[0mname\u001b[0m\u001b[1;33m=\u001b[0m\u001b[0mres_name\u001b[0m\u001b[1;33m)\u001b[0m\u001b[1;33m\u001b[0m\u001b[1;33m\u001b[0m\u001b[0m\n",
      "\u001b[1;32m~\\anaconda3\\lib\\site-packages\\pandas\\core\\ops\\array_ops.py\u001b[0m in \u001b[0;36mcomparison_op\u001b[1;34m(left, right, op)\u001b[0m\n\u001b[0;32m    241\u001b[0m \u001b[1;33m\u001b[0m\u001b[0m\n\u001b[0;32m    242\u001b[0m     \u001b[1;32melif\u001b[0m \u001b[0mis_object_dtype\u001b[0m\u001b[1;33m(\u001b[0m\u001b[0mlvalues\u001b[0m\u001b[1;33m.\u001b[0m\u001b[0mdtype\u001b[0m\u001b[1;33m)\u001b[0m\u001b[1;33m:\u001b[0m\u001b[1;33m\u001b[0m\u001b[1;33m\u001b[0m\u001b[0m\n\u001b[1;32m--> 243\u001b[1;33m         \u001b[0mres_values\u001b[0m \u001b[1;33m=\u001b[0m \u001b[0mcomp_method_OBJECT_ARRAY\u001b[0m\u001b[1;33m(\u001b[0m\u001b[0mop\u001b[0m\u001b[1;33m,\u001b[0m \u001b[0mlvalues\u001b[0m\u001b[1;33m,\u001b[0m \u001b[0mrvalues\u001b[0m\u001b[1;33m)\u001b[0m\u001b[1;33m\u001b[0m\u001b[1;33m\u001b[0m\u001b[0m\n\u001b[0m\u001b[0;32m    244\u001b[0m \u001b[1;33m\u001b[0m\u001b[0m\n\u001b[0;32m    245\u001b[0m     \u001b[1;32melse\u001b[0m\u001b[1;33m:\u001b[0m\u001b[1;33m\u001b[0m\u001b[1;33m\u001b[0m\u001b[0m\n",
      "\u001b[1;32m~\\anaconda3\\lib\\site-packages\\pandas\\core\\ops\\array_ops.py\u001b[0m in \u001b[0;36mcomp_method_OBJECT_ARRAY\u001b[1;34m(op, x, y)\u001b[0m\n\u001b[0;32m     53\u001b[0m         \u001b[0mresult\u001b[0m \u001b[1;33m=\u001b[0m \u001b[0mlibops\u001b[0m\u001b[1;33m.\u001b[0m\u001b[0mvec_compare\u001b[0m\u001b[1;33m(\u001b[0m\u001b[0mx\u001b[0m\u001b[1;33m.\u001b[0m\u001b[0mravel\u001b[0m\u001b[1;33m(\u001b[0m\u001b[1;33m)\u001b[0m\u001b[1;33m,\u001b[0m \u001b[0my\u001b[0m\u001b[1;33m.\u001b[0m\u001b[0mravel\u001b[0m\u001b[1;33m(\u001b[0m\u001b[1;33m)\u001b[0m\u001b[1;33m,\u001b[0m \u001b[0mop\u001b[0m\u001b[1;33m)\u001b[0m\u001b[1;33m\u001b[0m\u001b[1;33m\u001b[0m\u001b[0m\n\u001b[0;32m     54\u001b[0m     \u001b[1;32melse\u001b[0m\u001b[1;33m:\u001b[0m\u001b[1;33m\u001b[0m\u001b[1;33m\u001b[0m\u001b[0m\n\u001b[1;32m---> 55\u001b[1;33m         \u001b[0mresult\u001b[0m \u001b[1;33m=\u001b[0m \u001b[0mlibops\u001b[0m\u001b[1;33m.\u001b[0m\u001b[0mscalar_compare\u001b[0m\u001b[1;33m(\u001b[0m\u001b[0mx\u001b[0m\u001b[1;33m.\u001b[0m\u001b[0mravel\u001b[0m\u001b[1;33m(\u001b[0m\u001b[1;33m)\u001b[0m\u001b[1;33m,\u001b[0m \u001b[0my\u001b[0m\u001b[1;33m,\u001b[0m \u001b[0mop\u001b[0m\u001b[1;33m)\u001b[0m\u001b[1;33m\u001b[0m\u001b[1;33m\u001b[0m\u001b[0m\n\u001b[0m\u001b[0;32m     56\u001b[0m     \u001b[1;32mreturn\u001b[0m \u001b[0mresult\u001b[0m\u001b[1;33m.\u001b[0m\u001b[0mreshape\u001b[0m\u001b[1;33m(\u001b[0m\u001b[0mx\u001b[0m\u001b[1;33m.\u001b[0m\u001b[0mshape\u001b[0m\u001b[1;33m)\u001b[0m\u001b[1;33m\u001b[0m\u001b[1;33m\u001b[0m\u001b[0m\n\u001b[0;32m     57\u001b[0m \u001b[1;33m\u001b[0m\u001b[0m\n",
      "\u001b[1;32mpandas\\_libs\\ops.pyx\u001b[0m in \u001b[0;36mpandas._libs.ops.scalar_compare\u001b[1;34m()\u001b[0m\n",
      "\u001b[1;31mTypeError\u001b[0m: '>' not supported between instances of 'str' and 'int'"
     ]
    }
   ],
   "source": [
    "# средний стаж врачей в клинике\n",
    "\n",
    "doctor_avr_experience = (work_doctors[work_doctors.experience > 0]\n",
    "                         .groupby(['clinic'], as_index=False)\n",
    "                         .agg({'experience': 'mean'}).round(1)\n",
    "                         .rename(columns={'experience': 'avr_experience'})\n",
    "                        )"
   ]
  },
  {
   "cell_type": "code",
   "execution_count": null,
   "id": "a50ea9f6",
   "metadata": {},
   "outputs": [],
   "source": [
    "doctor_avr_experience.sample(3)"
   ]
  },
  {
   "cell_type": "code",
   "execution_count": null,
   "id": "6bf3cc84",
   "metadata": {},
   "outputs": [],
   "source": [
    "work = work.merge(doctor_avr_experience, how='left', on=['ID_1dent', 'clinic'])"
   ]
  },
  {
   "cell_type": "code",
   "execution_count": null,
   "id": "b16de584",
   "metadata": {},
   "outputs": [],
   "source": [
    "work.shape"
   ]
  },
  {
   "cell_type": "code",
   "execution_count": null,
   "id": "2a405ad1",
   "metadata": {},
   "outputs": [],
   "source": []
  },
  {
   "cell_type": "markdown",
   "id": "bcbd2cdf",
   "metadata": {},
   "source": [
    "### Специализация клиник ###"
   ]
  },
  {
   "cell_type": "code",
   "execution_count": null,
   "id": "d9d51dcf",
   "metadata": {},
   "outputs": [],
   "source": [
    "# составляю список уникальных специальностей\n",
    "\n",
    "doc_specialization = [] # список для данных\n",
    "\n",
    "for i in work_doctors['specialization']: # вытаскиваю циклом\n",
    "    if i != '': # fillna не помог\n",
    "        doc_specialization += i.split(', ')\n",
    "    \n",
    "doc_specialization = list(set(doc_specialization)) # удаляю повторы"
   ]
  },
  {
   "cell_type": "code",
   "execution_count": null,
   "id": "d0b2f9b7",
   "metadata": {},
   "outputs": [],
   "source": [
    "# сортирую\n",
    "\n",
    "doc_specialization.sort()\n",
    "\n",
    "doc_specialization"
   ]
  },
  {
   "cell_type": "code",
   "execution_count": null,
   "id": "ecc05f3e",
   "metadata": {},
   "outputs": [],
   "source": [
    "\n",
    "doc_specialization_dict = {} # словарь для специализаций\n",
    "\n",
    "for specialty in doc_specialization:\n",
    "    doc_number = 0\n",
    "    \n",
    "    for item in work_doctors['specialization'].values:\n",
    "        for i in item.split(', '):\n",
    "            doc_number += i.count(specialty)\n",
    "                    \n",
    "    doc_specialization_dict[specialty] = doc_number"
   ]
  },
  {
   "cell_type": "code",
   "execution_count": null,
   "id": "b5af2630",
   "metadata": {},
   "outputs": [],
   "source": [
    "doc_specialization_dict"
   ]
  },
  {
   "cell_type": "code",
   "execution_count": null,
   "id": "cf05800d",
   "metadata": {},
   "outputs": [],
   "source": [
    "header = ['specialty', 'doc_number']\n",
    "work_doc_specialization = pd.DataFrame(list(doc_specialization_dict.items()), columns=header)"
   ]
  },
  {
   "cell_type": "code",
   "execution_count": null,
   "id": "d71bf819",
   "metadata": {},
   "outputs": [],
   "source": [
    "work_doc_specialization"
   ]
  },
  {
   "cell_type": "code",
   "execution_count": null,
   "id": "f4648016",
   "metadata": {},
   "outputs": [],
   "source": []
  },
  {
   "cell_type": "markdown",
   "id": "80f2d364",
   "metadata": {},
   "source": [
    "### Вытаскиваю специализации врачей в плоскую таблицу ###"
   ]
  },
  {
   "cell_type": "code",
   "execution_count": null,
   "id": "5e8ce616",
   "metadata": {},
   "outputs": [],
   "source": [
    "# вытаскиваю специализации \n",
    "\n",
    "for specialty in doc_specialization:\n",
    "    temp_list = []\n",
    "    \n",
    "    for i in range(work_doctors.shape[0]):\n",
    "        temp_list.append(work_doctors.loc[i].specialization.split(', ').count(specialty))\n",
    "        \n",
    "    work_doctors[specialty] = temp_list"
   ]
  },
  {
   "cell_type": "code",
   "execution_count": null,
   "id": "5026f56c",
   "metadata": {},
   "outputs": [],
   "source": []
  },
  {
   "cell_type": "code",
   "execution_count": null,
   "id": "98189a17",
   "metadata": {},
   "outputs": [],
   "source": [
    "work_doctors.head()"
   ]
  },
  {
   "cell_type": "code",
   "execution_count": null,
   "id": "70b3beb1",
   "metadata": {},
   "outputs": [],
   "source": [
    "work_doctors.to_excel('C:/00_Data/Стоматологии/Clinic_Denta/temp.xlsx')"
   ]
  },
  {
   "cell_type": "code",
   "execution_count": null,
   "id": "af75f145",
   "metadata": {},
   "outputs": [],
   "source": [
    "doc_specialization"
   ]
  },
  {
   "cell_type": "code",
   "execution_count": null,
   "id": "4afe1feb",
   "metadata": {},
   "outputs": [],
   "source": [
    "# список с нужными специальностями\n",
    "\n",
    "doc_specialization_need = ['гнатолог',\n",
    "                           'детский стоматолог',\n",
    "                           'пародонтолог',\n",
    "                           'стоматолог',\n",
    "                           'стоматолог-гигиенист',\n",
    "                           'стоматолог-имплантолог',\n",
    "                           'стоматолог-ортодонт',\n",
    "                           'стоматолог-ортопед',\n",
    "                           'стоматолог-хирург',\n",
    "                           'терапевт',\n",
    "                           'челюстно-лицевой хирург']"
   ]
  },
  {
   "cell_type": "code",
   "execution_count": null,
   "id": "e01c1579",
   "metadata": {},
   "outputs": [],
   "source": [
    "clinic_specialization = (work_doctors\n",
    "                         .groupby('clinic', as_index=False)\n",
    "                         .agg({'гнатолог': 'sum',\n",
    "                               'детский стоматолог': 'sum',\n",
    "                               'пародонтолог': 'sum',\n",
    "                               'стоматолог': 'sum',\n",
    "                               'стоматолог-гигиенист': 'sum',\n",
    "                               'стоматолог-имплантолог': 'sum',\n",
    "                               'стоматолог-ортодонт': 'sum',\n",
    "                               'стоматолог-ортопед': 'sum',\n",
    "                               'стоматолог-хирург': 'sum',\n",
    "                               'терапевт': 'sum',\n",
    "                               'челюстно-лицевой хирург': 'sum'})\n",
    "                        )"
   ]
  },
  {
   "cell_type": "code",
   "execution_count": null,
   "id": "da5ee610",
   "metadata": {},
   "outputs": [],
   "source": [
    "clinic_specialization['all_specialties'] = clinic_specialization.iloc[:, 1:].sum(axis=1)"
   ]
  },
  {
   "cell_type": "code",
   "execution_count": null,
   "id": "b468c0dc",
   "metadata": {},
   "outputs": [],
   "source": [
    "clinic_specialization.sample()"
   ]
  },
  {
   "cell_type": "code",
   "execution_count": null,
   "id": "1967020c",
   "metadata": {},
   "outputs": [],
   "source": [
    "clinic_specialization['pediatric_%'] = round(\n",
    "    clinic_specialization['детский стоматолог'] / clinic_specialization['all_specialties'],\n",
    "    2)"
   ]
  },
  {
   "cell_type": "code",
   "execution_count": null,
   "id": "58678f1c",
   "metadata": {},
   "outputs": [],
   "source": [
    "clinic_specialization['orthodontist_%'] = round(\n",
    "    clinic_specialization['стоматолог-ортодонт'] / clinic_specialization['all_specialties'],\n",
    "    2)"
   ]
  },
  {
   "cell_type": "code",
   "execution_count": null,
   "id": "34f802f2",
   "metadata": {},
   "outputs": [],
   "source": []
  },
  {
   "cell_type": "code",
   "execution_count": null,
   "id": "2054b527",
   "metadata": {},
   "outputs": [],
   "source": [
    "work.sample()"
   ]
  },
  {
   "cell_type": "code",
   "execution_count": null,
   "id": "5e373bb1",
   "metadata": {},
   "outputs": [],
   "source": [
    "work = work.merge(clinic_specialization, on='clinic', how='left')"
   ]
  },
  {
   "cell_type": "code",
   "execution_count": null,
   "id": "65bb4a70",
   "metadata": {},
   "outputs": [],
   "source": [
    "work.to_excel('C:/00_Data/Стоматологии/Clinic_Denta/temp1.xlsx')"
   ]
  },
  {
   "cell_type": "code",
   "execution_count": null,
   "id": "533fbc27",
   "metadata": {},
   "outputs": [],
   "source": []
  }
 ],
 "metadata": {
  "kernelspec": {
   "display_name": "Python 3",
   "language": "python",
   "name": "python3"
  },
  "language_info": {
   "codemirror_mode": {
    "name": "ipython",
    "version": 3
   },
   "file_extension": ".py",
   "mimetype": "text/x-python",
   "name": "python",
   "nbconvert_exporter": "python",
   "pygments_lexer": "ipython3",
   "version": "3.8.8"
  }
 },
 "nbformat": 4,
 "nbformat_minor": 5
}
