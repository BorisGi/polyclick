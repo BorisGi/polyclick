{
 "cells": [
  {
   "cell_type": "code",
   "execution_count": 1,
   "id": "8cfd4138",
   "metadata": {},
   "outputs": [],
   "source": [
    "# загружаю библиотеки\n",
    "\n",
    "import pandas as pd\n",
    "import numpy as np\n",
    "\n",
    "import re\n",
    "import nltk\n",
    "from nltk.corpus import stopwords\n",
    "from nltk.stem import WordNetLemmatizer\n",
    "\n",
    "from pymystem3 import Mystem\n",
    "from tqdm import tqdm_notebook\n",
    "\n",
    "import warnings\n",
    "warnings.filterwarnings(\"ignore\",category=DeprecationWarning)\n",
    "\n",
    "\n",
    "# !pip uninstall spacy\n",
    "# !pip install -U spacy\n",
    "# !python -m spacy download ru_core_news_sm\n",
    "\n",
    "import spacy ## общий пакет, где лежит весь функционал\n",
    "import ru_core_news_sm ## натренированные модели на русском\n",
    "import string ## здесь возомьм пунктуацию\n",
    "import nltk # удобный пакет для всякой работы с текстом"
   ]
  },
  {
   "cell_type": "code",
   "execution_count": 2,
   "id": "910b8de9",
   "metadata": {},
   "outputs": [],
   "source": [
    "from spacy.lang.ru.stop_words import STOP_WORDS # стоп слова"
   ]
  },
  {
   "cell_type": "code",
   "execution_count": null,
   "id": "1d516295",
   "metadata": {},
   "outputs": [],
   "source": []
  },
  {
   "cell_type": "code",
   "execution_count": 3,
   "id": "1edbbd3c",
   "metadata": {},
   "outputs": [],
   "source": [
    "# загружаю датасет  \n",
    "\n",
    "work = pd.read_excel('C:/Data/Красная Горка/prices_new.xlsx', sheet_name='work')"
   ]
  },
  {
   "cell_type": "code",
   "execution_count": 4,
   "id": "650ebac3",
   "metadata": {},
   "outputs": [
    {
     "data": {
      "text/plain": [
       "(3246,)"
      ]
     },
     "execution_count": 4,
     "metadata": {},
     "output_type": "execute_result"
    }
   ],
   "source": [
    "work['text'].unique().shape"
   ]
  },
  {
   "cell_type": "code",
   "execution_count": 5,
   "id": "ed6768ca",
   "metadata": {},
   "outputs": [
    {
     "data": {
      "text/html": [
       "<div>\n",
       "<style scoped>\n",
       "    .dataframe tbody tr th:only-of-type {\n",
       "        vertical-align: middle;\n",
       "    }\n",
       "\n",
       "    .dataframe tbody tr th {\n",
       "        vertical-align: top;\n",
       "    }\n",
       "\n",
       "    .dataframe thead th {\n",
       "        text-align: right;\n",
       "    }\n",
       "</style>\n",
       "<table border=\"1\" class=\"dataframe\">\n",
       "  <thead>\n",
       "    <tr style=\"text-align: right;\">\n",
       "      <th></th>\n",
       "      <th>№№</th>\n",
       "      <th>clinic</th>\n",
       "      <th>species</th>\n",
       "      <th>type</th>\n",
       "      <th>type_2</th>\n",
       "      <th>product_original</th>\n",
       "      <th>new_text</th>\n",
       "      <th>new_text2</th>\n",
       "      <th>price</th>\n",
       "      <th>text</th>\n",
       "      <th>addition</th>\n",
       "      <th>comment</th>\n",
       "      <th>unit</th>\n",
       "      <th>price_limit</th>\n",
       "      <th>action</th>\n",
       "    </tr>\n",
       "  </thead>\n",
       "  <tbody>\n",
       "    <tr>\n",
       "      <th>0</th>\n",
       "      <td>1</td>\n",
       "      <td>Doctor Art</td>\n",
       "      <td>взрослые</td>\n",
       "      <td>1. Общее</td>\n",
       "      <td>консультация</td>\n",
       "      <td>Первичная консультация врача-стоматолога (осмо...</td>\n",
       "      <td>консультация первичный стоматолог</td>\n",
       "      <td>консультация первичный стоматолог</td>\n",
       "      <td>0.0</td>\n",
       "      <td>Консультация стоматолога, первичная</td>\n",
       "      <td>NaN</td>\n",
       "      <td>NaN</td>\n",
       "      <td>1</td>\n",
       "      <td>NaN</td>\n",
       "      <td>NaN</td>\n",
       "    </tr>\n",
       "    <tr>\n",
       "      <th>4851</th>\n",
       "      <td>4852</td>\n",
       "      <td>Современная стоматология 32 зуба</td>\n",
       "      <td>взрослые</td>\n",
       "      <td>8. Ортодонтия</td>\n",
       "      <td>Съемная техника</td>\n",
       "      <td>Ретенционная капа</td>\n",
       "      <td>капа ретенционная</td>\n",
       "      <td>капа ретенционная</td>\n",
       "      <td>4000.0</td>\n",
       "      <td>Ретенционная капа</td>\n",
       "      <td>NaN</td>\n",
       "      <td>NaN</td>\n",
       "      <td>NaN</td>\n",
       "      <td>NaN</td>\n",
       "      <td>NaN</td>\n",
       "    </tr>\n",
       "    <tr>\n",
       "      <th>3954</th>\n",
       "      <td>3955</td>\n",
       "      <td>ГолденМед</td>\n",
       "      <td>дети</td>\n",
       "      <td>3. Терапия</td>\n",
       "      <td>лечение каналов</td>\n",
       "      <td>Временное пломбирование 1 канала пастами при э...</td>\n",
       "      <td>временной канал лечение пломбирование эндодонт...</td>\n",
       "      <td>временной канал лечение пломбирование эндодонт...</td>\n",
       "      <td>250.0</td>\n",
       "      <td>Временное пломбирование канала, эндодонтическо...</td>\n",
       "      <td>NaN</td>\n",
       "      <td>NaN</td>\n",
       "      <td>1</td>\n",
       "      <td>NaN</td>\n",
       "      <td>NaN</td>\n",
       "    </tr>\n",
       "  </tbody>\n",
       "</table>\n",
       "</div>"
      ],
      "text/plain": [
       "        №№                            clinic   species           type  \\\n",
       "0        1                        Doctor Art  взрослые       1. Общее   \n",
       "4851  4852  Современная стоматология 32 зуба  взрослые  8. Ортодонтия   \n",
       "3954  3955                         ГолденМед      дети     3. Терапия   \n",
       "\n",
       "               type_2                                   product_original  \\\n",
       "0        консультация  Первичная консультация врача-стоматолога (осмо...   \n",
       "4851  Съемная техника                                  Ретенционная капа   \n",
       "3954  лечение каналов  Временное пломбирование 1 канала пастами при э...   \n",
       "\n",
       "                                               new_text  \\\n",
       "0                     консультация первичный стоматолог   \n",
       "4851                                  капа ретенционная   \n",
       "3954  временной канал лечение пломбирование эндодонт...   \n",
       "\n",
       "                                              new_text2   price  \\\n",
       "0                     консультация первичный стоматолог     0.0   \n",
       "4851                                  капа ретенционная  4000.0   \n",
       "3954  временной канал лечение пломбирование эндодонт...   250.0   \n",
       "\n",
       "                                                   text addition comment unit  \\\n",
       "0                   Консультация стоматолога, первичная      NaN     NaN    1   \n",
       "4851                                  Ретенционная капа      NaN     NaN  NaN   \n",
       "3954  Временное пломбирование канала, эндодонтическо...      NaN     NaN    1   \n",
       "\n",
       "     price_limit action  \n",
       "0            NaN    NaN  \n",
       "4851         NaN    NaN  \n",
       "3954         NaN    NaN  "
      ]
     },
     "execution_count": 5,
     "metadata": {},
     "output_type": "execute_result"
    }
   ],
   "source": [
    "# смотрю данные\n",
    "\n",
    "work.sample(3)"
   ]
  },
  {
   "cell_type": "code",
   "execution_count": 6,
   "id": "f67c2c92",
   "metadata": {},
   "outputs": [
    {
     "data": {
      "text/plain": [
       "№№                    int64\n",
       "clinic               object\n",
       "species              object\n",
       "type                 object\n",
       "type_2               object\n",
       "product_original     object\n",
       "new_text             object\n",
       "new_text2            object\n",
       "price               float64\n",
       "text                 object\n",
       "addition             object\n",
       "comment              object\n",
       "unit                 object\n",
       "price_limit          object\n",
       "action               object\n",
       "dtype: object"
      ]
     },
     "execution_count": 6,
     "metadata": {},
     "output_type": "execute_result"
    }
   ],
   "source": [
    "work.dtypes"
   ]
  },
  {
   "cell_type": "code",
   "execution_count": null,
   "id": "a47b7dec",
   "metadata": {},
   "outputs": [],
   "source": [
    "# меняю ё на е\n",
    "\n",
    "work.new_text = work.new_text.str.replace('ё', 'е')"
   ]
  },
  {
   "cell_type": "code",
   "execution_count": null,
   "id": "f0d3cece",
   "metadata": {},
   "outputs": [],
   "source": [
    "# убираю переводы строки\n",
    "\n",
    "work.new_text = work.new_text.str.replace('\\n', ' ')"
   ]
  },
  {
   "cell_type": "code",
   "execution_count": null,
   "id": "d85a4750",
   "metadata": {},
   "outputs": [],
   "source": [
    "# убираю двойные пробелы\n",
    "\n",
    "work.new_text = work.new_text.str.replace('  ', ' ')"
   ]
  },
  {
   "cell_type": "code",
   "execution_count": null,
   "id": "bd96107b",
   "metadata": {},
   "outputs": [],
   "source": [
    "# удаляю знаки все препинания\n",
    "\n",
    "work.new_text = work.new_text.str.replace(r'[^\\w\\s]+', ' ')"
   ]
  },
  {
   "cell_type": "code",
   "execution_count": null,
   "id": "8d33d8c3",
   "metadata": {},
   "outputs": [],
   "source": [
    "# убираю цифры\n",
    "\n",
    "work.new_text = work.new_text.str.replace(r'[0-9]+', ' ')"
   ]
  },
  {
   "cell_type": "code",
   "execution_count": null,
   "id": "b1466380",
   "metadata": {},
   "outputs": [],
   "source": [
    "# перевожу в нижний регистр\n",
    "\n",
    "work.new_text = work.new_text.str.lower()"
   ]
  },
  {
   "cell_type": "code",
   "execution_count": null,
   "id": "98339b16",
   "metadata": {},
   "outputs": [],
   "source": [
    "# сортирую слова по алфавиту\n",
    "\n",
    "work['new_text'] = work['new_text'].apply(lambda x: ' '.join(sorted(x.split(' '))))"
   ]
  },
  {
   "cell_type": "code",
   "execution_count": null,
   "id": "8d9a4799",
   "metadata": {},
   "outputs": [],
   "source": []
  },
  {
   "cell_type": "code",
   "execution_count": null,
   "id": "3dbf7d56",
   "metadata": {},
   "outputs": [],
   "source": []
  },
  {
   "cell_type": "code",
   "execution_count": null,
   "id": "68f50bf0",
   "metadata": {},
   "outputs": [],
   "source": []
  },
  {
   "cell_type": "code",
   "execution_count": null,
   "id": "3535547a",
   "metadata": {},
   "outputs": [],
   "source": [
    "nlp = ru_core_news_sm.load() ## умная \"обертка\" для каждого текста"
   ]
  },
  {
   "cell_type": "code",
   "execution_count": null,
   "id": "125d75ab",
   "metadata": {},
   "outputs": [],
   "source": [
    "#\" \".join(stemmer.stem(token) for token in tokens)\n",
    "lemmatizer = nltk.stem.WordNetLemmatizer()\n",
    "#\" \".join(lemmatizer.lemmatize(token) for token in tokens)"
   ]
  },
  {
   "cell_type": "code",
   "execution_count": null,
   "id": "033e573c",
   "metadata": {},
   "outputs": [],
   "source": [
    "punctuations = string.punctuation\n",
    "stopwords = STOP_WORDS\n",
    "\n",
    "def spacy_processor(sentence):\n",
    "    mytokens = nlp(sentence)\n",
    "    mytokens = [ word.lemma_.lower().strip() for word in mytokens ]\n",
    "    mytokens = [ word for word in mytokens if word not in stopwords and word not in punctuations ]\n",
    "    mytokens = \" \".join([i for i in mytokens])\n",
    "    return mytokens"
   ]
  },
  {
   "cell_type": "code",
   "execution_count": null,
   "id": "4c57b3a8",
   "metadata": {},
   "outputs": [],
   "source": [
    "work['new_text'] = work['new_text'].apply(spacy_processor)"
   ]
  },
  {
   "cell_type": "code",
   "execution_count": null,
   "id": "266909e4",
   "metadata": {},
   "outputs": [],
   "source": []
  },
  {
   "cell_type": "code",
   "execution_count": null,
   "id": "b59600ee",
   "metadata": {},
   "outputs": [],
   "source": [
    "# словарь опечаток\n",
    "\n",
    "typo_error_dict = {\n",
    "    'вестибулопластика': ['вестибудопластика']\n",
    "    \n",
    "    'культевая': ['кулитевая']\n",
    "    \n",
    "    \n",
    "    'кламмер': ['каммер', 'кламер', ]\n",
    "    \n",
    "    Капа — каппа\n",
    "Пародонтальный — парадонтальный\n",
    "Абсцесс — абцесс\n",
    "Перикоронарит — перекоронарит, перикоронорит\n",
    "Периодонтит — переодонтит\n",
    "Гуттаперчевый — гутаперчевый\n",
    "Emax — e-max, e.max, e max, Емакс, Еmax\n",
    "Абатмент — аббатмен, абатмен\n"
   ]
  },
  {
   "cell_type": "code",
   "execution_count": null,
   "id": "6c1f88a9",
   "metadata": {},
   "outputs": [],
   "source": [
    "# словарь названий\n",
    "\n",
    "names_dict = {\n",
    "    'haas': 'хаас',\n",
    "    \n",
    "    'Bio-OSS':['биосс', ]\n",
    "    \n",
    "    'Straumann': ['штраумен', 'straumant', ]    \n",
    "    \n",
    "    'Ivocrtyl': ['ivorcil', ]\n",
    "    \n",
    "    'Flexi': ['flixi']\n",
    "    \n",
    "    'Quattro Ti': ['qwadrotti', \n",
    "         ]\n",
    "\n",
    "}\n"
   ]
  },
  {
   "cell_type": "code",
   "execution_count": null,
   "id": "09117e7b",
   "metadata": {},
   "outputs": [],
   "source": [
    "# словарь синонимов\n",
    "\n",
    "synonyms_dict = {\n",
    "    \n",
    "    'драгметалл': ['драг. металл', ]\n",
    "    'ремонт': 'починка',\n",
    "    \n",
    "    \n",
    "    \n",
    "}"
   ]
  },
  {
   "cell_type": "code",
   "execution_count": null,
   "id": "8f3ab7be",
   "metadata": {},
   "outputs": [],
   "source": [
    "work.head(2)"
   ]
  },
  {
   "cell_type": "code",
   "execution_count": null,
   "id": "c61a8d45",
   "metadata": {},
   "outputs": [],
   "source": [
    "new_text_list = work.new_text.to_list()"
   ]
  },
  {
   "cell_type": "code",
   "execution_count": null,
   "id": "ca4b67f1",
   "metadata": {},
   "outputs": [],
   "source": [
    "all_words = []\n",
    "\n",
    "for phrase in new_text_list:\n",
    "    all_words += phrase.split(' ')"
   ]
  },
  {
   "cell_type": "code",
   "execution_count": null,
   "id": "1d2318fd",
   "metadata": {},
   "outputs": [],
   "source": [
    "len(all_words)"
   ]
  },
  {
   "cell_type": "code",
   "execution_count": null,
   "id": "370e5d0f",
   "metadata": {},
   "outputs": [],
   "source": [
    "unic_words = list(set(all_words))"
   ]
  },
  {
   "cell_type": "code",
   "execution_count": null,
   "id": "af1592ee",
   "metadata": {},
   "outputs": [],
   "source": [
    "len(unic_words)"
   ]
  },
  {
   "cell_type": "code",
   "execution_count": null,
   "id": "145073a9",
   "metadata": {},
   "outputs": [],
   "source": [
    "words_stat"
   ]
  },
  {
   "cell_type": "code",
   "execution_count": null,
   "id": "76d44bd2",
   "metadata": {},
   "outputs": [],
   "source": [
    "temp_df = pd.DataFrame(all_words)"
   ]
  },
  {
   "cell_type": "code",
   "execution_count": null,
   "id": "69953838",
   "metadata": {},
   "outputs": [],
   "source": [
    "temp_df.value_counts().to_frame().to_excel('C:/Data/Красная Горка/temp.xlsx')"
   ]
  },
  {
   "cell_type": "code",
   "execution_count": null,
   "id": "2a2faba4",
   "metadata": {},
   "outputs": [],
   "source": []
  },
  {
   "cell_type": "code",
   "execution_count": null,
   "id": "5286d4ca",
   "metadata": {},
   "outputs": [],
   "source": [
    "work.to_excel('C:/Data/Красная Горка/temp.xlsx')"
   ]
  },
  {
   "cell_type": "code",
   "execution_count": null,
   "id": "f16cd62b",
   "metadata": {},
   "outputs": [],
   "source": []
  }
 ],
 "metadata": {
  "kernelspec": {
   "display_name": "Python 3",
   "language": "python",
   "name": "python3"
  },
  "language_info": {
   "codemirror_mode": {
    "name": "ipython",
    "version": 3
   },
   "file_extension": ".py",
   "mimetype": "text/x-python",
   "name": "python",
   "nbconvert_exporter": "python",
   "pygments_lexer": "ipython3",
   "version": "3.8.8"
  }
 },
 "nbformat": 4,
 "nbformat_minor": 5
}
