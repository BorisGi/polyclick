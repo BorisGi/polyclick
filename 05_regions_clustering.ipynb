{
 "cells": [
  {
   "cell_type": "markdown",
   "metadata": {},
   "source": [
    "## Кластерный анализ регионов ##"
   ]
  },
  {
   "cell_type": "code",
   "execution_count": 1,
   "metadata": {
    "scrolled": true
   },
   "outputs": [],
   "source": [
    "import pandas as pd\n",
    "import numpy as np\n",
    "pd.options.display.max_rows = 85\n",
    "\n",
    "import matplotlib.pyplot as plt\n",
    "%matplotlib inline\n",
    "\n",
    "import seaborn as sns"
   ]
  },
  {
   "cell_type": "code",
   "execution_count": 2,
   "metadata": {
    "scrolled": true
   },
   "outputs": [],
   "source": [
    "from sklearn import preprocessing\n",
    "from sklearn.cluster import KMeans\n",
    "\n",
    "from scipy.spatial.distance import pdist\n",
    "from scipy.cluster.hierarchy import dendrogram, linkage, fcluster"
   ]
  },
  {
   "cell_type": "code",
   "execution_count": 3,
   "metadata": {
    "scrolled": true
   },
   "outputs": [],
   "source": [
    "# загружаем датасет, регион переводим сразу в индекс\n",
    "\n",
    "work_clust = pd.read_excel('C:/00_Data/region_hierarchy_clustering.xlsx', sheet_name='data')"
   ]
  },
  {
   "cell_type": "code",
   "execution_count": 4,
   "metadata": {
    "scrolled": true
   },
   "outputs": [
    {
     "data": {
      "text/html": [
       "<div>\n",
       "<style scoped>\n",
       "    .dataframe tbody tr th:only-of-type {\n",
       "        vertical-align: middle;\n",
       "    }\n",
       "\n",
       "    .dataframe tbody tr th {\n",
       "        vertical-align: top;\n",
       "    }\n",
       "\n",
       "    .dataframe thead th {\n",
       "        text-align: right;\n",
       "    }\n",
       "</style>\n",
       "<table border=\"1\" class=\"dataframe\">\n",
       "  <thead>\n",
       "    <tr style=\"text-align: right;\">\n",
       "      <th></th>\n",
       "      <th>region</th>\n",
       "      <th>№</th>\n",
       "      <th>ISOCode</th>\n",
       "      <th>country</th>\n",
       "      <th>tableauName</th>\n",
       "      <th>federal_district</th>\n",
       "      <th>region.1</th>\n",
       "      <th>non_state_stom_2020</th>\n",
       "      <th>nominal_salary_2020</th>\n",
       "      <th>private_salary_2020</th>\n",
       "      <th>stom_all_2020</th>\n",
       "      <th>%_private</th>\n",
       "      <th>%_all</th>\n",
       "      <th>clinic_number_all</th>\n",
       "      <th>clinic_number_private</th>\n",
       "      <th>population</th>\n",
       "      <th>square</th>\n",
       "      <th>private_for_pop</th>\n",
       "      <th>cluster_hierarchy</th>\n",
       "    </tr>\n",
       "  </thead>\n",
       "  <tbody>\n",
       "    <tr>\n",
       "      <th>0</th>\n",
       "      <td>38.0</td>\n",
       "      <td>2.0</td>\n",
       "      <td>RU-SPE</td>\n",
       "      <td>Россия</td>\n",
       "      <td>Sankt-Peterburg</td>\n",
       "      <td>Северо-Западный ФО</td>\n",
       "      <td>Санкт-Петербург</td>\n",
       "      <td>21650.000000</td>\n",
       "      <td>79697.7</td>\n",
       "      <td>56531</td>\n",
       "      <td>43273</td>\n",
       "      <td>0.382976</td>\n",
       "      <td>0.271652</td>\n",
       "      <td>2551</td>\n",
       "      <td>2103</td>\n",
       "      <td>5384342</td>\n",
       "      <td>1.4</td>\n",
       "      <td>2560</td>\n",
       "      <td>6</td>\n",
       "    </tr>\n",
       "    <tr>\n",
       "      <th>1</th>\n",
       "      <td>15.0</td>\n",
       "      <td>2.0</td>\n",
       "      <td>RU-VLG</td>\n",
       "      <td>Россия</td>\n",
       "      <td>Vologda</td>\n",
       "      <td>Северо-Западный ФО</td>\n",
       "      <td>Вологодская область</td>\n",
       "      <td>35206.000000</td>\n",
       "      <td>48296.9</td>\n",
       "      <td>36527</td>\n",
       "      <td>46925</td>\n",
       "      <td>0.963835</td>\n",
       "      <td>0.728949</td>\n",
       "      <td>742</td>\n",
       "      <td>449</td>\n",
       "      <td>1151042</td>\n",
       "      <td>144.5</td>\n",
       "      <td>2564</td>\n",
       "      <td>3</td>\n",
       "    </tr>\n",
       "    <tr>\n",
       "      <th>2</th>\n",
       "      <td>46.0</td>\n",
       "      <td>3.0</td>\n",
       "      <td>RU-KDA</td>\n",
       "      <td>Россия</td>\n",
       "      <td>Krasnodar</td>\n",
       "      <td>Южный ФО</td>\n",
       "      <td>Краснодарский край</td>\n",
       "      <td>17535.000000</td>\n",
       "      <td>42822.5</td>\n",
       "      <td>31509</td>\n",
       "      <td>27035</td>\n",
       "      <td>0.556508</td>\n",
       "      <td>0.409481</td>\n",
       "      <td>3022</td>\n",
       "      <td>2200</td>\n",
       "      <td>5683947</td>\n",
       "      <td>75.5</td>\n",
       "      <td>2584</td>\n",
       "      <td>1</td>\n",
       "    </tr>\n",
       "    <tr>\n",
       "      <th>3</th>\n",
       "      <td>52.0</td>\n",
       "      <td>2.0</td>\n",
       "      <td>RU-NEN</td>\n",
       "      <td>Россия</td>\n",
       "      <td>Nenets</td>\n",
       "      <td>Северо-Западный ФО</td>\n",
       "      <td>Ненецкий АО</td>\n",
       "      <td>16430.565885</td>\n",
       "      <td>94099.7</td>\n",
       "      <td>87801</td>\n",
       "      <td>105781</td>\n",
       "      <td>0.187134</td>\n",
       "      <td>0.174608</td>\n",
       "      <td>39</td>\n",
       "      <td>17</td>\n",
       "      <td>44389</td>\n",
       "      <td>176.8</td>\n",
       "      <td>2611</td>\n",
       "      <td>6</td>\n",
       "    </tr>\n",
       "    <tr>\n",
       "      <th>4</th>\n",
       "      <td>57.0</td>\n",
       "      <td>8.0</td>\n",
       "      <td>RU-PRI</td>\n",
       "      <td>Россия</td>\n",
       "      <td>Primorsky</td>\n",
       "      <td>Дальневосточный ФО</td>\n",
       "      <td>Приморский край</td>\n",
       "      <td>14239.000000</td>\n",
       "      <td>58113.4</td>\n",
       "      <td>41943</td>\n",
       "      <td>54034</td>\n",
       "      <td>0.339485</td>\n",
       "      <td>0.245021</td>\n",
       "      <td>882</td>\n",
       "      <td>628</td>\n",
       "      <td>1877844</td>\n",
       "      <td>164.7</td>\n",
       "      <td>2990</td>\n",
       "      <td>2</td>\n",
       "    </tr>\n",
       "  </tbody>\n",
       "</table>\n",
       "</div>"
      ],
      "text/plain": [
       "   region    № ISOCode country      tableauName    federal_district  \\\n",
       "0    38.0  2.0  RU-SPE  Россия  Sankt-Peterburg  Северо-Западный ФО   \n",
       "1    15.0  2.0  RU-VLG  Россия          Vologda  Северо-Западный ФО   \n",
       "2    46.0  3.0  RU-KDA  Россия        Krasnodar            Южный ФО   \n",
       "3    52.0  2.0  RU-NEN  Россия           Nenets  Северо-Западный ФО   \n",
       "4    57.0  8.0  RU-PRI  Россия        Primorsky  Дальневосточный ФО   \n",
       "\n",
       "              region.1  non_state_stom_2020  nominal_salary_2020  \\\n",
       "0      Санкт-Петербург         21650.000000              79697.7   \n",
       "1  Вологодская область         35206.000000              48296.9   \n",
       "2   Краснодарский край         17535.000000              42822.5   \n",
       "3          Ненецкий АО         16430.565885              94099.7   \n",
       "4      Приморский край         14239.000000              58113.4   \n",
       "\n",
       "   private_salary_2020 stom_all_2020  %_private     %_all  clinic_number_all  \\\n",
       "0                56531         43273   0.382976  0.271652               2551   \n",
       "1                36527         46925   0.963835  0.728949                742   \n",
       "2                31509         27035   0.556508  0.409481               3022   \n",
       "3                87801        105781   0.187134  0.174608                 39   \n",
       "4                41943         54034   0.339485  0.245021                882   \n",
       "\n",
       "   clinic_number_private  population  square  private_for_pop  \\\n",
       "0                   2103     5384342     1.4             2560   \n",
       "1                    449     1151042   144.5             2564   \n",
       "2                   2200     5683947    75.5             2584   \n",
       "3                     17       44389   176.8             2611   \n",
       "4                    628     1877844   164.7             2990   \n",
       "\n",
       "   cluster_hierarchy  \n",
       "0                  6  \n",
       "1                  3  \n",
       "2                  1  \n",
       "3                  6  \n",
       "4                  2  "
      ]
     },
     "execution_count": 4,
     "metadata": {},
     "output_type": "execute_result"
    }
   ],
   "source": [
    "work_clust.head()"
   ]
  },
  {
   "cell_type": "code",
   "execution_count": 5,
   "metadata": {
    "scrolled": true
   },
   "outputs": [
    {
     "data": {
      "text/plain": [
       "Index(['region', '№', 'ISOCode', 'country', 'tableauName', 'federal_district',\n",
       "       'region.1', 'non_state_stom_2020', 'nominal_salary_2020',\n",
       "       'private_salary_2020', 'stom_all_2020', '%_private', '%_all',\n",
       "       'clinic_number_all', 'clinic_number_private', 'population', 'square',\n",
       "       'private_for_pop', 'cluster_hierarchy'],\n",
       "      dtype='object')"
      ]
     },
     "execution_count": 5,
     "metadata": {},
     "output_type": "execute_result"
    }
   ],
   "source": [
    "work_clust.columns"
   ]
  },
  {
   "cell_type": "code",
   "execution_count": 23,
   "metadata": {
    "scrolled": true
   },
   "outputs": [],
   "source": [
    "# отбираем нужные столбцы для анализа\n",
    "\n",
    "need_columns = [\n",
    "    'non_state_stom_2020',\n",
    "    #'private_salary_2020',\n",
    "    'private_for_pop',\n",
    "    'nominal_salary_2020'\n",
    "]"
   ]
  },
  {
   "cell_type": "markdown",
   "metadata": {},
   "source": [
    "### Иерархический кластерный анализ ###"
   ]
  },
  {
   "cell_type": "code",
   "execution_count": 24,
   "metadata": {
    "scrolled": true
   },
   "outputs": [],
   "source": [
    "# Нормализуем данные\n",
    "\n",
    "data_normed = preprocessing.MinMaxScaler().fit_transform(work_clust[need_columns].values)"
   ]
  },
  {
   "cell_type": "code",
   "execution_count": 25,
   "metadata": {
    "scrolled": true
   },
   "outputs": [
    {
     "data": {
      "text/plain": [
       "array([[2.67683824e-01, 0.00000000e+00, 5.19833829e-01],\n",
       "       [4.35292227e-01, 2.84272617e-04, 1.82237283e-01],\n",
       "       [2.16805351e-01, 1.70563570e-03, 1.23380868e-01]])"
      ]
     },
     "execution_count": 25,
     "metadata": {},
     "output_type": "execute_result"
    }
   ],
   "source": [
    "data_normed[:3]"
   ]
  },
  {
   "cell_type": "code",
   "execution_count": 26,
   "metadata": {
    "scrolled": true
   },
   "outputs": [],
   "source": [
    "# Вычисляем расстояния между данными (строками массива data_for_clust)\n",
    "# по умолчанию евклидово расстояние\n",
    "\n",
    "data_dist = pdist(data_normed, 'euclidean')"
   ]
  },
  {
   "cell_type": "code",
   "execution_count": 27,
   "metadata": {
    "scrolled": true
   },
   "outputs": [],
   "source": [
    "# Главная функция иерархической кластеризии\n",
    "# Объедение элементов в кластера и сохранение в \n",
    "# специальной переменной (используется ниже для визуализации \n",
    "# и выделения количества кластеров\n",
    "\n",
    "\n",
    "link = linkage(data_dist, method='ward')"
   ]
  },
  {
   "cell_type": "code",
   "execution_count": 28,
   "metadata": {
    "scrolled": true
   },
   "outputs": [
    {
     "data": {
      "image/png": "[encoded data removed]",
      "text/plain": [
       "<Figure size 1152x720 with 1 Axes>"
      ]
     },
     "metadata": {
      "needs_background": "light"
     },
     "output_type": "display_data"
    },
    {
     "name": "stdout",
     "output_type": "stream",
     "text": [
      "Рекомендованное количество кластеров: 2\n"
     ]
    }
   ],
   "source": [
    "plt.rcParams['figure.figsize']=(16, 10)\n",
    "\n",
    "last = link[-10:, 2]\n",
    "last_rev = last[::-1]\n",
    "idxs = np.arange(1, len(last) + 1)\n",
    "plt.plot(idxs, last_rev)\n",
    "\n",
    "acceleration = np.diff(last, 2)  \n",
    "acceleration_rev = acceleration[::-1]\n",
    "plt.plot(idxs[:-2] + 1, acceleration_rev)\n",
    "plt.show()\n",
    "k = acceleration_rev.argmax() + 2 \n",
    "print(\"Рекомендованное количество кластеров:\", k)"
   ]
  },
  {
   "cell_type": "code",
   "execution_count": 29,
   "metadata": {
    "scrolled": true
   },
   "outputs": [
    {
     "data": {
      "image/png": "[encoded data removed]",
      "text/plain": [
       "<Figure size 1152x720 with 1 Axes>"
      ]
     },
     "metadata": {
      "needs_background": "light"
     },
     "output_type": "display_data"
    }
   ],
   "source": [
    "# строим дендрограмму \n",
    "\n",
    "dn = dendrogram(link,\n",
    "                # массив с названиями объектов для подписи по оси X\n",
    "                labels = work_clust.index.tolist(),\n",
    "                \n",
    "                # опция для более красивого отображения слишком ветвистой дендрограммы\n",
    "                truncate_mode = 'lastp',\n",
    "                \n",
    "                # повернуть подписи вертикально\n",
    "                color_threshold = 5,\n",
    "                orientation = 'right',\n",
    "                leaf_rotation=0.)"
   ]
  },
  {
   "cell_type": "code",
   "execution_count": 30,
   "metadata": {
    "scrolled": true
   },
   "outputs": [],
   "source": [
    "# Задаем количество кластеров\n",
    "\n",
    "n_clusts = 6"
   ]
  },
  {
   "cell_type": "code",
   "execution_count": 31,
   "metadata": {
    "scrolled": true
   },
   "outputs": [
    {
     "data": {
      "text/plain": [
       "array([5, 3, 2, 5, 3, 2, 3, 5, 4, 5, 3, 2, 3, 2, 4, 4, 5, 3, 2, 3, 5, 2,\n",
       "       3, 2, 2, 3, 2, 2, 2, 3, 3, 3, 4, 2, 4, 3, 4, 2, 2, 2, 3, 5, 2, 2,\n",
       "       3, 2, 2, 5, 2, 4, 3, 2, 2, 3, 2, 2, 4, 2, 3, 1, 4, 1, 5, 1, 1, 1,\n",
       "       4, 1, 3, 1, 1, 1, 1, 1, 1, 1, 1, 1, 1, 1, 1, 1, 1, 6, 1],\n",
       "      dtype=int32)"
      ]
     },
     "execution_count": 31,
     "metadata": {},
     "output_type": "execute_result"
    }
   ],
   "source": [
    "# иерархическая кластеризация\n",
    "\n",
    "clusters = fcluster(link, n_clusts, criterion='maxclust')\n",
    "\n",
    "clusters"
   ]
  },
  {
   "cell_type": "code",
   "execution_count": 32,
   "metadata": {
    "scrolled": true
   },
   "outputs": [
    {
     "name": "stdout",
     "output_type": "stream",
     "text": [
      "0: non_state_stom_2020\n",
      "1: private_for_pop\n",
      "2: nominal_salary_2020\n"
     ]
    }
   ],
   "source": [
    "# номера столбцов\n",
    "\n",
    "for i in enumerate(need_columns):\n",
    "    print(i[0], ': ', i[1], sep='')"
   ]
  },
  {
   "cell_type": "code",
   "execution_count": 33,
   "metadata": {
    "scrolled": true
   },
   "outputs": [
    {
     "data": {
      "image/png": "[encoded data removed]",
      "text/plain": [
       "<Figure size 576x432 with 1 Axes>"
      ]
     },
     "metadata": {
      "needs_background": "light"
     },
     "output_type": "display_data"
    }
   ],
   "source": [
    "# Чтобы построить диаграмму в разных осях, меняйте номера столбцов\n",
    "\n",
    "x = 1\n",
    "y = 0\n",
    "\n",
    "plt.figure(figsize=(8, 6))\n",
    "\n",
    "plt.scatter(data_normed[:,x], data_normed[:,y], c=clusters, cmap='flag')\n",
    "plt.xlabel(need_columns[x])\n",
    "plt.ylabel(need_columns[y]);\n",
    "plt.show()"
   ]
  },
  {
   "cell_type": "code",
   "execution_count": 34,
   "metadata": {
    "scrolled": true
   },
   "outputs": [],
   "source": [
    "# добавляем номер кластера\n",
    "\n",
    "work_clust['cluster_hierarchy'] = clusters"
   ]
  },
  {
   "cell_type": "code",
   "execution_count": 35,
   "metadata": {
    "scrolled": true
   },
   "outputs": [],
   "source": [
    "# группируем\n",
    "\n",
    "res_hierarchy = work_clust.groupby('cluster_hierarchy')[need_columns].mean()\n",
    "\n",
    "res_hierarchy['Объектов в кластере'] = work_clust.groupby('cluster_hierarchy').size().values"
   ]
  },
  {
   "cell_type": "code",
   "execution_count": 36,
   "metadata": {
    "scrolled": true
   },
   "outputs": [
    {
     "data": {
      "text/html": [
       "<div>\n",
       "<style scoped>\n",
       "    .dataframe tbody tr th:only-of-type {\n",
       "        vertical-align: middle;\n",
       "    }\n",
       "\n",
       "    .dataframe tbody tr th {\n",
       "        vertical-align: top;\n",
       "    }\n",
       "\n",
       "    .dataframe thead th {\n",
       "        text-align: right;\n",
       "    }\n",
       "</style>\n",
       "<table border=\"1\" class=\"dataframe\">\n",
       "  <thead>\n",
       "    <tr style=\"text-align: right;\">\n",
       "      <th></th>\n",
       "      <th>non_state_stom_2020</th>\n",
       "      <th>private_for_pop</th>\n",
       "      <th>nominal_salary_2020</th>\n",
       "      <th>Объектов в кластере</th>\n",
       "    </tr>\n",
       "    <tr>\n",
       "      <th>cluster_hierarchy</th>\n",
       "      <th></th>\n",
       "      <th></th>\n",
       "      <th></th>\n",
       "      <th></th>\n",
       "    </tr>\n",
       "  </thead>\n",
       "  <tbody>\n",
       "    <tr>\n",
       "      <th>1</th>\n",
       "      <td>13007.694861</td>\n",
       "      <td>7966.619048</td>\n",
       "      <td>37391.885714</td>\n",
       "      <td>21</td>\n",
       "    </tr>\n",
       "    <tr>\n",
       "      <th>2</th>\n",
       "      <td>12175.107201</td>\n",
       "      <td>4368.880000</td>\n",
       "      <td>39799.456000</td>\n",
       "      <td>25</td>\n",
       "    </tr>\n",
       "    <tr>\n",
       "      <th>3</th>\n",
       "      <td>28934.894737</td>\n",
       "      <td>4174.157895</td>\n",
       "      <td>47741.473684</td>\n",
       "      <td>19</td>\n",
       "    </tr>\n",
       "    <tr>\n",
       "      <th>4</th>\n",
       "      <td>53369.700000</td>\n",
       "      <td>4602.600000</td>\n",
       "      <td>54239.070000</td>\n",
       "      <td>10</td>\n",
       "    </tr>\n",
       "    <tr>\n",
       "      <th>5</th>\n",
       "      <td>34955.285098</td>\n",
       "      <td>3811.111111</td>\n",
       "      <td>98133.233333</td>\n",
       "      <td>9</td>\n",
       "    </tr>\n",
       "    <tr>\n",
       "      <th>6</th>\n",
       "      <td>0.000000</td>\n",
       "      <td>16509.000000</td>\n",
       "      <td>124359.300000</td>\n",
       "      <td>1</td>\n",
       "    </tr>\n",
       "  </tbody>\n",
       "</table>\n",
       "</div>"
      ],
      "text/plain": [
       "                   non_state_stom_2020  private_for_pop  nominal_salary_2020  \\\n",
       "cluster_hierarchy                                                              \n",
       "1                         13007.694861      7966.619048         37391.885714   \n",
       "2                         12175.107201      4368.880000         39799.456000   \n",
       "3                         28934.894737      4174.157895         47741.473684   \n",
       "4                         53369.700000      4602.600000         54239.070000   \n",
       "5                         34955.285098      3811.111111         98133.233333   \n",
       "6                             0.000000     16509.000000        124359.300000   \n",
       "\n",
       "                   Объектов в кластере  \n",
       "cluster_hierarchy                       \n",
       "1                                   21  \n",
       "2                                   25  \n",
       "3                                   19  \n",
       "4                                   10  \n",
       "5                                    9  \n",
       "6                                    1  "
      ]
     },
     "execution_count": 36,
     "metadata": {},
     "output_type": "execute_result"
    }
   ],
   "source": [
    "# средние цифры по кластерам и количество объектов\n",
    "\n",
    "res_hierarchy"
   ]
  },
  {
   "cell_type": "code",
   "execution_count": 37,
   "metadata": {
    "scrolled": true
   },
   "outputs": [
    {
     "data": {
      "text/html": [
       "<div>\n",
       "<style scoped>\n",
       "    .dataframe tbody tr th:only-of-type {\n",
       "        vertical-align: middle;\n",
       "    }\n",
       "\n",
       "    .dataframe tbody tr th {\n",
       "        vertical-align: top;\n",
       "    }\n",
       "\n",
       "    .dataframe thead th {\n",
       "        text-align: right;\n",
       "    }\n",
       "</style>\n",
       "<table border=\"1\" class=\"dataframe\">\n",
       "  <thead>\n",
       "    <tr style=\"text-align: right;\">\n",
       "      <th></th>\n",
       "      <th>non_state_stom_2020</th>\n",
       "      <th>private_for_pop</th>\n",
       "      <th>nominal_salary_2020</th>\n",
       "    </tr>\n",
       "  </thead>\n",
       "  <tbody>\n",
       "    <tr>\n",
       "      <th>8</th>\n",
       "      <td>62088.0</td>\n",
       "      <td>3129</td>\n",
       "      <td>63559.2</td>\n",
       "    </tr>\n",
       "    <tr>\n",
       "      <th>14</th>\n",
       "      <td>67432.0</td>\n",
       "      <td>3602</td>\n",
       "      <td>45515.2</td>\n",
       "    </tr>\n",
       "    <tr>\n",
       "      <th>15</th>\n",
       "      <td>49262.0</td>\n",
       "      <td>3610</td>\n",
       "      <td>72661.0</td>\n",
       "    </tr>\n",
       "    <tr>\n",
       "      <th>32</th>\n",
       "      <td>49514.0</td>\n",
       "      <td>4249</td>\n",
       "      <td>61258.7</td>\n",
       "    </tr>\n",
       "    <tr>\n",
       "      <th>34</th>\n",
       "      <td>41327.0</td>\n",
       "      <td>4323</td>\n",
       "      <td>63010.2</td>\n",
       "    </tr>\n",
       "    <tr>\n",
       "      <th>36</th>\n",
       "      <td>54651.0</td>\n",
       "      <td>4422</td>\n",
       "      <td>59868.6</td>\n",
       "    </tr>\n",
       "    <tr>\n",
       "      <th>49</th>\n",
       "      <td>62633.0</td>\n",
       "      <td>5076</td>\n",
       "      <td>36236.9</td>\n",
       "    </tr>\n",
       "    <tr>\n",
       "      <th>56</th>\n",
       "      <td>52170.0</td>\n",
       "      <td>5589</td>\n",
       "      <td>39895.3</td>\n",
       "    </tr>\n",
       "    <tr>\n",
       "      <th>60</th>\n",
       "      <td>43740.0</td>\n",
       "      <td>5807</td>\n",
       "      <td>56363.6</td>\n",
       "    </tr>\n",
       "    <tr>\n",
       "      <th>66</th>\n",
       "      <td>50880.0</td>\n",
       "      <td>6219</td>\n",
       "      <td>44022.0</td>\n",
       "    </tr>\n",
       "  </tbody>\n",
       "</table>\n",
       "</div>"
      ],
      "text/plain": [
       "    non_state_stom_2020  private_for_pop  nominal_salary_2020\n",
       "8               62088.0             3129              63559.2\n",
       "14              67432.0             3602              45515.2\n",
       "15              49262.0             3610              72661.0\n",
       "32              49514.0             4249              61258.7\n",
       "34              41327.0             4323              63010.2\n",
       "36              54651.0             4422              59868.6\n",
       "49              62633.0             5076              36236.9\n",
       "56              52170.0             5589              39895.3\n",
       "60              43740.0             5807              56363.6\n",
       "66              50880.0             6219              44022.0"
      ]
     },
     "execution_count": 37,
     "metadata": {},
     "output_type": "execute_result"
    }
   ],
   "source": [
    "# состав кластеров\n",
    "\n",
    "work_clust[work_clust['cluster_hierarchy'] == 4][need_columns]"
   ]
  },
  {
   "cell_type": "code",
   "execution_count": null,
   "metadata": {
    "scrolled": true
   },
   "outputs": [],
   "source": []
  },
  {
   "cell_type": "markdown",
   "metadata": {},
   "source": [
    "### K-means ###"
   ]
  },
  {
   "cell_type": "code",
   "execution_count": null,
   "metadata": {
    "scrolled": true
   },
   "outputs": [],
   "source": [
    "# строим кластеризаци методом KMeans\n",
    "\n",
    "km = KMeans(n_clusters=n_clusts).fit(data_normed)"
   ]
  },
  {
   "cell_type": "code",
   "execution_count": null,
   "metadata": {
    "scrolled": true
   },
   "outputs": [],
   "source": [
    "# выведем полученное распределение по кластерам\n",
    "# так же номер кластера, к котрому относится строка, так как нумерация начинается с нуля, выводим добавляя 1\n",
    "\n",
    "km.labels_ +1"
   ]
  },
  {
   "cell_type": "code",
   "execution_count": null,
   "metadata": {
    "scrolled": true
   },
   "outputs": [],
   "source": [
    "# номера столбцов\n",
    "\n",
    "for i in enumerate(need_columns):\n",
    "    print(i[0], ': ', i[1], sep='')"
   ]
  },
  {
   "cell_type": "code",
   "execution_count": null,
   "metadata": {
    "scrolled": true
   },
   "outputs": [],
   "source": [
    "# Чтобы построить диаграмму в разных осях, меняйте номера столбцов\n",
    "# звездочки центры кластеров\n",
    "\n",
    "x = 0\n",
    "y = 2\n",
    "\n",
    "centroids = km.cluster_centers_\n",
    "plt.figure(figsize=(10, 8))\n",
    "plt.scatter(data_normed[:,x], data_normed[:,y], c=km.labels_, cmap='flag')\n",
    "plt.scatter(centroids[:, x], centroids[:, y], marker='*', s=300,\n",
    "            c='r', label='centroid')\n",
    "plt.xlabel(need_columns[x])\n",
    "plt.ylabel(need_columns[y]);\n",
    "plt.show()"
   ]
  },
  {
   "cell_type": "code",
   "execution_count": null,
   "metadata": {
    "scrolled": true
   },
   "outputs": [],
   "source": [
    "# к оригинальным данным добавляем номера кластеров\n",
    "\n",
    "work_clust['cluster_KMeans'] = km.labels_+1"
   ]
  },
  {
   "cell_type": "code",
   "execution_count": null,
   "metadata": {
    "scrolled": true
   },
   "outputs": [],
   "source": [
    "# группируем\n",
    "\n",
    "res_KMeans = work_clust.groupby('cluster_KMeans')[need_columns].mean()\n",
    "res_KMeans['объектов в KM'] = work_clust.groupby('cluster_KMeans').size().values"
   ]
  },
  {
   "cell_type": "code",
   "execution_count": null,
   "metadata": {
    "scrolled": true
   },
   "outputs": [],
   "source": [
    "# средние цифры по кластерам и количество объектов\n",
    "\n",
    "res_KMeans"
   ]
  },
  {
   "cell_type": "code",
   "execution_count": null,
   "metadata": {
    "scrolled": true
   },
   "outputs": [],
   "source": [
    "# состав кластеров\n",
    "\n",
    "work_clust[work_clust['cluster_KMeans'] == 1][need_columns]"
   ]
  },
  {
   "cell_type": "code",
   "execution_count": null,
   "metadata": {
    "scrolled": true
   },
   "outputs": [],
   "source": []
  },
  {
   "cell_type": "code",
   "execution_count": null,
   "metadata": {
    "scrolled": true
   },
   "outputs": [],
   "source": []
  },
  {
   "cell_type": "code",
   "execution_count": 38,
   "metadata": {
    "scrolled": true
   },
   "outputs": [],
   "source": [
    "# возвращаем города в столбец city\n",
    "\n",
    "region_clust_res = (work_clust\n",
    "                   .rename_axis('index').reset_index()\n",
    "                   .rename(columns={'index': 'region'})\n",
    "                  )"
   ]
  },
  {
   "cell_type": "code",
   "execution_count": 39,
   "metadata": {
    "scrolled": true
   },
   "outputs": [],
   "source": [
    "region_clust_res.to_excel('C:/00_Data/region_hierarchy_clustering1.xlsx',\n",
    "    encoding='utf-8', index=False)"
   ]
  },
  {
   "cell_type": "code",
   "execution_count": null,
   "metadata": {
    "scrolled": true
   },
   "outputs": [],
   "source": [
    "#res_hierarchy.to_excel('C:/00_Projects/Lenin/Datasets/04_work_data/res_region_hierarchy.xlsx',\n",
    "#    encoding='utf-8', index=False)"
   ]
  },
  {
   "cell_type": "code",
   "execution_count": null,
   "metadata": {
    "scrolled": true
   },
   "outputs": [],
   "source": []
  }
 ],
 "metadata": {
  "kernelspec": {
   "display_name": "Python 3",
   "language": "python",
   "name": "python3"
  },
  "language_info": {
   "codemirror_mode": {
    "name": "ipython",
    "version": 3
   },
   "file_extension": ".py",
   "mimetype": "text/x-python",
   "name": "python",
   "nbconvert_exporter": "python",
   "pygments_lexer": "ipython3",
   "version": "3.8.8"
  }
 },
 "nbformat": 4,
 "nbformat_minor": 2
}
