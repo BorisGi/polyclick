{
 "cells": [
  {
   "cell_type": "markdown",
   "id": "a3c53ecf",
   "metadata": {},
   "source": [
    "Первичная чистка данных, убираю лишний текст, очищаю ссылки на соц.сети"
   ]
  },
  {
   "cell_type": "code",
   "execution_count": null,
   "id": "b22f2738",
   "metadata": {},
   "outputs": [],
   "source": [
    "#Загружаю нужные библиотеки\n",
    "\n",
    "import pandas as pd\n",
    "\n",
    "# регулярки\n",
    "import re\n",
    "\n",
    "# для юзер-агента\n",
    "from fake_useragent import UserAgent\n",
    "\n",
    "# прогресс-бар\n",
    "from tqdm.notebook import trange, tqdm\n",
    "\n",
    "# для пауз при парсинге\n",
    "from time import sleep\n",
    "\n",
    "# для запросов\n",
    "import urllib3\n",
    "\n",
    "# селениум\n",
    "from selenium import webdriver\n",
    "\n",
    "from selenium.common.exceptions import NoSuchElementException\n",
    "from selenium.webdriver.common.by import By\n",
    "from selenium.webdriver.support.ui import WebDriverWait\n",
    "from selenium.webdriver.support import expected_conditions as EC"
   ]
  },
  {
   "cell_type": "code",
   "execution_count": null,
   "id": "dacd0992",
   "metadata": {},
   "outputs": [],
   "source": [
    "# запускаю драйвер, проверяю настройки\n",
    "\n",
    "#driver = webdriver.Chrome(options=opt)\n",
    "#driver.get(test_url)"
   ]
  },
  {
   "cell_type": "code",
   "execution_count": null,
   "id": "bf9e31ea",
   "metadata": {},
   "outputs": [],
   "source": [
    "import os"
   ]
  },
  {
   "cell_type": "code",
   "execution_count": null,
   "id": "d3990d90",
   "metadata": {},
   "outputs": [],
   "source": [
    "file_path = 'C:/00_Data/stom/'"
   ]
  },
  {
   "cell_type": "code",
   "execution_count": null,
   "id": "eddc2976",
   "metadata": {},
   "outputs": [],
   "source": [
    "# вытаскиваю названия файлов в список file_list\n",
    "\n",
    "file_list = []\n",
    "\n",
    "for root, dirs, files in os.walk(file_path):\n",
    "    \n",
    "    for filename in files:\n",
    "        file_list += [filename]"
   ]
  },
  {
   "cell_type": "code",
   "execution_count": null,
   "id": "8e0b157e",
   "metadata": {},
   "outputs": [],
   "source": [
    "# отбираю нужные файлы\n",
    "\n",
    "file_data_list = []\n",
    "\n",
    "for item in file_list:\n",
    "    if 'top_dent' in item:\n",
    "        file_data_list += [item]"
   ]
  },
  {
   "cell_type": "code",
   "execution_count": null,
   "id": "a18f4359",
   "metadata": {},
   "outputs": [],
   "source": [
    "file_data_list"
   ]
  },
  {
   "cell_type": "code",
   "execution_count": null,
   "id": "ed470b36",
   "metadata": {},
   "outputs": [],
   "source": [
    "# объединяю файлы\n",
    "\n",
    "top_dent = pd.DataFrame() # новый датафрейм\n",
    "\n",
    "for file in file_data_list:\n",
    "\n",
    "    top_dent = top_dent.append( # добавляю файлы циклом\n",
    "        pd.read_excel(file_path + file)\n",
    "    )     \n",
    "    "
   ]
  },
  {
   "cell_type": "code",
   "execution_count": null,
   "id": "74d6bcab",
   "metadata": {},
   "outputs": [],
   "source": [
    "top_dent.shape"
   ]
  },
  {
   "cell_type": "code",
   "execution_count": null,
   "id": "4eb7f694",
   "metadata": {},
   "outputs": [],
   "source": [
    "top_dent.drop_duplicates(inplace=True)"
   ]
  },
  {
   "cell_type": "code",
   "execution_count": null,
   "id": "4565ae13",
   "metadata": {},
   "outputs": [],
   "source": [
    "top_dent.shape"
   ]
  },
  {
   "cell_type": "code",
   "execution_count": null,
   "id": "026907be",
   "metadata": {},
   "outputs": [],
   "source": [
    "file_list"
   ]
  },
  {
   "cell_type": "code",
   "execution_count": null,
   "id": "ff6910d5",
   "metadata": {},
   "outputs": [],
   "source": [
    "top_dent_urls = pd.read_excel(file_path + 'topdent_urls.xlsx')"
   ]
  },
  {
   "cell_type": "code",
   "execution_count": null,
   "id": "32d726b2",
   "metadata": {},
   "outputs": [],
   "source": [
    "top_dent_urls.shape"
   ]
  },
  {
   "cell_type": "code",
   "execution_count": null,
   "id": "ed64d1b4",
   "metadata": {},
   "outputs": [],
   "source": [
    "top_dent.head(1)"
   ]
  },
  {
   "cell_type": "code",
   "execution_count": null,
   "id": "ada9350f",
   "metadata": {},
   "outputs": [],
   "source": [
    "top_dent_urls.head(1)"
   ]
  },
  {
   "cell_type": "code",
   "execution_count": null,
   "id": "62b193ee",
   "metadata": {},
   "outputs": [],
   "source": [
    "top_dent = top_dent.merge(top_dent_urls, how='left', on='clinic_page')"
   ]
  },
  {
   "cell_type": "code",
   "execution_count": null,
   "id": "f36d5cee",
   "metadata": {},
   "outputs": [],
   "source": [
    "top_dent.columns"
   ]
  },
  {
   "cell_type": "code",
   "execution_count": null,
   "id": "03712697",
   "metadata": {},
   "outputs": [],
   "source": [
    "top_dent = top_dent[['clinic',\n",
    "    'address', 'metro_stations',\n",
    "    'phone', 'web_site',\n",
    "    'work_hours', 'description',\n",
    "    'verified', 'td_rec',\n",
    "    'price_segment',\n",
    "    'clinic_score', 'score_number',\n",
    "    'clinic_page']]"
   ]
  },
  {
   "cell_type": "code",
   "execution_count": null,
   "id": "354d11b6",
   "metadata": {},
   "outputs": [],
   "source": [
    "top_dent.sample(3)"
   ]
  },
  {
   "cell_type": "code",
   "execution_count": null,
   "id": "1dd6dc42",
   "metadata": {},
   "outputs": [],
   "source": [
    "top_dent.to_excel(file_path + 'top_dent.xlsx', index=False)"
   ]
  },
  {
   "cell_type": "code",
   "execution_count": null,
   "id": "bcfc4877",
   "metadata": {},
   "outputs": [],
   "source": []
  }
 ],
 "metadata": {
  "kernelspec": {
   "display_name": "Python 3",
   "language": "python",
   "name": "python3"
  },
  "language_info": {
   "codemirror_mode": {
    "name": "ipython",
    "version": 3
   },
   "file_extension": ".py",
   "mimetype": "text/x-python",
   "name": "python",
   "nbconvert_exporter": "python",
   "pygments_lexer": "ipython3",
   "version": "3.8.8"
  }
 },
 "nbformat": 4,
 "nbformat_minor": 5
}
