{
 "cells": [
  {
   "cell_type": "code",
   "execution_count": 4,
   "id": "6ab83f79",
   "metadata": {},
   "outputs": [],
   "source": [
    "# импорт библиотек\n",
    "\n",
    "import os\n",
    "\n",
    "import pandas as pd\n",
    "\n",
    "from scipy import stats\n",
    "from scipy.stats import norm\n",
    "from scipy.stats import pearsonr\n",
    "from scipy.stats import shapiro\n",
    "from scipy.stats import chi2_contingency\n",
    "\n",
    "import statistics\n",
    "\n",
    "import matplotlib.pyplot as plt"
   ]
  },
  {
   "cell_type": "code",
   "execution_count": 5,
   "id": "fc9fadf7",
   "metadata": {},
   "outputs": [],
   "source": [
    "file_path = 'C:/00_Data/'"
   ]
  },
  {
   "cell_type": "code",
   "execution_count": 6,
   "id": "3f2c2446",
   "metadata": {},
   "outputs": [],
   "source": [
    "work_mos = pd.read_excel(file_path + 'average_profit.xlsx', sheet_name='mos')"
   ]
  },
  {
   "cell_type": "code",
   "execution_count": 7,
   "id": "f5526d23",
   "metadata": {},
   "outputs": [
    {
     "data": {
      "text/plain": [
       "(3034, 8)"
      ]
     },
     "execution_count": 7,
     "metadata": {},
     "output_type": "execute_result"
    }
   ],
   "source": [
    "work_mos.shape"
   ]
  },
  {
   "cell_type": "code",
   "execution_count": 8,
   "id": "77f31bd1",
   "metadata": {},
   "outputs": [
    {
     "data": {
      "text/html": [
       "<div>\n",
       "<style scoped>\n",
       "    .dataframe tbody tr th:only-of-type {\n",
       "        vertical-align: middle;\n",
       "    }\n",
       "\n",
       "    .dataframe tbody tr th {\n",
       "        vertical-align: top;\n",
       "    }\n",
       "\n",
       "    .dataframe thead th {\n",
       "        text-align: right;\n",
       "    }\n",
       "</style>\n",
       "<table border=\"1\" class=\"dataframe\">\n",
       "  <thead>\n",
       "    <tr style=\"text-align: right;\">\n",
       "      <th></th>\n",
       "      <th>inn</th>\n",
       "      <th>profit_2018</th>\n",
       "      <th>profit_2019</th>\n",
       "      <th>profit_2020</th>\n",
       "      <th>prodoctorov</th>\n",
       "      <th>docdoc</th>\n",
       "      <th>napopravku</th>\n",
       "      <th>aggr_number</th>\n",
       "    </tr>\n",
       "  </thead>\n",
       "  <tbody>\n",
       "    <tr>\n",
       "      <th>0</th>\n",
       "      <td>ИНН: 7602156079</td>\n",
       "      <td>0</td>\n",
       "      <td>0</td>\n",
       "      <td>-798</td>\n",
       "      <td>1</td>\n",
       "      <td>0</td>\n",
       "      <td>1</td>\n",
       "      <td>2</td>\n",
       "    </tr>\n",
       "    <tr>\n",
       "      <th>1</th>\n",
       "      <td>ИНН: 7715203435</td>\n",
       "      <td>5715</td>\n",
       "      <td>7792</td>\n",
       "      <td>12</td>\n",
       "      <td>1</td>\n",
       "      <td>0</td>\n",
       "      <td>1</td>\n",
       "      <td>2</td>\n",
       "    </tr>\n",
       "    <tr>\n",
       "      <th>2</th>\n",
       "      <td>ИНН: 7715209821</td>\n",
       "      <td>116</td>\n",
       "      <td>188</td>\n",
       "      <td>16</td>\n",
       "      <td>0</td>\n",
       "      <td>0</td>\n",
       "      <td>0</td>\n",
       "      <td>0</td>\n",
       "    </tr>\n",
       "    <tr>\n",
       "      <th>3</th>\n",
       "      <td>ИНН: 7715211034</td>\n",
       "      <td>-101279</td>\n",
       "      <td>16579</td>\n",
       "      <td>4037</td>\n",
       "      <td>0</td>\n",
       "      <td>0</td>\n",
       "      <td>0</td>\n",
       "      <td>0</td>\n",
       "    </tr>\n",
       "    <tr>\n",
       "      <th>4</th>\n",
       "      <td>ИНН: 7715218921</td>\n",
       "      <td>-8</td>\n",
       "      <td>-8</td>\n",
       "      <td>109</td>\n",
       "      <td>0</td>\n",
       "      <td>0</td>\n",
       "      <td>0</td>\n",
       "      <td>0</td>\n",
       "    </tr>\n",
       "  </tbody>\n",
       "</table>\n",
       "</div>"
      ],
      "text/plain": [
       "               inn  profit_2018  profit_2019  profit_2020  prodoctorov  \\\n",
       "0  ИНН: 7602156079            0            0         -798            1   \n",
       "1  ИНН: 7715203435         5715         7792           12            1   \n",
       "2  ИНН: 7715209821          116          188           16            0   \n",
       "3  ИНН: 7715211034      -101279        16579         4037            0   \n",
       "4  ИНН: 7715218921           -8           -8          109            0   \n",
       "\n",
       "   docdoc  napopravku  aggr_number  \n",
       "0       0           1            2  \n",
       "1       0           1            2  \n",
       "2       0           0            0  \n",
       "3       0           0            0  \n",
       "4       0           0            0  "
      ]
     },
     "execution_count": 8,
     "metadata": {},
     "output_type": "execute_result"
    }
   ],
   "source": [
    "work_mos.head()"
   ]
  },
  {
   "cell_type": "code",
   "execution_count": 9,
   "id": "986f45fc",
   "metadata": {},
   "outputs": [
    {
     "data": {
      "text/html": [
       "<div>\n",
       "<style scoped>\n",
       "    .dataframe tbody tr th:only-of-type {\n",
       "        vertical-align: middle;\n",
       "    }\n",
       "\n",
       "    .dataframe tbody tr th {\n",
       "        vertical-align: top;\n",
       "    }\n",
       "\n",
       "    .dataframe thead th {\n",
       "        text-align: right;\n",
       "    }\n",
       "</style>\n",
       "<table border=\"1\" class=\"dataframe\">\n",
       "  <thead>\n",
       "    <tr style=\"text-align: right;\">\n",
       "      <th></th>\n",
       "      <th>profit_2018</th>\n",
       "      <th>profit_2019</th>\n",
       "      <th>profit_2020</th>\n",
       "      <th>prodoctorov</th>\n",
       "      <th>docdoc</th>\n",
       "      <th>napopravku</th>\n",
       "      <th>aggr_number</th>\n",
       "    </tr>\n",
       "  </thead>\n",
       "  <tbody>\n",
       "    <tr>\n",
       "      <th>count</th>\n",
       "      <td>3034.000000</td>\n",
       "      <td>3.034000e+03</td>\n",
       "      <td>3.034000e+03</td>\n",
       "      <td>3034.000000</td>\n",
       "      <td>3034.000000</td>\n",
       "      <td>3034.000000</td>\n",
       "      <td>3034.000000</td>\n",
       "    </tr>\n",
       "    <tr>\n",
       "      <th>mean</th>\n",
       "      <td>3474.846407</td>\n",
       "      <td>3.998302e+03</td>\n",
       "      <td>3.899422e+03</td>\n",
       "      <td>0.430455</td>\n",
       "      <td>0.088991</td>\n",
       "      <td>0.256757</td>\n",
       "      <td>0.776203</td>\n",
       "    </tr>\n",
       "    <tr>\n",
       "      <th>std</th>\n",
       "      <td>30218.832944</td>\n",
       "      <td>3.223937e+04</td>\n",
       "      <td>3.652688e+04</td>\n",
       "      <td>0.495221</td>\n",
       "      <td>0.284778</td>\n",
       "      <td>0.436916</td>\n",
       "      <td>0.880054</td>\n",
       "    </tr>\n",
       "    <tr>\n",
       "      <th>min</th>\n",
       "      <td>-283162.000000</td>\n",
       "      <td>-2.277890e+05</td>\n",
       "      <td>-5.887050e+05</td>\n",
       "      <td>0.000000</td>\n",
       "      <td>0.000000</td>\n",
       "      <td>0.000000</td>\n",
       "      <td>0.000000</td>\n",
       "    </tr>\n",
       "    <tr>\n",
       "      <th>25%</th>\n",
       "      <td>0.000000</td>\n",
       "      <td>-4.500000e+01</td>\n",
       "      <td>-1.907500e+02</td>\n",
       "      <td>0.000000</td>\n",
       "      <td>0.000000</td>\n",
       "      <td>0.000000</td>\n",
       "      <td>0.000000</td>\n",
       "    </tr>\n",
       "    <tr>\n",
       "      <th>50%</th>\n",
       "      <td>69.000000</td>\n",
       "      <td>1.870000e+02</td>\n",
       "      <td>2.240000e+02</td>\n",
       "      <td>0.000000</td>\n",
       "      <td>0.000000</td>\n",
       "      <td>0.000000</td>\n",
       "      <td>1.000000</td>\n",
       "    </tr>\n",
       "    <tr>\n",
       "      <th>75%</th>\n",
       "      <td>1274.500000</td>\n",
       "      <td>1.704500e+03</td>\n",
       "      <td>2.037750e+03</td>\n",
       "      <td>1.000000</td>\n",
       "      <td>0.000000</td>\n",
       "      <td>1.000000</td>\n",
       "      <td>1.000000</td>\n",
       "    </tr>\n",
       "    <tr>\n",
       "      <th>max</th>\n",
       "      <td>946934.000000</td>\n",
       "      <td>1.014132e+06</td>\n",
       "      <td>1.196198e+06</td>\n",
       "      <td>1.000000</td>\n",
       "      <td>1.000000</td>\n",
       "      <td>1.000000</td>\n",
       "      <td>3.000000</td>\n",
       "    </tr>\n",
       "  </tbody>\n",
       "</table>\n",
       "</div>"
      ],
      "text/plain": [
       "         profit_2018   profit_2019   profit_2020  prodoctorov       docdoc  \\\n",
       "count    3034.000000  3.034000e+03  3.034000e+03  3034.000000  3034.000000   \n",
       "mean     3474.846407  3.998302e+03  3.899422e+03     0.430455     0.088991   \n",
       "std     30218.832944  3.223937e+04  3.652688e+04     0.495221     0.284778   \n",
       "min   -283162.000000 -2.277890e+05 -5.887050e+05     0.000000     0.000000   \n",
       "25%         0.000000 -4.500000e+01 -1.907500e+02     0.000000     0.000000   \n",
       "50%        69.000000  1.870000e+02  2.240000e+02     0.000000     0.000000   \n",
       "75%      1274.500000  1.704500e+03  2.037750e+03     1.000000     0.000000   \n",
       "max    946934.000000  1.014132e+06  1.196198e+06     1.000000     1.000000   \n",
       "\n",
       "        napopravku  aggr_number  \n",
       "count  3034.000000  3034.000000  \n",
       "mean      0.256757     0.776203  \n",
       "std       0.436916     0.880054  \n",
       "min       0.000000     0.000000  \n",
       "25%       0.000000     0.000000  \n",
       "50%       0.000000     1.000000  \n",
       "75%       1.000000     1.000000  \n",
       "max       1.000000     3.000000  "
      ]
     },
     "execution_count": 9,
     "metadata": {},
     "output_type": "execute_result"
    }
   ],
   "source": [
    "work_mos.describe()"
   ]
  },
  {
   "cell_type": "code",
   "execution_count": 10,
   "id": "b28c76b2",
   "metadata": {},
   "outputs": [
    {
     "data": {
      "text/plain": [
       "<AxesSubplot:>"
      ]
     },
     "execution_count": 10,
     "metadata": {},
     "output_type": "execute_result"
    },
    {
     "data": {
      "image/png": "[encoded data removed]",
      "text/plain": [
       "<Figure size 432x288 with 1 Axes>"
      ]
     },
     "metadata": {
      "needs_background": "light"
     },
     "output_type": "display_data"
    }
   ],
   "source": [
    "work_mos['profit_2020'].hist()"
   ]
  },
  {
   "cell_type": "code",
   "execution_count": 11,
   "id": "c22577cd",
   "metadata": {},
   "outputs": [],
   "source": [
    "total_mean = work_mos['profit_2020'].mean()\n",
    "total_median = work_mos['profit_2020'].median()\n",
    "total_mode = work_mos['profit_2020'].mode()"
   ]
  },
  {
   "cell_type": "code",
   "execution_count": 12,
   "id": "1cc5fd56",
   "metadata": {},
   "outputs": [
    {
     "name": "stdout",
     "output_type": "stream",
     "text": [
      "Среднее: 3899.4222148978247\n",
      "Медиана: 224.0\n",
      "Мода: 0    0\n",
      "dtype: int64\n"
     ]
    }
   ],
   "source": [
    "print('Среднее: ' + str(total_mean))\n",
    "print('Медиана: ' + str(total_median))\n",
    "print('Мода: ' + str(total_mode))"
   ]
  },
  {
   "cell_type": "code",
   "execution_count": null,
   "id": "d984ed18",
   "metadata": {},
   "outputs": [],
   "source": []
  },
  {
   "cell_type": "markdown",
   "id": "50cd9bba",
   "metadata": {},
   "source": [
    "## Оставляю только прибыльные клиники"
   ]
  },
  {
   "cell_type": "code",
   "execution_count": 14,
   "id": "912674f4",
   "metadata": {},
   "outputs": [],
   "source": [
    "work_mos = work_mos[work_mos['profit_2020'] > 0]"
   ]
  },
  {
   "cell_type": "code",
   "execution_count": 15,
   "id": "223bb41f",
   "metadata": {},
   "outputs": [
    {
     "data": {
      "text/plain": [
       "(2012, 8)"
      ]
     },
     "execution_count": 15,
     "metadata": {},
     "output_type": "execute_result"
    }
   ],
   "source": [
    "work_mos.shape"
   ]
  },
  {
   "cell_type": "code",
   "execution_count": 16,
   "id": "0acc6fbf",
   "metadata": {},
   "outputs": [
    {
     "name": "stdout",
     "output_type": "stream",
     "text": [
      "Среднее: 7922.416500994036\n",
      "Медиана: 1108.0\n",
      "Мода: 0    4488\n",
      "dtype: int64\n"
     ]
    }
   ],
   "source": [
    "print('Среднее: ' + str(work_mos['profit_2020'].mean()))\n",
    "print('Медиана: ' + str(work_mos['profit_2020'].median()))\n",
    "print('Мода: ' + str(work_mos['profit_2020'].mode()))"
   ]
  },
  {
   "cell_type": "code",
   "execution_count": 17,
   "id": "98b3fa58",
   "metadata": {},
   "outputs": [],
   "source": [
    "#work_mos.to_excel(file_path + 'temp.xlsx', index=False)"
   ]
  },
  {
   "cell_type": "code",
   "execution_count": 18,
   "id": "a11c80bf",
   "metadata": {},
   "outputs": [
    {
     "data": {
      "text/html": [
       "<div>\n",
       "<style scoped>\n",
       "    .dataframe tbody tr th:only-of-type {\n",
       "        vertical-align: middle;\n",
       "    }\n",
       "\n",
       "    .dataframe tbody tr th {\n",
       "        vertical-align: top;\n",
       "    }\n",
       "\n",
       "    .dataframe thead th {\n",
       "        text-align: right;\n",
       "    }\n",
       "</style>\n",
       "<table border=\"1\" class=\"dataframe\">\n",
       "  <thead>\n",
       "    <tr style=\"text-align: right;\">\n",
       "      <th></th>\n",
       "      <th>inn</th>\n",
       "      <th>profit_2018</th>\n",
       "      <th>profit_2019</th>\n",
       "      <th>profit_2020</th>\n",
       "      <th>prodoctorov</th>\n",
       "      <th>docdoc</th>\n",
       "      <th>napopravku</th>\n",
       "      <th>aggr_number</th>\n",
       "    </tr>\n",
       "  </thead>\n",
       "  <tbody>\n",
       "    <tr>\n",
       "      <th>1443</th>\n",
       "      <td>ИНН: 7730006142</td>\n",
       "      <td>8931</td>\n",
       "      <td>7647</td>\n",
       "      <td>8068</td>\n",
       "      <td>1</td>\n",
       "      <td>0</td>\n",
       "      <td>0</td>\n",
       "      <td>1</td>\n",
       "    </tr>\n",
       "  </tbody>\n",
       "</table>\n",
       "</div>"
      ],
      "text/plain": [
       "                  inn  profit_2018  profit_2019  profit_2020  prodoctorov  \\\n",
       "1443  ИНН: 7730006142         8931         7647         8068            1   \n",
       "\n",
       "      docdoc  napopravku  aggr_number  \n",
       "1443       0           0            1  "
      ]
     },
     "execution_count": 18,
     "metadata": {},
     "output_type": "execute_result"
    }
   ],
   "source": [
    "work_mos.sample()"
   ]
  },
  {
   "cell_type": "markdown",
   "id": "8e6107c4",
   "metadata": {},
   "source": [
    "### Создаю выборки"
   ]
  },
  {
   "cell_type": "code",
   "execution_count": 31,
   "id": "701ef8bd",
   "metadata": {},
   "outputs": [],
   "source": [
    "\n",
    "# клиники, не размещающиеся на агрегаторах\n",
    "no_aggr = work_mos[work_mos['aggr_number'] == 0]['profit_2020'].to_list()\n",
    "\n",
    "# клиники, которые пользуются хотя бы одним агрегатором\n",
    "more_aggr = work_mos[work_mos['aggr_number'] > 0]['profit_2020'].to_list()\n",
    "\n",
    "# клиники, которые размещаются только на prodoctorov\n",
    "prodoctorov = work_mos[((work_mos['prodoctorov'] == 1) &\n",
    "                        (work_mos['aggr_number'] == 1))]['profit_2020'].to_list()\n",
    "\n",
    "# клиники, которые размещаются только на docdoc\n",
    "docdoc = work_mos[((work_mos['docdoc'] == 1) &\n",
    "                        (work_mos['aggr_number'] == 1))]['profit_2020'].to_list()\n",
    "\n",
    "# клиники, которые размещаются только на napopravku\n",
    "napopravku = work_mos[((work_mos['napopravku'] == 1) &\n",
    "                        (work_mos['aggr_number'] == 1))]['profit_2020'].to_list()\n",
    "\n",
    "# клиники, которые размещаются на всех трех агрегаторах\n",
    "all_aggr = work_mos[work_mos['aggr_number'] == 3]['profit_2020'].to_list()\n",
    "\n",
    "# клиники, которые размещаются на prodoctorov и doc-doc\n",
    "pr_doc_aggr = work_mos[((work_mos['prodoctorov'] == 1) &\n",
    "                        (work_mos['docdoc'] == 1) &\n",
    "                        (work_mos['aggr_number'] == 2))]['profit_2020'].to_list()\n",
    "\n",
    "# клиники, которые размещаются на prodoctorov и napopravku\n",
    "pr_nap_aggr = work_mos[((work_mos['prodoctorov'] == 1) &\n",
    "                        (work_mos['napopravku'] == 1) &\n",
    "                        (work_mos['aggr_number'] == 2))]['profit_2020'].to_list()\n",
    "\n",
    "# клиники, которые размещаются на doc-doc и napopravku\n",
    "doc_nap_aggr = work_mos[((work_mos['napopravku'] == 1) &\n",
    "                        (work_mos['docdoc'] == 1) &\n",
    "                        (work_mos['aggr_number'] == 2))]['profit_2020'].to_list()"
   ]
  },
  {
   "cell_type": "markdown",
   "id": "31c2f26b",
   "metadata": {},
   "source": [
    "### Создаю словарь выборок\n",
    "\n",
    "Чтобы посчитать нужные статистики автоматом"
   ]
  },
  {
   "cell_type": "code",
   "execution_count": 39,
   "id": "98ee7a55",
   "metadata": {},
   "outputs": [],
   "source": [
    "# список имен выборок\n",
    "sample_list = ['no_aggr', 'more_aggr', 'prodoctorov', 'docdoc', 'napopravku',\n",
    "               'all_aggr', 'pr_doc_aggr', 'pr_nap_aggr', 'doc_nap_aggr']\n",
    "\n",
    "# словарь выборок\n",
    "sample_dict = {'no_aggr': no_aggr, 'more_aggr': more_aggr,\n",
    "               'prodoctorov': prodoctorov, 'docdoc': docdoc,\n",
    "               'napopravku':napopravku,\n",
    "               'all_aggr': all_aggr, 'pr_doc_aggr': pr_doc_aggr,\n",
    "               'pr_nap_aggr': pr_nap_aggr, 'doc_nap_aggr': doc_nap_aggr}\n",
    "\n",
    "# список статистик\n",
    "operation_list = [statistics.mean, statistics.median, statistics.mode, statistics.pvariance, statistics.pstdev]"
   ]
  },
  {
   "cell_type": "markdown",
   "id": "ed54865e",
   "metadata": {},
   "source": [
    "### Создаю датафрейм со статистиками"
   ]
  },
  {
   "cell_type": "code",
   "execution_count": 40,
   "id": "4daa05e4",
   "metadata": {},
   "outputs": [],
   "source": [
    "temp_data = []\n",
    "\n",
    "for i in sample_list:\n",
    "    temp_list = []\n",
    "    \n",
    "    temp_list.append(i)\n",
    "    \n",
    "    for item in operation_list:\n",
    "        temp_list.append(round(item(sample_dict[i]), 0))\n",
    "    \n",
    "    temp_data.append(temp_list)"
   ]
  },
  {
   "cell_type": "code",
   "execution_count": 41,
   "id": "047d8210",
   "metadata": {},
   "outputs": [],
   "source": [
    "work = pd.DataFrame(temp_data, columns=['sample', 'mean', 'median', 'mode', 'variance', 'std'])"
   ]
  },
  {
   "cell_type": "code",
   "execution_count": 42,
   "id": "18384944",
   "metadata": {},
   "outputs": [
    {
     "data": {
      "text/html": [
       "<div>\n",
       "<style scoped>\n",
       "    .dataframe tbody tr th:only-of-type {\n",
       "        vertical-align: middle;\n",
       "    }\n",
       "\n",
       "    .dataframe tbody tr th {\n",
       "        vertical-align: top;\n",
       "    }\n",
       "\n",
       "    .dataframe thead th {\n",
       "        text-align: right;\n",
       "    }\n",
       "</style>\n",
       "<table border=\"1\" class=\"dataframe\">\n",
       "  <thead>\n",
       "    <tr style=\"text-align: right;\">\n",
       "      <th></th>\n",
       "      <th>sample</th>\n",
       "      <th>mean</th>\n",
       "      <th>median</th>\n",
       "      <th>mode</th>\n",
       "      <th>variance</th>\n",
       "      <th>std</th>\n",
       "    </tr>\n",
       "  </thead>\n",
       "  <tbody>\n",
       "    <tr>\n",
       "      <th>0</th>\n",
       "      <td>no_aggr</td>\n",
       "      <td>8243.0</td>\n",
       "      <td>699.0</td>\n",
       "      <td>4488</td>\n",
       "      <td>2.800493e+09</td>\n",
       "      <td>52920.0</td>\n",
       "    </tr>\n",
       "    <tr>\n",
       "      <th>1</th>\n",
       "      <td>more_aggr</td>\n",
       "      <td>7669.0</td>\n",
       "      <td>1540.0</td>\n",
       "      <td>1</td>\n",
       "      <td>6.437368e+08</td>\n",
       "      <td>25372.0</td>\n",
       "    </tr>\n",
       "    <tr>\n",
       "      <th>2</th>\n",
       "      <td>prodoctorov</td>\n",
       "      <td>4918.0</td>\n",
       "      <td>1238.0</td>\n",
       "      <td>1215</td>\n",
       "      <td>1.671306e+08</td>\n",
       "      <td>12928.0</td>\n",
       "    </tr>\n",
       "    <tr>\n",
       "      <th>3</th>\n",
       "      <td>docdoc</td>\n",
       "      <td>15635.0</td>\n",
       "      <td>3426.0</td>\n",
       "      <td>3136</td>\n",
       "      <td>1.458504e+09</td>\n",
       "      <td>38190.0</td>\n",
       "    </tr>\n",
       "    <tr>\n",
       "      <th>4</th>\n",
       "      <td>napopravku</td>\n",
       "      <td>4852.0</td>\n",
       "      <td>990.0</td>\n",
       "      <td>58</td>\n",
       "      <td>1.638849e+08</td>\n",
       "      <td>12802.0</td>\n",
       "    </tr>\n",
       "    <tr>\n",
       "      <th>5</th>\n",
       "      <td>all_aggr</td>\n",
       "      <td>12797.0</td>\n",
       "      <td>3374.0</td>\n",
       "      <td>575</td>\n",
       "      <td>1.132326e+09</td>\n",
       "      <td>33650.0</td>\n",
       "    </tr>\n",
       "    <tr>\n",
       "      <th>6</th>\n",
       "      <td>pr_doc_aggr</td>\n",
       "      <td>6505.0</td>\n",
       "      <td>2260.0</td>\n",
       "      <td>8348</td>\n",
       "      <td>1.916619e+08</td>\n",
       "      <td>13844.0</td>\n",
       "    </tr>\n",
       "    <tr>\n",
       "      <th>7</th>\n",
       "      <td>pr_nap_aggr</td>\n",
       "      <td>9187.0</td>\n",
       "      <td>1690.0</td>\n",
       "      <td>1</td>\n",
       "      <td>1.147697e+09</td>\n",
       "      <td>33878.0</td>\n",
       "    </tr>\n",
       "    <tr>\n",
       "      <th>8</th>\n",
       "      <td>doc_nap_aggr</td>\n",
       "      <td>28022.0</td>\n",
       "      <td>3404.0</td>\n",
       "      <td>3092</td>\n",
       "      <td>3.032335e+09</td>\n",
       "      <td>55067.0</td>\n",
       "    </tr>\n",
       "  </tbody>\n",
       "</table>\n",
       "</div>"
      ],
      "text/plain": [
       "         sample     mean  median  mode      variance      std\n",
       "0       no_aggr   8243.0   699.0  4488  2.800493e+09  52920.0\n",
       "1     more_aggr   7669.0  1540.0     1  6.437368e+08  25372.0\n",
       "2   prodoctorov   4918.0  1238.0  1215  1.671306e+08  12928.0\n",
       "3        docdoc  15635.0  3426.0  3136  1.458504e+09  38190.0\n",
       "4    napopravku   4852.0   990.0    58  1.638849e+08  12802.0\n",
       "5      all_aggr  12797.0  3374.0   575  1.132326e+09  33650.0\n",
       "6   pr_doc_aggr   6505.0  2260.0  8348  1.916619e+08  13844.0\n",
       "7   pr_nap_aggr   9187.0  1690.0     1  1.147697e+09  33878.0\n",
       "8  doc_nap_aggr  28022.0  3404.0  3092  3.032335e+09  55067.0"
      ]
     },
     "execution_count": 42,
     "metadata": {},
     "output_type": "execute_result"
    }
   ],
   "source": [
    "work"
   ]
  },
  {
   "cell_type": "code",
   "execution_count": 44,
   "id": "8403e5d6",
   "metadata": {},
   "outputs": [],
   "source": [
    "work.to_excel(file_path + 'temp.xlsx', index=False)"
   ]
  },
  {
   "cell_type": "code",
   "execution_count": null,
   "id": "b2bdb6f1",
   "metadata": {},
   "outputs": [],
   "source": []
  }
 ],
 "metadata": {
  "kernelspec": {
   "display_name": "Python 3",
   "language": "python",
   "name": "python3"
  },
  "language_info": {
   "codemirror_mode": {
    "name": "ipython",
    "version": 3
   },
   "file_extension": ".py",
   "mimetype": "text/x-python",
   "name": "python",
   "nbconvert_exporter": "python",
   "pygments_lexer": "ipython3",
   "version": "3.8.8"
  }
 },
 "nbformat": 4,
 "nbformat_minor": 5
}
