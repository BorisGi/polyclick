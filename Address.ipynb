{
 "cells": [
  {
   "cell_type": "code",
   "execution_count": 29,
   "id": "412f3f6d",
   "metadata": {},
   "outputs": [],
   "source": [
    "# загружаю нужные библиотеки\n",
    "\n",
    "import os\n",
    "\n",
    "import pandas as pd\n",
    "\n",
    "\n",
    "# прогресс-бар\n",
    "from tqdm.notebook import trange, tqdm"
   ]
  },
  {
   "cell_type": "code",
   "execution_count": 2,
   "id": "ad19942f",
   "metadata": {},
   "outputs": [],
   "source": [
    "from natasha import (\n",
    "    Segmenter,\n",
    "    MorphVocab,\n",
    "    \n",
    "    NewsEmbedding,\n",
    "    NewsMorphTagger,\n",
    "    NewsSyntaxParser,\n",
    "    NewsNERTagger,\n",
    "    \n",
    "    PER,\n",
    "    NamesExtractor,\n",
    "    DatesExtractor,\n",
    "    MoneyExtractor,\n",
    "    AddrExtractor,\n",
    "\n",
    "    Doc\n",
    ")\n",
    "\n",
    "segmenter = Segmenter()\n",
    "morph_vocab = MorphVocab()\n",
    "\n",
    "emb = NewsEmbedding()\n",
    "morph_tagger = NewsMorphTagger(emb)\n",
    "syntax_parser = NewsSyntaxParser(emb)\n",
    "ner_tagger = NewsNERTagger(emb)\n",
    "\n",
    "names_extractor = NamesExtractor(morph_vocab)\n",
    "dates_extractor = DatesExtractor(morph_vocab)\n",
    "money_extractor = MoneyExtractor(morph_vocab)\n",
    "addr_extractor = AddrExtractor(morph_vocab)"
   ]
  },
  {
   "cell_type": "code",
   "execution_count": 18,
   "id": "ff7f16df",
   "metadata": {},
   "outputs": [],
   "source": [
    "work = pd.read_excel('C:/Data/Стоматологии/Реестр РосЗдравНадзора/stom_lic_rf_2021_08_22_mos.xlsx', sheet_name='data')"
   ]
  },
  {
   "cell_type": "code",
   "execution_count": 19,
   "id": "77631fb9",
   "metadata": {},
   "outputs": [
    {
     "data": {
      "text/html": [
       "<div>\n",
       "<style scoped>\n",
       "    .dataframe tbody tr th:only-of-type {\n",
       "        vertical-align: middle;\n",
       "    }\n",
       "\n",
       "    .dataframe tbody tr th {\n",
       "        vertical-align: top;\n",
       "    }\n",
       "\n",
       "    .dataframe thead th {\n",
       "        text-align: right;\n",
       "    }\n",
       "</style>\n",
       "<table border=\"1\" class=\"dataframe\">\n",
       "  <thead>\n",
       "    <tr style=\"text-align: right;\">\n",
       "      <th></th>\n",
       "      <th>name</th>\n",
       "      <th>full_name_licensee</th>\n",
       "      <th>abbreviated_name_licensee</th>\n",
       "      <th>brand_name_licensee</th>\n",
       "      <th>form</th>\n",
       "      <th>address_region</th>\n",
       "      <th>address</th>\n",
       "      <th>ogrn</th>\n",
       "      <th>inn</th>\n",
       "      <th>address_number</th>\n",
       "      <th>...</th>\n",
       "      <th>date_duplicate</th>\n",
       "      <th>termination</th>\n",
       "      <th>date_termination</th>\n",
       "      <th>information</th>\n",
       "      <th>information_regulations</th>\n",
       "      <th>information_suspension_resumption</th>\n",
       "      <th>information_cancellation</th>\n",
       "      <th>information_reissuing</th>\n",
       "      <th>date_reissuing</th>\n",
       "      <th>1</th>\n",
       "    </tr>\n",
       "  </thead>\n",
       "  <tbody>\n",
       "    <tr>\n",
       "      <th>0</th>\n",
       "      <td>Федеральная служба по надзору в сфере здравоох...</td>\n",
       "      <td>Центральный банк Российской Федерации</td>\n",
       "      <td>Банк России</td>\n",
       "      <td>Центральный банк Российской Федерации</td>\n",
       "      <td>Федеральное государственное бюджетное учреждение</td>\n",
       "      <td>Москва</td>\n",
       "      <td>107016, Россия, г. Москва, Неглинная ул, д. 12</td>\n",
       "      <td>1037700013020</td>\n",
       "      <td>7702235133</td>\n",
       "      <td>22</td>\n",
       "      <td>...</td>\n",
       "      <td>NaN</td>\n",
       "      <td>NaN</td>\n",
       "      <td>NaN</td>\n",
       "      <td>NaN</td>\n",
       "      <td>NaN</td>\n",
       "      <td>NaN</td>\n",
       "      <td>NaN</td>\n",
       "      <td>NaN</td>\n",
       "      <td>06.08.2021</td>\n",
       "      <td>1</td>\n",
       "    </tr>\n",
       "    <tr>\n",
       "      <th>1</th>\n",
       "      <td>Федеральная служба по надзору в сфере здравоох...</td>\n",
       "      <td>Центральный банк Российской Федерации</td>\n",
       "      <td>Банк России</td>\n",
       "      <td>Центральный банк Российской Федерации</td>\n",
       "      <td>Федеральное государственное бюджетное учреждение</td>\n",
       "      <td>Москва</td>\n",
       "      <td>107016, Россия, г. Москва, Неглинная ул, д. 12</td>\n",
       "      <td>1037700013020</td>\n",
       "      <td>7702235133</td>\n",
       "      <td>22</td>\n",
       "      <td>...</td>\n",
       "      <td>NaN</td>\n",
       "      <td>NaN</td>\n",
       "      <td>NaN</td>\n",
       "      <td>NaN</td>\n",
       "      <td>NaN</td>\n",
       "      <td>NaN</td>\n",
       "      <td>NaN</td>\n",
       "      <td>NaN</td>\n",
       "      <td>06.08.2021</td>\n",
       "      <td>1</td>\n",
       "    </tr>\n",
       "  </tbody>\n",
       "</table>\n",
       "<p>2 rows × 36 columns</p>\n",
       "</div>"
      ],
      "text/plain": [
       "                                                name  \\\n",
       "0  Федеральная служба по надзору в сфере здравоох...   \n",
       "1  Федеральная служба по надзору в сфере здравоох...   \n",
       "\n",
       "                      full_name_licensee abbreviated_name_licensee  \\\n",
       "0  Центральный банк Российской Федерации               Банк России   \n",
       "1  Центральный банк Российской Федерации               Банк России   \n",
       "\n",
       "                     brand_name_licensee  \\\n",
       "0  Центральный банк Российской Федерации   \n",
       "1  Центральный банк Российской Федерации   \n",
       "\n",
       "                                               form address_region  \\\n",
       "0  Федеральное государственное бюджетное учреждение         Москва   \n",
       "1  Федеральное государственное бюджетное учреждение         Москва   \n",
       "\n",
       "                                          address           ogrn         inn  \\\n",
       "0  107016, Россия, г. Москва, Неглинная ул, д. 12  1037700013020  7702235133   \n",
       "1  107016, Россия, г. Москва, Неглинная ул, д. 12  1037700013020  7702235133   \n",
       "\n",
       "   address_number  ...  date_duplicate termination  date_termination  \\\n",
       "0              22  ...             NaN         NaN               NaN   \n",
       "1              22  ...             NaN         NaN               NaN   \n",
       "\n",
       "  information information_regulations information_suspension_resumption  \\\n",
       "0         NaN                     NaN                               NaN   \n",
       "1         NaN                     NaN                               NaN   \n",
       "\n",
       "  information_cancellation information_reissuing date_reissuing  1  \n",
       "0                      NaN                   NaN     06.08.2021  1  \n",
       "1                      NaN                   NaN     06.08.2021  1  \n",
       "\n",
       "[2 rows x 36 columns]"
      ]
     },
     "execution_count": 19,
     "metadata": {},
     "output_type": "execute_result"
    }
   ],
   "source": [
    "work.head(2)"
   ]
  },
  {
   "cell_type": "code",
   "execution_count": 44,
   "id": "0066ca64",
   "metadata": {},
   "outputs": [
    {
     "data": {
      "application/vnd.jupyter.widget-view+json": {
       "model_id": "99b1b276b06f45edb265425d127f76b0",
       "version_major": 2,
       "version_minor": 0
      },
      "text/plain": [
       "  0%|          | 0/8797 [00:00<?, ?it/s]"
      ]
     },
     "metadata": {},
     "output_type": "display_data"
    }
   ],
   "source": [
    "data = [] # список для данных\n",
    "\n",
    "for item in tqdm(work.sub_address): # циклом перибираю адреса\n",
    "    temp = addr_extractor.find(item)\n",
    "    \n",
    "    addr_dict = {} # словарь для элементов адреса\n",
    "    \n",
    "    for i in temp.fact.parts: # цикл для составления словарей\n",
    "        addr_dict[i.type] = i.value\n",
    "        \n",
    "    data.append([item, addr_dict])"
   ]
  },
  {
   "cell_type": "code",
   "execution_count": 45,
   "id": "711209ce",
   "metadata": {},
   "outputs": [],
   "source": [
    "# Записываю в датафрейм\n",
    "\n",
    "head_list = ['address', 'addr_dict']\n",
    "\n",
    "work_address = pd.DataFrame(data, columns=head_list)"
   ]
  },
  {
   "cell_type": "code",
   "execution_count": 72,
   "id": "bf553b5d",
   "metadata": {},
   "outputs": [],
   "source": [
    "work_address.to_excel('C:/Data/address_stom_mos.xlsx', encoding='utf8', index=False)"
   ]
  },
  {
   "cell_type": "code",
   "execution_count": 73,
   "id": "ded3d7d4",
   "metadata": {},
   "outputs": [
    {
     "data": {
      "text/html": [
       "<div>\n",
       "<style scoped>\n",
       "    .dataframe tbody tr th:only-of-type {\n",
       "        vertical-align: middle;\n",
       "    }\n",
       "\n",
       "    .dataframe tbody tr th {\n",
       "        vertical-align: top;\n",
       "    }\n",
       "\n",
       "    .dataframe thead th {\n",
       "        text-align: right;\n",
       "    }\n",
       "</style>\n",
       "<table border=\"1\" class=\"dataframe\">\n",
       "  <thead>\n",
       "    <tr style=\"text-align: right;\">\n",
       "      <th></th>\n",
       "      <th>address</th>\n",
       "      <th>addr_dict</th>\n",
       "    </tr>\n",
       "  </thead>\n",
       "  <tbody>\n",
       "    <tr>\n",
       "      <th>0</th>\n",
       "      <td>117593, г. Москва, Севастопольский проспект, д...</td>\n",
       "      <td>{'индекс': '117593', 'город': 'Москва', 'просп...</td>\n",
       "    </tr>\n",
       "    <tr>\n",
       "      <th>1</th>\n",
       "      <td>107016, г. Москва, ул. Петровка, д. 8/11, стр. 1</td>\n",
       "      <td>{'индекс': '107016', 'город': 'Москва', 'дом':...</td>\n",
       "    </tr>\n",
       "    <tr>\n",
       "      <th>2</th>\n",
       "      <td>117996, г. Москва, ул. Житная, д. 12</td>\n",
       "      <td>{'индекс': '117996', 'город': 'Москва', 'улица...</td>\n",
       "    </tr>\n",
       "    <tr>\n",
       "      <th>3</th>\n",
       "      <td>125124, г. Москва, ул. Правды, д. 6, стр. 2</td>\n",
       "      <td>{'индекс': '125124', 'город': 'Москва', 'улица...</td>\n",
       "    </tr>\n",
       "    <tr>\n",
       "      <th>4</th>\n",
       "      <td>125364, г. Москва, ул. Свободы, д. 57, корп. 1</td>\n",
       "      <td>{'индекс': '125364', 'город': 'Москва', 'улица...</td>\n",
       "    </tr>\n",
       "  </tbody>\n",
       "</table>\n",
       "</div>"
      ],
      "text/plain": [
       "                                             address  \\\n",
       "0  117593, г. Москва, Севастопольский проспект, д...   \n",
       "1   107016, г. Москва, ул. Петровка, д. 8/11, стр. 1   \n",
       "2               117996, г. Москва, ул. Житная, д. 12   \n",
       "3        125124, г. Москва, ул. Правды, д. 6, стр. 2   \n",
       "4     125364, г. Москва, ул. Свободы, д. 57, корп. 1   \n",
       "\n",
       "                                           addr_dict  \n",
       "0  {'индекс': '117593', 'город': 'Москва', 'просп...  \n",
       "1  {'индекс': '107016', 'город': 'Москва', 'дом':...  \n",
       "2  {'индекс': '117996', 'город': 'Москва', 'улица...  \n",
       "3  {'индекс': '125124', 'город': 'Москва', 'улица...  \n",
       "4  {'индекс': '125364', 'город': 'Москва', 'улица...  "
      ]
     },
     "execution_count": 73,
     "metadata": {},
     "output_type": "execute_result"
    }
   ],
   "source": [
    "work_address.head(5)"
   ]
  },
  {
   "cell_type": "code",
   "execution_count": null,
   "id": "3da8380f",
   "metadata": {},
   "outputs": [],
   "source": []
  },
  {
   "cell_type": "code",
   "execution_count": 109,
   "id": "ad91f788",
   "metadata": {},
   "outputs": [],
   "source": [
    "test = '141551, Московская область, г.о. Солнечногорск, р.п. Андреевка, ул. Жилинская, д. 1А'"
   ]
  },
  {
   "cell_type": "code",
   "execution_count": 110,
   "id": "51b7fbff",
   "metadata": {},
   "outputs": [
    {
     "data": {
      "text/plain": [
       "Match(\n",
       "    start=0,\n",
       "    stop=84,\n",
       "    fact=Addr(\n",
       "        parts=[AddrPart(\n",
       "             value='141551',\n",
       "             type='индекс'\n",
       "         ),\n",
       "         AddrPart(\n",
       "             value='Московская',\n",
       "             type='область'\n",
       "         ),\n",
       "         AddrPart(\n",
       "             value='Андреевка',\n",
       "             type='посёлок'\n",
       "         ),\n",
       "         AddrPart(\n",
       "             value='1А',\n",
       "             type='дом'\n",
       "         )]\n",
       "    )\n",
       ")"
      ]
     },
     "execution_count": 110,
     "metadata": {},
     "output_type": "execute_result"
    }
   ],
   "source": [
    "addr_extractor.find(test)"
   ]
  },
  {
   "cell_type": "code",
   "execution_count": null,
   "id": "690d792c",
   "metadata": {},
   "outputs": [],
   "source": []
  },
  {
   "cell_type": "code",
   "execution_count": null,
   "id": "17e8f964",
   "metadata": {},
   "outputs": [],
   "source": []
  },
  {
   "cell_type": "code",
   "execution_count": 70,
   "id": "ce81c3d5",
   "metadata": {},
   "outputs": [
    {
     "ename": "TypeError",
     "evalue": "<lambda>() got an unexpected keyword argument 'axis'",
     "output_type": "error",
     "traceback": [
      "\u001b[1;31m---------------------------------------------------------------------------\u001b[0m",
      "\u001b[1;31mTypeError\u001b[0m                                 Traceback (most recent call last)",
      "\u001b[1;32m<ipython-input-70-349408d5115c>\u001b[0m in \u001b[0;36m<module>\u001b[1;34m\u001b[0m\n\u001b[1;32m----> 1\u001b[1;33m \u001b[0mwork_address\u001b[0m\u001b[1;33m[\u001b[0m\u001b[1;34m'index'\u001b[0m\u001b[1;33m]\u001b[0m \u001b[1;33m=\u001b[0m \u001b[0mwork_address\u001b[0m\u001b[1;33m.\u001b[0m\u001b[0maddr_dict\u001b[0m\u001b[1;33m.\u001b[0m\u001b[0mapply\u001b[0m\u001b[1;33m(\u001b[0m\u001b[1;32mlambda\u001b[0m \u001b[0mx\u001b[0m\u001b[1;33m:\u001b[0m \u001b[0mx\u001b[0m\u001b[1;33m[\u001b[0m\u001b[1;34m'индекс'\u001b[0m\u001b[1;33m]\u001b[0m\u001b[1;33m,\u001b[0m \u001b[0maxis\u001b[0m\u001b[1;33m=\u001b[0m\u001b[1;36m1\u001b[0m\u001b[1;33m)\u001b[0m\u001b[1;33m\u001b[0m\u001b[1;33m\u001b[0m\u001b[0m\n\u001b[0m",
      "\u001b[1;32m~\\anaconda3\\lib\\site-packages\\pandas\\core\\series.py\u001b[0m in \u001b[0;36mapply\u001b[1;34m(self, func, convert_dtype, args, **kwds)\u001b[0m\n\u001b[0;32m   4136\u001b[0m             \u001b[1;32melse\u001b[0m\u001b[1;33m:\u001b[0m\u001b[1;33m\u001b[0m\u001b[1;33m\u001b[0m\u001b[0m\n\u001b[0;32m   4137\u001b[0m                 \u001b[0mvalues\u001b[0m \u001b[1;33m=\u001b[0m \u001b[0mself\u001b[0m\u001b[1;33m.\u001b[0m\u001b[0mastype\u001b[0m\u001b[1;33m(\u001b[0m\u001b[0mobject\u001b[0m\u001b[1;33m)\u001b[0m\u001b[1;33m.\u001b[0m\u001b[0m_values\u001b[0m\u001b[1;33m\u001b[0m\u001b[1;33m\u001b[0m\u001b[0m\n\u001b[1;32m-> 4138\u001b[1;33m                 \u001b[0mmapped\u001b[0m \u001b[1;33m=\u001b[0m \u001b[0mlib\u001b[0m\u001b[1;33m.\u001b[0m\u001b[0mmap_infer\u001b[0m\u001b[1;33m(\u001b[0m\u001b[0mvalues\u001b[0m\u001b[1;33m,\u001b[0m \u001b[0mf\u001b[0m\u001b[1;33m,\u001b[0m \u001b[0mconvert\u001b[0m\u001b[1;33m=\u001b[0m\u001b[0mconvert_dtype\u001b[0m\u001b[1;33m)\u001b[0m\u001b[1;33m\u001b[0m\u001b[1;33m\u001b[0m\u001b[0m\n\u001b[0m\u001b[0;32m   4139\u001b[0m \u001b[1;33m\u001b[0m\u001b[0m\n\u001b[0;32m   4140\u001b[0m         \u001b[1;32mif\u001b[0m \u001b[0mlen\u001b[0m\u001b[1;33m(\u001b[0m\u001b[0mmapped\u001b[0m\u001b[1;33m)\u001b[0m \u001b[1;32mand\u001b[0m \u001b[0misinstance\u001b[0m\u001b[1;33m(\u001b[0m\u001b[0mmapped\u001b[0m\u001b[1;33m[\u001b[0m\u001b[1;36m0\u001b[0m\u001b[1;33m]\u001b[0m\u001b[1;33m,\u001b[0m \u001b[0mSeries\u001b[0m\u001b[1;33m)\u001b[0m\u001b[1;33m:\u001b[0m\u001b[1;33m\u001b[0m\u001b[1;33m\u001b[0m\u001b[0m\n",
      "\u001b[1;32mpandas\\_libs\\lib.pyx\u001b[0m in \u001b[0;36mpandas._libs.lib.map_infer\u001b[1;34m()\u001b[0m\n",
      "\u001b[1;32m~\\anaconda3\\lib\\site-packages\\pandas\\core\\series.py\u001b[0m in \u001b[0;36mf\u001b[1;34m(x)\u001b[0m\n\u001b[0;32m   4121\u001b[0m \u001b[1;33m\u001b[0m\u001b[0m\n\u001b[0;32m   4122\u001b[0m             \u001b[1;32mdef\u001b[0m \u001b[0mf\u001b[0m\u001b[1;33m(\u001b[0m\u001b[0mx\u001b[0m\u001b[1;33m)\u001b[0m\u001b[1;33m:\u001b[0m\u001b[1;33m\u001b[0m\u001b[1;33m\u001b[0m\u001b[0m\n\u001b[1;32m-> 4123\u001b[1;33m                 \u001b[1;32mreturn\u001b[0m \u001b[0mfunc\u001b[0m\u001b[1;33m(\u001b[0m\u001b[0mx\u001b[0m\u001b[1;33m,\u001b[0m \u001b[1;33m*\u001b[0m\u001b[0margs\u001b[0m\u001b[1;33m,\u001b[0m \u001b[1;33m**\u001b[0m\u001b[0mkwds\u001b[0m\u001b[1;33m)\u001b[0m\u001b[1;33m\u001b[0m\u001b[1;33m\u001b[0m\u001b[0m\n\u001b[0m\u001b[0;32m   4124\u001b[0m \u001b[1;33m\u001b[0m\u001b[0m\n\u001b[0;32m   4125\u001b[0m         \u001b[1;32melse\u001b[0m\u001b[1;33m:\u001b[0m\u001b[1;33m\u001b[0m\u001b[1;33m\u001b[0m\u001b[0m\n",
      "\u001b[1;31mTypeError\u001b[0m: <lambda>() got an unexpected keyword argument 'axis'"
     ]
    }
   ],
   "source": [
    "work_address['index'] = work_address.addr_dict.apply(lambda x: x['индекс'], axis=1)"
   ]
  },
  {
   "cell_type": "code",
   "execution_count": 71,
   "id": "53cee1c8",
   "metadata": {},
   "outputs": [
    {
     "data": {
      "text/html": [
       "<div>\n",
       "<style scoped>\n",
       "    .dataframe tbody tr th:only-of-type {\n",
       "        vertical-align: middle;\n",
       "    }\n",
       "\n",
       "    .dataframe tbody tr th {\n",
       "        vertical-align: top;\n",
       "    }\n",
       "\n",
       "    .dataframe thead th {\n",
       "        text-align: right;\n",
       "    }\n",
       "</style>\n",
       "<table border=\"1\" class=\"dataframe\">\n",
       "  <thead>\n",
       "    <tr style=\"text-align: right;\">\n",
       "      <th></th>\n",
       "      <th>address</th>\n",
       "      <th>addr_dict</th>\n",
       "    </tr>\n",
       "  </thead>\n",
       "  <tbody>\n",
       "    <tr>\n",
       "      <th>0</th>\n",
       "      <td>117593, г. Москва, Севастопольский проспект, д...</td>\n",
       "      <td>{'индекс': '117593', 'город': 'Москва', 'просп...</td>\n",
       "    </tr>\n",
       "    <tr>\n",
       "      <th>1</th>\n",
       "      <td>107016, г. Москва, ул. Петровка, д. 8/11, стр. 1</td>\n",
       "      <td>{'индекс': '107016', 'город': 'Москва', 'дом':...</td>\n",
       "    </tr>\n",
       "    <tr>\n",
       "      <th>2</th>\n",
       "      <td>117996, г. Москва, ул. Житная, д. 12</td>\n",
       "      <td>{'индекс': '117996', 'город': 'Москва', 'улица...</td>\n",
       "    </tr>\n",
       "    <tr>\n",
       "      <th>3</th>\n",
       "      <td>125124, г. Москва, ул. Правды, д. 6, стр. 2</td>\n",
       "      <td>{'индекс': '125124', 'город': 'Москва', 'улица...</td>\n",
       "    </tr>\n",
       "    <tr>\n",
       "      <th>4</th>\n",
       "      <td>125364, г. Москва, ул. Свободы, д. 57, корп. 1</td>\n",
       "      <td>{'индекс': '125364', 'город': 'Москва', 'улица...</td>\n",
       "    </tr>\n",
       "  </tbody>\n",
       "</table>\n",
       "</div>"
      ],
      "text/plain": [
       "                                             address  \\\n",
       "0  117593, г. Москва, Севастопольский проспект, д...   \n",
       "1   107016, г. Москва, ул. Петровка, д. 8/11, стр. 1   \n",
       "2               117996, г. Москва, ул. Житная, д. 12   \n",
       "3        125124, г. Москва, ул. Правды, д. 6, стр. 2   \n",
       "4     125364, г. Москва, ул. Свободы, д. 57, корп. 1   \n",
       "\n",
       "                                           addr_dict  \n",
       "0  {'индекс': '117593', 'город': 'Москва', 'просп...  \n",
       "1  {'индекс': '107016', 'город': 'Москва', 'дом':...  \n",
       "2  {'индекс': '117996', 'город': 'Москва', 'улица...  \n",
       "3  {'индекс': '125124', 'город': 'Москва', 'улица...  \n",
       "4  {'индекс': '125364', 'город': 'Москва', 'улица...  "
      ]
     },
     "execution_count": 71,
     "metadata": {},
     "output_type": "execute_result"
    }
   ],
   "source": [
    "work_address.head()"
   ]
  },
  {
   "cell_type": "code",
   "execution_count": null,
   "id": "c140f9ce",
   "metadata": {},
   "outputs": [],
   "source": []
  },
  {
   "cell_type": "code",
   "execution_count": 53,
   "id": "12804503",
   "metadata": {},
   "outputs": [],
   "source": [
    "addr_el = []\n",
    "\n",
    "for item in work_address.addr_dict:\n",
    "    addr_el += list(item.keys())    "
   ]
  },
  {
   "cell_type": "code",
   "execution_count": 55,
   "id": "cd829fdd",
   "metadata": {},
   "outputs": [
    {
     "data": {
      "text/plain": [
       "['село',\n",
       " 'корпус',\n",
       " None,\n",
       " 'набережная',\n",
       " 'площадь',\n",
       " 'индекс',\n",
       " 'город',\n",
       " 'страна',\n",
       " 'проезд',\n",
       " 'деревня',\n",
       " 'переулок',\n",
       " 'офис',\n",
       " 'посёлок',\n",
       " 'улица',\n",
       " 'бульвар',\n",
       " 'квартира',\n",
       " 'дом',\n",
       " 'проспект',\n",
       " 'строение',\n",
       " 'область',\n",
       " 'шоссе']"
      ]
     },
     "execution_count": 55,
     "metadata": {},
     "output_type": "execute_result"
    }
   ],
   "source": [
    "list(set(addr_el))"
   ]
  },
  {
   "cell_type": "code",
   "execution_count": null,
   "id": "6e452daf",
   "metadata": {},
   "outputs": [],
   "source": []
  },
  {
   "cell_type": "code",
   "execution_count": 27,
   "id": "aac6a355",
   "metadata": {},
   "outputs": [
    {
     "data": {
      "text/plain": [
       "\"Match(start=0, stop=23, fact=Addr(parts=[AddrPart(value='Москва', type='город'), AddrPart(value='Сиреневый', type='бульвар')]))\""
      ]
     },
     "execution_count": 27,
     "metadata": {},
     "output_type": "execute_result"
    }
   ],
   "source": [
    "str(addr_extractor.find(test))"
   ]
  },
  {
   "cell_type": "code",
   "execution_count": null,
   "id": "b0b87583",
   "metadata": {},
   "outputs": [],
   "source": [
    "path = 'C:/Data/Prodoctorov/CSV/'"
   ]
  },
  {
   "cell_type": "code",
   "execution_count": null,
   "id": "4a008612",
   "metadata": {},
   "outputs": [],
   "source": [
    "# вытаскиваю названия файлов в список file_list\n",
    "\n",
    "file_list = []\n",
    "\n",
    "for root, dirs, files in os.walk(path):\n",
    "    \n",
    "    for filename in files:\n",
    "        file_list += [filename]  "
   ]
  },
  {
   "cell_type": "code",
   "execution_count": null,
   "id": "692240a8",
   "metadata": {},
   "outputs": [],
   "source": [
    "file_list"
   ]
  },
  {
   "cell_type": "code",
   "execution_count": null,
   "id": "e07a23e6",
   "metadata": {},
   "outputs": [],
   "source": [
    "work = pd.read_csv(path + file_list[0])\n",
    "\n",
    "for file in file_list[1:]:\n",
    "    temp = pd.read_csv(path + file)\n",
    "    work = work.append(temp)"
   ]
  },
  {
   "cell_type": "code",
   "execution_count": null,
   "id": "3d9e8616",
   "metadata": {},
   "outputs": [],
   "source": [
    "# удаляю дубликаты\n",
    "\n",
    "work.drop_duplicates(inplace=True)"
   ]
  },
  {
   "cell_type": "code",
   "execution_count": null,
   "id": "4f278f24",
   "metadata": {},
   "outputs": [],
   "source": [
    "work.shape"
   ]
  },
  {
   "cell_type": "code",
   "execution_count": null,
   "id": "15644aa4",
   "metadata": {},
   "outputs": [],
   "source": [
    "work.to_excel('C:/Data/prodoctorov_mos.xlsx', encoding='utf8', index=False)"
   ]
  },
  {
   "cell_type": "code",
   "execution_count": null,
   "id": "412e55d4",
   "metadata": {},
   "outputs": [],
   "source": []
  },
  {
   "cell_type": "code",
   "execution_count": null,
   "id": "73a66c99",
   "metadata": {},
   "outputs": [],
   "source": []
  },
  {
   "cell_type": "code",
   "execution_count": 3,
   "id": "4df97ecd",
   "metadata": {},
   "outputs": [],
   "source": [
    "path = 'C:/Data/Napopravku/CSV/'"
   ]
  },
  {
   "cell_type": "code",
   "execution_count": 4,
   "id": "e6fe404f",
   "metadata": {},
   "outputs": [],
   "source": [
    "# вытаскиваю названия файлов в список file_list\n",
    "\n",
    "file_list = []\n",
    "\n",
    "for root, dirs, files in os.walk(path):\n",
    "    \n",
    "    for filename in files:\n",
    "        file_list += [filename]  "
   ]
  },
  {
   "cell_type": "code",
   "execution_count": 5,
   "id": "8cd12312",
   "metadata": {},
   "outputs": [
    {
     "data": {
      "text/plain": [
       "['napopravku_data_1.csv',\n",
       " 'napopravku_data_2.csv',\n",
       " 'napopravku_data_3.csv',\n",
       " 'napopravku_data_4.csv',\n",
       " 'napopravku_data_5.csv',\n",
       " 'napopravku_data_6.csv']"
      ]
     },
     "execution_count": 5,
     "metadata": {},
     "output_type": "execute_result"
    }
   ],
   "source": [
    "file_list"
   ]
  },
  {
   "cell_type": "code",
   "execution_count": 6,
   "id": "166dbc1a",
   "metadata": {},
   "outputs": [],
   "source": [
    "work = pd.read_csv(path + file_list[0])\n",
    "\n",
    "for file in file_list[1:]:\n",
    "    temp = pd.read_csv(path + file)\n",
    "    work = work.append(temp)"
   ]
  },
  {
   "cell_type": "code",
   "execution_count": 7,
   "id": "11ba9fb9",
   "metadata": {},
   "outputs": [
    {
     "data": {
      "text/plain": [
       "(1481, 23)"
      ]
     },
     "execution_count": 7,
     "metadata": {},
     "output_type": "execute_result"
    }
   ],
   "source": [
    "work.shape"
   ]
  },
  {
   "cell_type": "code",
   "execution_count": 8,
   "id": "e167f1a2",
   "metadata": {},
   "outputs": [],
   "source": [
    "# удаляю дубликаты\n",
    "\n",
    "work.drop_duplicates(inplace=True)"
   ]
  },
  {
   "cell_type": "code",
   "execution_count": 9,
   "id": "0b144e08",
   "metadata": {},
   "outputs": [
    {
     "data": {
      "text/plain": [
       "(1481, 23)"
      ]
     },
     "execution_count": 9,
     "metadata": {},
     "output_type": "execute_result"
    }
   ],
   "source": [
    "work.shape"
   ]
  },
  {
   "cell_type": "code",
   "execution_count": 10,
   "id": "11178d53",
   "metadata": {},
   "outputs": [
    {
     "data": {
      "text/html": [
       "<div>\n",
       "<style scoped>\n",
       "    .dataframe tbody tr th:only-of-type {\n",
       "        vertical-align: middle;\n",
       "    }\n",
       "\n",
       "    .dataframe tbody tr th {\n",
       "        vertical-align: top;\n",
       "    }\n",
       "\n",
       "    .dataframe thead th {\n",
       "        text-align: right;\n",
       "    }\n",
       "</style>\n",
       "<table border=\"1\" class=\"dataframe\">\n",
       "  <thead>\n",
       "    <tr style=\"text-align: right;\">\n",
       "      <th></th>\n",
       "      <th>Unnamed: 0</th>\n",
       "      <th>clinic_page</th>\n",
       "      <th>clinic</th>\n",
       "      <th>verified</th>\n",
       "      <th>address</th>\n",
       "      <th>metro_station</th>\n",
       "      <th>phone</th>\n",
       "      <th>work_hours</th>\n",
       "      <th>clinic_type</th>\n",
       "      <th>age_profile</th>\n",
       "      <th>...</th>\n",
       "      <th>scores_dict</th>\n",
       "      <th>main_clinic</th>\n",
       "      <th>main_clinic_page</th>\n",
       "      <th>advantages</th>\n",
       "      <th>description</th>\n",
       "      <th>year_f</th>\n",
       "      <th>doc_numbers</th>\n",
       "      <th>specialist</th>\n",
       "      <th>full_price</th>\n",
       "      <th>clinic_table</th>\n",
       "    </tr>\n",
       "  </thead>\n",
       "  <tbody>\n",
       "    <tr>\n",
       "      <th>241</th>\n",
       "      <td>241</td>\n",
       "      <td>https://napopravku.ru/moskva/clinics/stomatolo...</td>\n",
       "      <td>Стоматология «Стелла»</td>\n",
       "      <td>1</td>\n",
       "      <td>г Москва, ул Куусинена, д 6 к 6</td>\n",
       "      <td>Полежаевская (500 м)</td>\n",
       "      <td>+7 (499) 195-13-93</td>\n",
       "      <td>none</td>\n",
       "      <td>Частные специализированные стоматологические к...</td>\n",
       "      <td>Взрослых</td>\n",
       "      <td>...</td>\n",
       "      <td>{}</td>\n",
       "      <td>none</td>\n",
       "      <td>none</td>\n",
       "      <td>['Стоматологическая клиника', 'Специализирован...</td>\n",
       "      <td>none</td>\n",
       "      <td>none</td>\n",
       "      <td>6</td>\n",
       "      <td>{'Егорова Е. П.': {'rating': 'none', 'review_n...</td>\n",
       "      <td>{'Удаление зуба мудрости': 'Цену уточняйте по ...</td>\n",
       "      <td>{'Тип': 'Частные специализированные стоматолог...</td>\n",
       "    </tr>\n",
       "    <tr>\n",
       "      <th>256</th>\n",
       "      <td>256</td>\n",
       "      <td>https://napopravku.ru/moskva/clinics/stomatolo...</td>\n",
       "      <td>Стоматология Мастердент на Волгоградском</td>\n",
       "      <td>1</td>\n",
       "      <td>г Москва, пр-кт Волгоградский, д 54</td>\n",
       "      <td>Кузьминки (900 м)</td>\n",
       "      <td>+7 (499) 685-10-09</td>\n",
       "      <td>none</td>\n",
       "      <td>Частные специализированные стоматологические к...</td>\n",
       "      <td>Взрослых и детей</td>\n",
       "      <td>...</td>\n",
       "      <td>{'Отлично': '2', 'Хорошо': '0', 'Нормально': '...</td>\n",
       "      <td>Мастердент, сеть стоматологий</td>\n",
       "      <td>https://napopravku.ru/moskva/clinics/masterden...</td>\n",
       "      <td>['Стоматологическая клиника', 'Специализирован...</td>\n",
       "      <td>none</td>\n",
       "      <td>none</td>\n",
       "      <td>4</td>\n",
       "      <td>{'Дорогина Светлана Николаевна': {'rating': '5...</td>\n",
       "      <td>{'Брекеты': 'Цену уточняйте по телефону', 'Уда...</td>\n",
       "      <td>{'Головная клиника': 'Мастердент, сеть стомато...</td>\n",
       "    </tr>\n",
       "  </tbody>\n",
       "</table>\n",
       "<p>2 rows × 23 columns</p>\n",
       "</div>"
      ],
      "text/plain": [
       "     Unnamed: 0                                        clinic_page  \\\n",
       "241         241  https://napopravku.ru/moskva/clinics/stomatolo...   \n",
       "256         256  https://napopravku.ru/moskva/clinics/stomatolo...   \n",
       "\n",
       "                                       clinic  verified  \\\n",
       "241                     Стоматология «Стелла»         1   \n",
       "256  Стоматология Мастердент на Волгоградском         1   \n",
       "\n",
       "                                 address         metro_station  \\\n",
       "241      г Москва, ул Куусинена, д 6 к 6  Полежаевская (500 м)   \n",
       "256  г Москва, пр-кт Волгоградский, д 54     Кузьминки (900 м)   \n",
       "\n",
       "                  phone work_hours  \\\n",
       "241  +7 (499) 195-13-93       none   \n",
       "256  +7 (499) 685-10-09       none   \n",
       "\n",
       "                                           clinic_type       age_profile  ...  \\\n",
       "241  Частные специализированные стоматологические к...          Взрослых  ...   \n",
       "256  Частные специализированные стоматологические к...  Взрослых и детей  ...   \n",
       "\n",
       "                                           scores_dict  \\\n",
       "241                                                 {}   \n",
       "256  {'Отлично': '2', 'Хорошо': '0', 'Нормально': '...   \n",
       "\n",
       "                       main_clinic  \\\n",
       "241                           none   \n",
       "256  Мастердент, сеть стоматологий   \n",
       "\n",
       "                                      main_clinic_page  \\\n",
       "241                                               none   \n",
       "256  https://napopravku.ru/moskva/clinics/masterden...   \n",
       "\n",
       "                                            advantages description year_f  \\\n",
       "241  ['Стоматологическая клиника', 'Специализирован...        none   none   \n",
       "256  ['Стоматологическая клиника', 'Специализирован...        none   none   \n",
       "\n",
       "    doc_numbers                                         specialist  \\\n",
       "241           6  {'Егорова Е. П.': {'rating': 'none', 'review_n...   \n",
       "256           4  {'Дорогина Светлана Николаевна': {'rating': '5...   \n",
       "\n",
       "                                            full_price  \\\n",
       "241  {'Удаление зуба мудрости': 'Цену уточняйте по ...   \n",
       "256  {'Брекеты': 'Цену уточняйте по телефону', 'Уда...   \n",
       "\n",
       "                                          clinic_table  \n",
       "241  {'Тип': 'Частные специализированные стоматолог...  \n",
       "256  {'Головная клиника': 'Мастердент, сеть стомато...  \n",
       "\n",
       "[2 rows x 23 columns]"
      ]
     },
     "execution_count": 10,
     "metadata": {},
     "output_type": "execute_result"
    }
   ],
   "source": [
    "work.sample(2)"
   ]
  },
  {
   "cell_type": "code",
   "execution_count": null,
   "id": "9b010f08",
   "metadata": {},
   "outputs": [],
   "source": []
  },
  {
   "cell_type": "code",
   "execution_count": 37,
   "id": "c105de9d",
   "metadata": {},
   "outputs": [],
   "source": [
    "test = 'Московская обл, г Реутов, пр-кт Юбилейный, д 59'"
   ]
  },
  {
   "cell_type": "code",
   "execution_count": 41,
   "id": "270c6be7",
   "metadata": {},
   "outputs": [],
   "source": [
    "temp = addr_extractor.find(test)"
   ]
  },
  {
   "cell_type": "code",
   "execution_count": null,
   "id": "e91a5b22",
   "metadata": {},
   "outputs": [],
   "source": []
  },
  {
   "cell_type": "code",
   "execution_count": null,
   "id": "ca90a929",
   "metadata": {},
   "outputs": [],
   "source": [
    "work.to_excel('C:/Data/napopravku_mos.xlsx', encoding='utf8', index=False)"
   ]
  },
  {
   "cell_type": "code",
   "execution_count": null,
   "id": "0336a1ea",
   "metadata": {},
   "outputs": [],
   "source": []
  },
  {
   "cell_type": "code",
   "execution_count": null,
   "id": "23051d4a",
   "metadata": {},
   "outputs": [],
   "source": []
  },
  {
   "cell_type": "code",
   "execution_count": null,
   "id": "87f6dde2",
   "metadata": {},
   "outputs": [],
   "source": []
  }
 ],
 "metadata": {
  "kernelspec": {
   "display_name": "Python 3",
   "language": "python",
   "name": "python3"
  },
  "language_info": {
   "codemirror_mode": {
    "name": "ipython",
    "version": 3
   },
   "file_extension": ".py",
   "mimetype": "text/x-python",
   "name": "python",
   "nbconvert_exporter": "python",
   "pygments_lexer": "ipython3",
   "version": "3.8.8"
  }
 },
 "nbformat": 4,
 "nbformat_minor": 5
}
