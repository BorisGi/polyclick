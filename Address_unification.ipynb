{
 "cells": [
  {
   "cell_type": "code",
   "execution_count": 1,
   "id": "28997a7a",
   "metadata": {},
   "outputs": [],
   "source": [
    "#Загружаем нужные библиотеки\n",
    "\n",
    "import pandas as pd\n",
    "\n",
    "\n",
    "from natasha import (\n",
    "    Segmenter,\n",
    "    MorphVocab,\n",
    "    \n",
    "    NewsEmbedding,\n",
    "    NewsMorphTagger,\n",
    "    NewsSyntaxParser,\n",
    "    NewsNERTagger,\n",
    "    \n",
    "    PER,\n",
    "    NamesExtractor,\n",
    "    DatesExtractor,\n",
    "    MoneyExtractor,\n",
    "    AddrExtractor,\n",
    "\n",
    "    Doc\n",
    ")\n",
    "\n",
    "segmenter = Segmenter()\n",
    "morph_vocab = MorphVocab()\n",
    "\n",
    "emb = NewsEmbedding()\n",
    "morph_tagger = NewsMorphTagger(emb)\n",
    "syntax_parser = NewsSyntaxParser(emb)\n",
    "ner_tagger = NewsNERTagger(emb)\n",
    "\n",
    "names_extractor = NamesExtractor(morph_vocab)\n",
    "dates_extractor = DatesExtractor(morph_vocab)\n",
    "money_extractor = MoneyExtractor(morph_vocab)\n",
    "addr_extractor = AddrExtractor(morph_vocab)"
   ]
  },
  {
   "cell_type": "code",
   "execution_count": 2,
   "id": "ccb84bc2",
   "metadata": {},
   "outputs": [],
   "source": [
    "work = pd.read_excel('C:/Data/KT/KT_zoon.xlsx')"
   ]
  },
  {
   "cell_type": "code",
   "execution_count": 3,
   "id": "4e5bae22",
   "metadata": {},
   "outputs": [
    {
     "data": {
      "text/html": [
       "<div>\n",
       "<style scoped>\n",
       "    .dataframe tbody tr th:only-of-type {\n",
       "        vertical-align: middle;\n",
       "    }\n",
       "\n",
       "    .dataframe tbody tr th {\n",
       "        vertical-align: top;\n",
       "    }\n",
       "\n",
       "    .dataframe thead th {\n",
       "        text-align: right;\n",
       "    }\n",
       "</style>\n",
       "<table border=\"1\" class=\"dataframe\">\n",
       "  <thead>\n",
       "    <tr style=\"text-align: right;\">\n",
       "      <th></th>\n",
       "      <th>clinic</th>\n",
       "      <th>longitude</th>\n",
       "      <th>latitude</th>\n",
       "      <th>address</th>\n",
       "      <th>clinic_page</th>\n",
       "    </tr>\n",
       "  </thead>\n",
       "  <tbody>\n",
       "    <tr>\n",
       "      <th>0</th>\n",
       "      <td>Ника Орто</td>\n",
       "      <td>37.175284</td>\n",
       "      <td>55.996318</td>\n",
       "      <td>Москва, к1126, Зеленоград</td>\n",
       "      <td>https://zoon.ru/msk/medical/stomatologicheskay...</td>\n",
       "    </tr>\n",
       "    <tr>\n",
       "      <th>1</th>\n",
       "      <td>Никор</td>\n",
       "      <td>37.190541</td>\n",
       "      <td>55.995152</td>\n",
       "      <td>Москва, к1204, Зеленоград</td>\n",
       "      <td>https://zoon.ru/msk/medical/stomatologicheskay...</td>\n",
       "    </tr>\n",
       "    <tr>\n",
       "      <th>2</th>\n",
       "      <td>Клиника Аксис</td>\n",
       "      <td>37.180919</td>\n",
       "      <td>55.996641</td>\n",
       "      <td>Москва, к1130, Зеленоград</td>\n",
       "      <td>https://zoon.ru/msk/medical/klinika_aksis_v_ze...</td>\n",
       "    </tr>\n",
       "    <tr>\n",
       "      <th>3</th>\n",
       "      <td>Астрея</td>\n",
       "      <td>37.191151</td>\n",
       "      <td>55.999213</td>\n",
       "      <td>Москва, к1108, 1 этаж, Зеленоград</td>\n",
       "      <td>https://zoon.ru/msk/medical/lechebnyj_tsentr_a...</td>\n",
       "    </tr>\n",
       "    <tr>\n",
       "      <th>4</th>\n",
       "      <td>Медицинский центр Норма-XXI</td>\n",
       "      <td>37.205749</td>\n",
       "      <td>56.000457</td>\n",
       "      <td>к403а, 2 этаж, Зеленоград</td>\n",
       "      <td>https://zoon.ru/msk/medical/meditsinskij_tsent...</td>\n",
       "    </tr>\n",
       "    <tr>\n",
       "      <th>...</th>\n",
       "      <td>...</td>\n",
       "      <td>...</td>\n",
       "      <td>...</td>\n",
       "      <td>...</td>\n",
       "      <td>...</td>\n",
       "    </tr>\n",
       "    <tr>\n",
       "      <th>3999</th>\n",
       "      <td>Твой Стоматолог</td>\n",
       "      <td>37.547463</td>\n",
       "      <td>55.410312</td>\n",
       "      <td>Московская обл, Пионерская улица, 6, пом.1, По...</td>\n",
       "      <td>https://zoon.ru/msk/medical/stomatologicheskay...</td>\n",
       "    </tr>\n",
       "    <tr>\n",
       "      <th>4000</th>\n",
       "      <td>Дентал Клиник Плюс</td>\n",
       "      <td>37.570303</td>\n",
       "      <td>55.407564</td>\n",
       "      <td>Молодежная улица, 6, 1 помещение, Подольск</td>\n",
       "      <td>https://zoon.ru/msk/medical/stomatologiya_dent...</td>\n",
       "    </tr>\n",
       "    <tr>\n",
       "      <th>4001</th>\n",
       "      <td>Радуга-09</td>\n",
       "      <td>37.559106</td>\n",
       "      <td>55.403064</td>\n",
       "      <td>Давыдова, 16, Подольск</td>\n",
       "      <td>https://zoon.ru/msk/medical/stomatologicheskay...</td>\n",
       "    </tr>\n",
       "    <tr>\n",
       "      <th>4002</th>\n",
       "      <td>Вивадента</td>\n",
       "      <td>37.765559</td>\n",
       "      <td>55.404795</td>\n",
       "      <td>улица Курыжова, 3, 2 этаж, Домодедово</td>\n",
       "      <td>https://zoon.ru/msk/medical/stomatologicheskay...</td>\n",
       "    </tr>\n",
       "    <tr>\n",
       "      <th>4003</th>\n",
       "      <td>Поликлиника № 1</td>\n",
       "      <td>37.765300</td>\n",
       "      <td>55.405337</td>\n",
       "      <td>улица Курыжова, 1, Домодедово</td>\n",
       "      <td>https://zoon.ru/msk/medical/poliklinika_1_v_do...</td>\n",
       "    </tr>\n",
       "  </tbody>\n",
       "</table>\n",
       "<p>4004 rows × 5 columns</p>\n",
       "</div>"
      ],
      "text/plain": [
       "                           clinic  longitude   latitude  \\\n",
       "0                       Ника Орто  37.175284  55.996318   \n",
       "1                           Никор  37.190541  55.995152   \n",
       "2                   Клиника Аксис  37.180919  55.996641   \n",
       "3                          Астрея  37.191151  55.999213   \n",
       "4     Медицинский центр Норма-XXI  37.205749  56.000457   \n",
       "...                           ...        ...        ...   \n",
       "3999              Твой Стоматолог  37.547463  55.410312   \n",
       "4000           Дентал Клиник Плюс  37.570303  55.407564   \n",
       "4001                    Радуга-09  37.559106  55.403064   \n",
       "4002                    Вивадента  37.765559  55.404795   \n",
       "4003              Поликлиника № 1  37.765300  55.405337   \n",
       "\n",
       "                                                address  \\\n",
       "0                             Москва, к1126, Зеленоград   \n",
       "1                             Москва, к1204, Зеленоград   \n",
       "2                             Москва, к1130, Зеленоград   \n",
       "3                     Москва, к1108, 1 этаж, Зеленоград   \n",
       "4                             к403а, 2 этаж, Зеленоград   \n",
       "...                                                 ...   \n",
       "3999  Московская обл, Пионерская улица, 6, пом.1, По...   \n",
       "4000         Молодежная улица, 6, 1 помещение, Подольск   \n",
       "4001                             Давыдова, 16, Подольск   \n",
       "4002              улица Курыжова, 3, 2 этаж, Домодедово   \n",
       "4003                      улица Курыжова, 1, Домодедово   \n",
       "\n",
       "                                            clinic_page  \n",
       "0     https://zoon.ru/msk/medical/stomatologicheskay...  \n",
       "1     https://zoon.ru/msk/medical/stomatologicheskay...  \n",
       "2     https://zoon.ru/msk/medical/klinika_aksis_v_ze...  \n",
       "3     https://zoon.ru/msk/medical/lechebnyj_tsentr_a...  \n",
       "4     https://zoon.ru/msk/medical/meditsinskij_tsent...  \n",
       "...                                                 ...  \n",
       "3999  https://zoon.ru/msk/medical/stomatologicheskay...  \n",
       "4000  https://zoon.ru/msk/medical/stomatologiya_dent...  \n",
       "4001  https://zoon.ru/msk/medical/stomatologicheskay...  \n",
       "4002  https://zoon.ru/msk/medical/stomatologicheskay...  \n",
       "4003  https://zoon.ru/msk/medical/poliklinika_1_v_do...  \n",
       "\n",
       "[4004 rows x 5 columns]"
      ]
     },
     "execution_count": 3,
     "metadata": {},
     "output_type": "execute_result"
    }
   ],
   "source": [
    "work"
   ]
  },
  {
   "cell_type": "code",
   "execution_count": null,
   "id": "1b43347d",
   "metadata": {},
   "outputs": [],
   "source": []
  },
  {
   "cell_type": "code",
   "execution_count": null,
   "id": "bd0059d7",
   "metadata": {},
   "outputs": [],
   "source": []
  },
  {
   "cell_type": "code",
   "execution_count": 9,
   "id": "cabfb112",
   "metadata": {},
   "outputs": [],
   "source": [
    "test = 'Молодежная, 6, 1 помещение, Подольск'"
   ]
  },
  {
   "cell_type": "code",
   "execution_count": 10,
   "id": "29cf2821",
   "metadata": {},
   "outputs": [],
   "source": [
    "text = addr_extractor.find(test)"
   ]
  },
  {
   "cell_type": "code",
   "execution_count": 11,
   "id": "ec3f3823",
   "metadata": {},
   "outputs": [
    {
     "data": {
      "text/plain": [
       "natasha.extractors.Match"
      ]
     },
     "execution_count": 11,
     "metadata": {},
     "output_type": "execute_result"
    }
   ],
   "source": [
    "type(text)"
   ]
  },
  {
   "cell_type": "code",
   "execution_count": 12,
   "id": "dd588b00",
   "metadata": {},
   "outputs": [
    {
     "data": {
      "text/plain": [
       "Match(\n",
       "    start=28,\n",
       "    stop=36,\n",
       "    fact=Addr(\n",
       "        parts=[AddrPart(\n",
       "             value='Подольск',\n",
       "             type=None\n",
       "         )]\n",
       "    )\n",
       ")"
      ]
     },
     "execution_count": 12,
     "metadata": {},
     "output_type": "execute_result"
    }
   ],
   "source": [
    "text"
   ]
  },
  {
   "cell_type": "code",
   "execution_count": null,
   "id": "9a230e4b",
   "metadata": {},
   "outputs": [],
   "source": []
  },
  {
   "cell_type": "code",
   "execution_count": null,
   "id": "1d92d051",
   "metadata": {},
   "outputs": [],
   "source": []
  }
 ],
 "metadata": {
  "kernelspec": {
   "display_name": "Python 3",
   "language": "python",
   "name": "python3"
  },
  "language_info": {
   "codemirror_mode": {
    "name": "ipython",
    "version": 3
   },
   "file_extension": ".py",
   "mimetype": "text/x-python",
   "name": "python",
   "nbconvert_exporter": "python",
   "pygments_lexer": "ipython3",
   "version": "3.8.8"
  }
 },
 "nbformat": 4,
 "nbformat_minor": 5
}
