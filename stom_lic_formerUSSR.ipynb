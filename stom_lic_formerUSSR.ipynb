{
 "cells": [
  {
   "cell_type": "code",
   "execution_count": 1,
   "id": "9892e5ed",
   "metadata": {},
   "outputs": [],
   "source": [
    "import pandas as pd"
   ]
  },
  {
   "cell_type": "code",
   "execution_count": null,
   "id": "46c2b9b5",
   "metadata": {},
   "outputs": [],
   "source": []
  },
  {
   "cell_type": "code",
   "execution_count": 2,
   "id": "3a611a16",
   "metadata": {},
   "outputs": [],
   "source": [
    "work_bel = pd.read_csv('C:/00_Data/forUSSR/med_lic_Bel_2019.csv')"
   ]
  },
  {
   "cell_type": "code",
   "execution_count": 4,
   "id": "24bfa030",
   "metadata": {},
   "outputs": [
    {
     "data": {
      "text/plain": [
       "['category',\n",
       " 'extraRegion',\n",
       " 'companyName',\n",
       " 'companyAddr',\n",
       " 'companyLicenseNumber',\n",
       " 'companyLicenseStartDate',\n",
       " 'companyLicenseEndDate',\n",
       " 'office',\n",
       " 'properties']"
      ]
     },
     "execution_count": 4,
     "metadata": {},
     "output_type": "execute_result"
    }
   ],
   "source": [
    "work_bel.columns.to_list()"
   ]
  },
  {
   "cell_type": "code",
   "execution_count": 16,
   "id": "c356e791",
   "metadata": {},
   "outputs": [],
   "source": [
    "work_bel[\n",
    "    (work_bel.category == 'medicine') &\n",
    "    (\n",
    "        (work_bel.properties.str.contains('стоматол', case=False)) |\n",
    "        (work_bel.properties.str.contains('ортодонт', case=False))\n",
    "    )\n",
    "        ].to_excel('C:/00_Data/temp.xlsx', index=False)"
   ]
  },
  {
   "cell_type": "code",
   "execution_count": null,
   "id": "bbdc113f",
   "metadata": {},
   "outputs": [],
   "source": []
  },
  {
   "cell_type": "code",
   "execution_count": 18,
   "id": "72b11fdf",
   "metadata": {},
   "outputs": [],
   "source": [
    "work_kirg = pd.read_excel('C:/00_Data/forUSSR/K2019.xlsx')"
   ]
  },
  {
   "cell_type": "code",
   "execution_count": 22,
   "id": "be741dc2",
   "metadata": {},
   "outputs": [],
   "source": [
    "work_kirg[\n",
    "    (work_kirg['Вид деятельности'].str.contains('стоматол', case=False)) |\n",
    "    (work_kirg['Вид деятельности'].str.contains('ортодонт', case=False))\n",
    "].to_excel('C:/00_Data/temp.xlsx', index=False)"
   ]
  },
  {
   "cell_type": "code",
   "execution_count": null,
   "id": "cea50cb4",
   "metadata": {},
   "outputs": [],
   "source": []
  },
  {
   "cell_type": "code",
   "execution_count": null,
   "id": "27741218",
   "metadata": {},
   "outputs": [],
   "source": []
  },
  {
   "cell_type": "code",
   "execution_count": null,
   "id": "66a9b9ad",
   "metadata": {},
   "outputs": [],
   "source": []
  }
 ],
 "metadata": {
  "kernelspec": {
   "display_name": "Python 3",
   "language": "python",
   "name": "python3"
  },
  "language_info": {
   "codemirror_mode": {
    "name": "ipython",
    "version": 3
   },
   "file_extension": ".py",
   "mimetype": "text/x-python",
   "name": "python",
   "nbconvert_exporter": "python",
   "pygments_lexer": "ipython3",
   "version": "3.8.8"
  }
 },
 "nbformat": 4,
 "nbformat_minor": 5
}
